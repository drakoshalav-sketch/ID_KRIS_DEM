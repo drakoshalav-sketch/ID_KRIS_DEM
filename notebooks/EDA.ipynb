{
 "cells": [
  {
   "metadata": {},
   "cell_type": "markdown",
   "source": [
    "# Исследовательский анализ данных (EDA)\n",
    "## Датасет: Вакансии\n",
    "## Содержание\n",
    "1. [Введение](#1.-Введение)\n",
    "2. [Загрузка данных](#2.-Загрузка-данных)\n",
    "3. [Оценка структуры данных](#3.-Оценка-структуры-данных)\n",
    "4. [Оценка целостности и полноты данных](#4.-Оценка-целостности-и-полноты-данных)\n",
    "5. [Оценка выбросов и аномалий](#5.-Оценка-выбросов-и-аномалий)\n",
    "6. [Заключение](#6.-Заключение)\n"
   ],
   "id": "d29ddaa1e679deb0"
  },
  {
   "metadata": {},
   "cell_type": "markdown",
   "source": [
    "## 1. Введение\n",
    "\n",
    "### Цель анализа\n",
    "Провести первичный исследовательский анализ датасета с вакансиями для оценки качества данных, выявления проблем и подготовки к дальнейшему анализу.\n",
    "\n",
    "### О датасете\n",
    "Датасет содержит информацию о вакансиях из различных источников, включая:\n",
    "- Информацию о компаниях и позициях\n",
    "- Географические данные\n",
    "- Данные о датах публикации\n",
    "- Категориальные признаки (тип работы, сектор)"
   ],
   "id": "f4f2598160068d4b"
  },
  {
   "metadata": {
    "ExecuteTime": {
     "end_time": "2025-10-29T18:14:19.069510Z",
     "start_time": "2025-10-29T18:14:19.065345Z"
    }
   },
   "cell_type": "code",
   "source": [
    "# Импорт необходимых библиотек\n",
    "import pandas as pd\n",
    "import numpy as np\n",
    "from datetime import datetime\n",
    "\n",
    "# Настройка отображения pandas\n",
    "pd.set_option('display.max_columns', None)\n",
    "pd.set_option('display.max_rows', 100)\n",
    "pd.set_option('display.width', None)\n",
    "\n",
    "print(\"Библиотеки успешно загружены\")\n",
    "print(f\"Pandas версия: {pd.__version__}\")\n"
   ],
   "id": "7c8eac696392ecad",
   "outputs": [
    {
     "name": "stdout",
     "output_type": "stream",
     "text": [
      "Библиотеки успешно загружены\n",
      "Pandas версия: 2.3.3\n"
     ]
    }
   ],
   "execution_count": 198
  },
  {
   "metadata": {},
   "cell_type": "markdown",
   "source": [
    "## 2. Загрузка данных\n",
    "\n",
    "Загружаем датасет с Google Drive и выполняем первичную обработку типов данных."
   ],
   "id": "f79b8a67dc0cb650"
  },
  {
   "metadata": {
    "ExecuteTime": {
     "end_time": "2025-10-29T18:14:35.762877Z",
     "start_time": "2025-10-29T18:14:19.137598Z"
    }
   },
   "cell_type": "code",
   "source": [
    "# Загрузка данных\n",
    "FILE_ID = \"17jS24dobHhStIKS0M1m9kdGf4qST3r35\"\n",
    "file_url = f\"https://drive.google.com/uc?export=download&id={FILE_ID}\"\n",
    "\n",
    "try:\n",
    "    # Считываем CSV-файл\n",
    "    raw_data = pd.read_csv(\n",
    "        file_url,\n",
    "        sep=\",\",\n",
    "        quotechar='\"',\n",
    "        skipinitialspace=True,\n",
    "        encoding=\"utf-8\",\n",
    "        on_bad_lines=\"skip\"\n",
    "    )\n",
    "\n",
    "    print(\"✅ Датасет успешно загружен\")\n",
    "    print(f\"📊 Размер датасета: {raw_data.shape[0]} строк, {raw_data.shape[1]} столбцов\")\n",
    "\n",
    "except Exception as e:\n",
    "    print(f\"❌ Ошибка при загрузке: {e}\")\n",
    "    raise\n"
   ],
   "id": "e2904745c1a9cea6",
   "outputs": [
    {
     "name": "stdout",
     "output_type": "stream",
     "text": [
      "✅ Датасет успешно загружен\n",
      "📊 Размер датасета: 22000 строк, 14 столбцов\n"
     ]
    }
   ],
   "execution_count": 199
  },
  {
   "metadata": {
    "ExecuteTime": {
     "end_time": "2025-10-29T18:14:35.826743Z",
     "start_time": "2025-10-29T18:14:35.817554Z"
    }
   },
   "cell_type": "code",
   "source": [
    "# Первый взгляд на данные\n",
    "print(\"Первые 5 строк датасета:\")\n",
    "raw_data.head()\n"
   ],
   "id": "1ee288bd01d517ed",
   "outputs": [
    {
     "name": "stdout",
     "output_type": "stream",
     "text": [
      "Первые 5 строк датасета:\n"
     ]
    },
    {
     "data": {
      "text/plain": [
       "                    country country_code date_added has_expired  \\\n",
       "0  United States of America           US        NaN          No   \n",
       "1  United States of America           US        NaN          No   \n",
       "2  United States of America           US        NaN          No   \n",
       "3  United States of America           US        NaN          No   \n",
       "4  United States of America           US        NaN          No   \n",
       "\n",
       "          job_board                                    job_description  \\\n",
       "0  jobs.monster.com  TeamSoft is seeing an IT Support Specialist to...   \n",
       "1  jobs.monster.com  The Wisconsin State Journal is seeking a flexi...   \n",
       "2  jobs.monster.com  Report this job About the Job DePuy Synthes Co...   \n",
       "3  jobs.monster.com  Why Join Altec? If you’re considering a career...   \n",
       "4  jobs.monster.com  Position ID#  76162 # Positions  1 State  CT C...   \n",
       "\n",
       "                                           job_title             job_type  \\\n",
       "0               IT Support Technician Job in Madison   Full Time Employee   \n",
       "1            Business Reporter/Editor Job in Madison            Full Time   \n",
       "2  Johnson & Johnson Family of Companies Job Appl...  Full Time, Employee   \n",
       "3                    Engineer - Quality Job in Dixon            Full Time   \n",
       "4       Shift Supervisor - Part-Time Job in Camphill   Full Time Employee   \n",
       "\n",
       "                                            location  \\\n",
       "0                                  Madison, WI 53702   \n",
       "1                                  Madison, WI 53708   \n",
       "2  DePuy Synthes Companies is a member of Johnson...   \n",
       "3                                          Dixon, CA   \n",
       "4                                       Camphill, PA   \n",
       "\n",
       "                      organization  \\\n",
       "0                              NaN   \n",
       "1          Printing and Publishing   \n",
       "2  Personal and Household Services   \n",
       "3                 Altec Industries   \n",
       "4                           Retail   \n",
       "\n",
       "                                            page_url salary  \\\n",
       "0  http://jobview.monster.com/it-support-technici...    NaN   \n",
       "1  http://jobview.monster.com/business-reporter-e...    NaN   \n",
       "2  http://jobview.monster.com/senior-training-lea...    NaN   \n",
       "3  http://jobview.monster.com/engineer-quality-jo...    NaN   \n",
       "4  http://jobview.monster.com/shift-supervisor-pa...    NaN   \n",
       "\n",
       "                       sector                           uniq_id  \n",
       "0     IT/Software Development  11d599f229a80023d2f40e7c52cd941e  \n",
       "1                         NaN  e4cbb126dabf22159aff90223243ff2a  \n",
       "2                         NaN  839106b353877fa3d896ffb9c1fe01c0  \n",
       "3   Experienced (Non-Manager)  58435fcab804439efdcaa7ecca0fd783  \n",
       "4  Project/Program Management  64d0272dc8496abfd9523a8df63c184c  "
      ],
      "text/html": [
       "<div>\n",
       "<style scoped>\n",
       "    .dataframe tbody tr th:only-of-type {\n",
       "        vertical-align: middle;\n",
       "    }\n",
       "\n",
       "    .dataframe tbody tr th {\n",
       "        vertical-align: top;\n",
       "    }\n",
       "\n",
       "    .dataframe thead th {\n",
       "        text-align: right;\n",
       "    }\n",
       "</style>\n",
       "<table border=\"1\" class=\"dataframe\">\n",
       "  <thead>\n",
       "    <tr style=\"text-align: right;\">\n",
       "      <th></th>\n",
       "      <th>country</th>\n",
       "      <th>country_code</th>\n",
       "      <th>date_added</th>\n",
       "      <th>has_expired</th>\n",
       "      <th>job_board</th>\n",
       "      <th>job_description</th>\n",
       "      <th>job_title</th>\n",
       "      <th>job_type</th>\n",
       "      <th>location</th>\n",
       "      <th>organization</th>\n",
       "      <th>page_url</th>\n",
       "      <th>salary</th>\n",
       "      <th>sector</th>\n",
       "      <th>uniq_id</th>\n",
       "    </tr>\n",
       "  </thead>\n",
       "  <tbody>\n",
       "    <tr>\n",
       "      <th>0</th>\n",
       "      <td>United States of America</td>\n",
       "      <td>US</td>\n",
       "      <td>NaN</td>\n",
       "      <td>No</td>\n",
       "      <td>jobs.monster.com</td>\n",
       "      <td>TeamSoft is seeing an IT Support Specialist to...</td>\n",
       "      <td>IT Support Technician Job in Madison</td>\n",
       "      <td>Full Time Employee</td>\n",
       "      <td>Madison, WI 53702</td>\n",
       "      <td>NaN</td>\n",
       "      <td>http://jobview.monster.com/it-support-technici...</td>\n",
       "      <td>NaN</td>\n",
       "      <td>IT/Software Development</td>\n",
       "      <td>11d599f229a80023d2f40e7c52cd941e</td>\n",
       "    </tr>\n",
       "    <tr>\n",
       "      <th>1</th>\n",
       "      <td>United States of America</td>\n",
       "      <td>US</td>\n",
       "      <td>NaN</td>\n",
       "      <td>No</td>\n",
       "      <td>jobs.monster.com</td>\n",
       "      <td>The Wisconsin State Journal is seeking a flexi...</td>\n",
       "      <td>Business Reporter/Editor Job in Madison</td>\n",
       "      <td>Full Time</td>\n",
       "      <td>Madison, WI 53708</td>\n",
       "      <td>Printing and Publishing</td>\n",
       "      <td>http://jobview.monster.com/business-reporter-e...</td>\n",
       "      <td>NaN</td>\n",
       "      <td>NaN</td>\n",
       "      <td>e4cbb126dabf22159aff90223243ff2a</td>\n",
       "    </tr>\n",
       "    <tr>\n",
       "      <th>2</th>\n",
       "      <td>United States of America</td>\n",
       "      <td>US</td>\n",
       "      <td>NaN</td>\n",
       "      <td>No</td>\n",
       "      <td>jobs.monster.com</td>\n",
       "      <td>Report this job About the Job DePuy Synthes Co...</td>\n",
       "      <td>Johnson &amp; Johnson Family of Companies Job Appl...</td>\n",
       "      <td>Full Time, Employee</td>\n",
       "      <td>DePuy Synthes Companies is a member of Johnson...</td>\n",
       "      <td>Personal and Household Services</td>\n",
       "      <td>http://jobview.monster.com/senior-training-lea...</td>\n",
       "      <td>NaN</td>\n",
       "      <td>NaN</td>\n",
       "      <td>839106b353877fa3d896ffb9c1fe01c0</td>\n",
       "    </tr>\n",
       "    <tr>\n",
       "      <th>3</th>\n",
       "      <td>United States of America</td>\n",
       "      <td>US</td>\n",
       "      <td>NaN</td>\n",
       "      <td>No</td>\n",
       "      <td>jobs.monster.com</td>\n",
       "      <td>Why Join Altec? If you’re considering a career...</td>\n",
       "      <td>Engineer - Quality Job in Dixon</td>\n",
       "      <td>Full Time</td>\n",
       "      <td>Dixon, CA</td>\n",
       "      <td>Altec Industries</td>\n",
       "      <td>http://jobview.monster.com/engineer-quality-jo...</td>\n",
       "      <td>NaN</td>\n",
       "      <td>Experienced (Non-Manager)</td>\n",
       "      <td>58435fcab804439efdcaa7ecca0fd783</td>\n",
       "    </tr>\n",
       "    <tr>\n",
       "      <th>4</th>\n",
       "      <td>United States of America</td>\n",
       "      <td>US</td>\n",
       "      <td>NaN</td>\n",
       "      <td>No</td>\n",
       "      <td>jobs.monster.com</td>\n",
       "      <td>Position ID#  76162 # Positions  1 State  CT C...</td>\n",
       "      <td>Shift Supervisor - Part-Time Job in Camphill</td>\n",
       "      <td>Full Time Employee</td>\n",
       "      <td>Camphill, PA</td>\n",
       "      <td>Retail</td>\n",
       "      <td>http://jobview.monster.com/shift-supervisor-pa...</td>\n",
       "      <td>NaN</td>\n",
       "      <td>Project/Program Management</td>\n",
       "      <td>64d0272dc8496abfd9523a8df63c184c</td>\n",
       "    </tr>\n",
       "  </tbody>\n",
       "</table>\n",
       "</div>"
      ]
     },
     "execution_count": 200,
     "metadata": {},
     "output_type": "execute_result"
    }
   ],
   "execution_count": 200
  },
  {
   "metadata": {
    "ExecuteTime": {
     "end_time": "2025-10-29T18:14:35.975658Z",
     "start_time": "2025-10-29T18:14:35.949758Z"
    }
   },
   "cell_type": "code",
   "source": [
    "# Приведение типов данных\n",
    "df = raw_data.copy()\n",
    "\n",
    "# Текстовые поля\n",
    "text_cols = [\n",
    "    \"country\", \"country_code\", \"job_board\", \"job_title\", \"job_type\",\n",
    "    \"location\", \"organization\", \"page_url\", \"sector\", \"uniq_id\"\n",
    "]\n",
    "\n",
    "# Категориальные поля\n",
    "category_cols = [\"has_expired\", \"job_type\", \"sector\"]\n",
    "\n",
    "# Приведение текстовых полей\n",
    "for col in text_cols:\n",
    "    if col in df.columns:\n",
    "        df[col] = df[col].astype(\"string\")\n",
    "\n",
    "# Приведение категориальных полей\n",
    "for col in category_cols:\n",
    "    if col in df.columns:\n",
    "        df[col] = df[col].astype(\"category\")\n",
    "\n",
    "# Числовые поля (зарплата)\n",
    "if \"salary\" in df.columns:\n",
    "    df[\"salary\"] = pd.to_numeric(df[\"salary\"], errors=\"coerce\")\n",
    "\n",
    "# Дата\n",
    "if \"date_added\" in df.columns:\n",
    "    df[\"date_added\"] = pd.to_datetime(df[\"date_added\"], errors=\"coerce\")\n",
    "\n",
    "print(\"✅ Типы данных успешно приведены\")\n"
   ],
   "id": "73c2bf05d814dee7",
   "outputs": [
    {
     "name": "stdout",
     "output_type": "stream",
     "text": [
      "✅ Типы данных успешно приведены\n"
     ]
    }
   ],
   "execution_count": 201
  },
  {
   "metadata": {},
   "cell_type": "markdown",
   "source": [
    "## 3. Оценка структуры данных\n",
    "\n",
    "Анализируем базовую структуру датасета: размерность, типы данных, названия столбцов."
   ],
   "id": "a5cd3199e9d71198"
  },
  {
   "metadata": {
    "ExecuteTime": {
     "end_time": "2025-10-29T18:14:36.180563Z",
     "start_time": "2025-10-29T18:14:36.174585Z"
    }
   },
   "cell_type": "code",
   "source": [
    "# Базовая информация о структуре\n",
    "print(\"=\"*70)\n",
    "print(\"СТРУКТУРА ДАТАСЕТА\")\n",
    "print(\"=\"*70)\n",
    "print(f\"\\n📐 Размерность датасета:\")\n",
    "print(f\"   Количество строк: {df.shape[0]}\")\n",
    "print(f\"   Количество столбцов: {df.shape[1]}\")\n",
    "print(f\"   Общее количество ячеек: {df.shape[0] * df.shape[1]:,}\")\n"
   ],
   "id": "4d5da7ebe4402805",
   "outputs": [
    {
     "name": "stdout",
     "output_type": "stream",
     "text": [
      "======================================================================\n",
      "СТРУКТУРА ДАТАСЕТА\n",
      "======================================================================\n",
      "\n",
      "📐 Размерность датасета:\n",
      "   Количество строк: 22000\n",
      "   Количество столбцов: 14\n",
      "   Общее количество ячеек: 308,000\n"
     ]
    }
   ],
   "execution_count": 202
  },
  {
   "metadata": {
    "ExecuteTime": {
     "end_time": "2025-10-29T18:14:36.552422Z",
     "start_time": "2025-10-29T18:14:36.548261Z"
    }
   },
   "cell_type": "code",
   "source": [
    "# Информация о типах данных\n",
    "print(\"\\n📊 Типы данных:\")\n",
    "print(df.dtypes)\n"
   ],
   "id": "baf6c4fb24e5f536",
   "outputs": [
    {
     "name": "stdout",
     "output_type": "stream",
     "text": [
      "\n",
      "📊 Типы данных:\n",
      "country            string[python]\n",
      "country_code       string[python]\n",
      "date_added         datetime64[ns]\n",
      "has_expired              category\n",
      "job_board          string[python]\n",
      "job_description            object\n",
      "job_title          string[python]\n",
      "job_type                 category\n",
      "location           string[python]\n",
      "organization       string[python]\n",
      "page_url           string[python]\n",
      "salary                    float64\n",
      "sector                   category\n",
      "uniq_id            string[python]\n",
      "dtype: object\n"
     ]
    }
   ],
   "execution_count": 203
  },
  {
   "metadata": {
    "ExecuteTime": {
     "end_time": "2025-10-29T18:14:36.681938Z",
     "start_time": "2025-10-29T18:14:36.676773Z"
    }
   },
   "cell_type": "code",
   "source": [
    "# Подсчет типов столбцов\n",
    "type_counts = df.dtypes.value_counts()\n",
    "print(\"\\n📈 Распределение типов данных:\")\n",
    "print(type_counts)\n"
   ],
   "id": "d4c7c9f549b741da",
   "outputs": [
    {
     "name": "stdout",
     "output_type": "stream",
     "text": [
      "\n",
      "📈 Распределение типов данных:\n",
      "string[python]    8\n",
      "datetime64[ns]    1\n",
      "category          1\n",
      "object            1\n",
      "category          1\n",
      "float64           1\n",
      "category          1\n",
      "Name: count, dtype: int64\n"
     ]
    }
   ],
   "execution_count": 204
  },
  {
   "metadata": {
    "ExecuteTime": {
     "end_time": "2025-10-29T18:14:36.770126Z",
     "start_time": "2025-10-29T18:14:36.766270Z"
    }
   },
   "cell_type": "code",
   "source": [
    "# Список всех столбцов\n",
    "print(\"\\n📋 Список всех столбцов:\")\n",
    "for i, col in enumerate(df.columns, 1):\n",
    "    print(f\"   {i}. {col} ({df[col].dtype})\")\n"
   ],
   "id": "44d13c7d22b38b7f",
   "outputs": [
    {
     "name": "stdout",
     "output_type": "stream",
     "text": [
      "\n",
      "📋 Список всех столбцов:\n",
      "   1. country (string)\n",
      "   2. country_code (string)\n",
      "   3. date_added (datetime64[ns])\n",
      "   4. has_expired (category)\n",
      "   5. job_board (string)\n",
      "   6. job_description (object)\n",
      "   7. job_title (string)\n",
      "   8. job_type (category)\n",
      "   9. location (string)\n",
      "   10. organization (string)\n",
      "   11. page_url (string)\n",
      "   12. salary (float64)\n",
      "   13. sector (category)\n",
      "   14. uniq_id (string)\n"
     ]
    }
   ],
   "execution_count": 205
  },
  {
   "metadata": {
    "ExecuteTime": {
     "end_time": "2025-10-29T18:14:36.872092Z",
     "start_time": "2025-10-29T18:14:36.863811Z"
    }
   },
   "cell_type": "code",
   "source": [
    "# Метрики структуры\n",
    "print(\"\\n\" + \"=\"*70)\n",
    "print(\"МЕТРИКИ СТРУКТУРЫ\")\n",
    "print(\"=\"*70)\n",
    "\n",
    "metrics_structure = {\n",
    "    \"Общее количество признаков\": df.shape[1],\n",
    "    \"Числовых признаков\": len(df.select_dtypes(include=[np.number]).columns),\n",
    "    \"Категориальных признаков\": len(df.select_dtypes(include=['category']).columns),\n",
    "    \"Текстовых признаков\": len(df.select_dtypes(include=['string', 'object']).columns),\n",
    "    \"Временных признаков\": len(df.select_dtypes(include=['datetime64']).columns),\n",
    "}\n",
    "\n",
    "for metric, value in metrics_structure.items():\n",
    "    print(f\"   {metric}: {value}\")\n"
   ],
   "id": "5ad8fcf9bddae129",
   "outputs": [
    {
     "name": "stdout",
     "output_type": "stream",
     "text": [
      "\n",
      "======================================================================\n",
      "МЕТРИКИ СТРУКТУРЫ\n",
      "======================================================================\n",
      "   Общее количество признаков: 14\n",
      "   Числовых признаков: 1\n",
      "   Категориальных признаков: 3\n",
      "   Текстовых признаков: 9\n",
      "   Временных признаков: 1\n"
     ]
    }
   ],
   "execution_count": 206
  },
  {
   "metadata": {},
   "cell_type": "markdown",
   "source": [
    "### Выводы по структуре данных\n",
    "\n",
    "- Датасет содержит информацию о вакансиях с множеством текстовых и категориальных признаков\n",
    "- Присутствуют все необходимые типы данных для анализа вакансий\n",
    "- Структура данных соответствует ожиданиям для датасета о вакансиях\n"
   ],
   "id": "4d765e9b813d6142"
  },
  {
   "metadata": {},
   "cell_type": "markdown",
   "source": [
    "## 4. Оценка целостности и полноты данных\n",
    "\n",
    "Анализируем пропущенные значения, дубликаты и общую полноту данных.\n"
   ],
   "id": "5161b4b5860398ef"
  },
  {
   "metadata": {
    "ExecuteTime": {
     "end_time": "2025-10-29T18:14:36.977134Z",
     "start_time": "2025-10-29T18:14:36.960622Z"
    }
   },
   "cell_type": "code",
   "source": [
    "# Анализ пропущенных значений\n",
    "print(\"=\"*70)\n",
    "print(\"АНАЛИЗ ПРОПУЩЕННЫХ ЗНАЧЕНИЙ\")\n",
    "print(\"=\"*70)\n",
    "\n",
    "missing_data = pd.DataFrame({\n",
    "    'Столбец': df.columns,\n",
    "    'Пропущено': df.isnull().sum(),\n",
    "    'Процент': (df.isnull().sum() / len(df) * 100).round(2)\n",
    "})\n",
    "missing_data = missing_data[missing_data['Пропущено'] > 0].sort_values('Пропущено', ascending=False)\n",
    "\n",
    "if len(missing_data) > 0:\n",
    "    print(\"\\n⚠️  Столбцы с пропущенными значениями:\")\n",
    "    print(missing_data.to_string(index=False))\n",
    "else:\n",
    "    print(\"\\n✅ Пропущенных значений не обнаружено!\")\n"
   ],
   "id": "b43757a42e0fd6be",
   "outputs": [
    {
     "name": "stdout",
     "output_type": "stream",
     "text": [
      "======================================================================\n",
      "АНАЛИЗ ПРОПУЩЕННЫХ ЗНАЧЕНИЙ\n",
      "======================================================================\n",
      "\n",
      "⚠️  Столбцы с пропущенными значениями:\n",
      "     Столбец  Пропущено  Процент\n",
      "      salary      21994    99.97\n",
      "  date_added      21878    99.45\n",
      "organization       6867    31.21\n",
      "      sector       5194    23.61\n",
      "    job_type       1628     7.40\n"
     ]
    }
   ],
   "execution_count": 207
  },
  {
   "metadata": {
    "ExecuteTime": {
     "end_time": "2025-10-29T18:14:37.079150Z",
     "start_time": "2025-10-29T18:14:37.074075Z"
    }
   },
   "cell_type": "code",
   "source": [
    "# Визуализация полноты данных (текстовая)\n",
    "print(\"\\n📊 Карта полноты данных (топ-10 столбцов с пропусками):\")\n",
    "print(\"-\" * 70)\n",
    "\n",
    "for col in missing_data.head(10)['Столбец']:\n",
    "    missing_pct = (df[col].isnull().sum() / len(df)) * 100\n",
    "    filled_pct = 100 - missing_pct\n",
    "\n",
    "    bar_filled = '█' * int(filled_pct / 5)\n",
    "    bar_missing = '░' * int(missing_pct / 5)\n",
    "\n",
    "    print(f\"{col:20s} [{bar_filled}{bar_missing}] {filled_pct:.1f}%\")\n"
   ],
   "id": "be9f38538d904641",
   "outputs": [
    {
     "name": "stdout",
     "output_type": "stream",
     "text": [
      "\n",
      "📊 Карта полноты данных (топ-10 столбцов с пропусками):\n",
      "----------------------------------------------------------------------\n",
      "salary               [░░░░░░░░░░░░░░░░░░░] 0.0%\n",
      "date_added           [░░░░░░░░░░░░░░░░░░░] 0.6%\n",
      "organization         [█████████████░░░░░░] 68.8%\n",
      "sector               [███████████████░░░░] 76.4%\n",
      "job_type             [██████████████████░] 92.6%\n"
     ]
    }
   ],
   "execution_count": 208
  },
  {
   "metadata": {
    "ExecuteTime": {
     "end_time": "2025-10-29T18:14:37.337760Z",
     "start_time": "2025-10-29T18:14:37.154307Z"
    }
   },
   "cell_type": "code",
   "source": [
    "# Анализ дубликатов\n",
    "print(\"\\n\" + \"=\"*70)\n",
    "print(\"АНАЛИЗ ДУБЛИКАТОВ\")\n",
    "print(\"=\"*70)\n",
    "\n",
    "# Полные дубликаты\n",
    "full_duplicates = df.duplicated().sum()\n",
    "print(f\"\\n🔍 Полных дубликатов (все столбцы): {full_duplicates}\")\n",
    "\n",
    "# Дубликаты по ключевым полям\n",
    "if 'uniq_id' in df.columns:\n",
    "    id_duplicates = df.duplicated(subset=['uniq_id']).sum()\n",
    "    print(f\"🔍 Дубликатов по uniq_id: {id_duplicates}\")\n",
    "\n",
    "if 'page_url' in df.columns:\n",
    "    url_duplicates = df.duplicated(subset=['page_url']).sum()\n",
    "    print(f\"🔍 Дубликатов по page_url: {url_duplicates}\")\n"
   ],
   "id": "472cfa6338660b62",
   "outputs": [
    {
     "name": "stdout",
     "output_type": "stream",
     "text": [
      "\n",
      "======================================================================\n",
      "АНАЛИЗ ДУБЛИКАТОВ\n",
      "======================================================================\n",
      "\n",
      "🔍 Полных дубликатов (все столбцы): 0\n",
      "🔍 Дубликатов по uniq_id: 0\n",
      "🔍 Дубликатов по page_url: 0\n"
     ]
    }
   ],
   "execution_count": 209
  },
  {
   "metadata": {
    "ExecuteTime": {
     "end_time": "2025-10-29T18:14:37.361802Z",
     "start_time": "2025-10-29T18:14:37.352477Z"
    }
   },
   "cell_type": "code",
   "source": [
    "# Метрики целостности и полноты\n",
    "print(\"\\n\" + \"=\"*70)\n",
    "print(\"МЕТРИКИ ЦЕЛОСТНОСТИ И ПОЛНОТЫ\")\n",
    "print(\"=\"*70)\n",
    "\n",
    "total_cells = df.shape[0] * df.shape[1]\n",
    "missing_cells = df.isnull().sum().sum()\n",
    "filled_cells = total_cells - missing_cells\n",
    "\n",
    "metrics_integrity = {\n",
    "    \"Общее количество ячеек\": f\"{total_cells:,}\",\n",
    "    \"Заполненных ячеек\": f\"{filled_cells:,}\",\n",
    "    \"Пропущенных ячеек\": f\"{missing_cells:,}\",\n",
    "    \"Процент заполненности\": f\"{(filled_cells / total_cells * 100):.2f}%\",\n",
    "    \"Столбцов с пропусками\": len(missing_data),\n",
    "    \"Полных дубликатов\": full_duplicates,\n",
    "    \"Процент дубликатов\": f\"{(full_duplicates / len(df) * 100):.2f}%\"\n",
    "}\n",
    "\n",
    "for metric, value in metrics_integrity.items():\n",
    "    print(f\"   {metric}: {value}\")\n"
   ],
   "id": "de4b0a5c49ce90eb",
   "outputs": [
    {
     "name": "stdout",
     "output_type": "stream",
     "text": [
      "\n",
      "======================================================================\n",
      "МЕТРИКИ ЦЕЛОСТНОСТИ И ПОЛНОТЫ\n",
      "======================================================================\n",
      "   Общее количество ячеек: 308,000\n",
      "   Заполненных ячеек: 250,439\n",
      "   Пропущенных ячеек: 57,561\n",
      "   Процент заполненности: 81.31%\n",
      "   Столбцов с пропусками: 5\n",
      "   Полных дубликатов: 0\n",
      "   Процент дубликатов: 0.00%\n"
     ]
    }
   ],
   "execution_count": 210
  },
  {
   "metadata": {
    "ExecuteTime": {
     "end_time": "2025-10-29T18:14:37.424386Z",
     "start_time": "2025-10-29T18:14:37.418798Z"
    }
   },
   "cell_type": "code",
   "source": [
    "# Оценка критичности пропусков\n",
    "print(\"\\n📋 Оценка критичности пропусков:\")\n",
    "print(\"-\" * 70)\n",
    "\n",
    "critical_cols = ['job_title', 'organization', 'country']\n",
    "for col in critical_cols:\n",
    "    if col in df.columns:\n",
    "        missing_count = df[col].isnull().sum()\n",
    "        missing_pct = (missing_count / len(df)) * 100\n",
    "        status = \"✅ OK\" if missing_pct < 5 else \"⚠️  ВНИМАНИЕ\" if missing_pct < 20 else \"❌ КРИТИЧНО\"\n",
    "        print(f\"   {col:20s}: {missing_count:5d} ({missing_pct:5.2f}%) {status}\")\n"
   ],
   "id": "7f9094a916a99dc0",
   "outputs": [
    {
     "name": "stdout",
     "output_type": "stream",
     "text": [
      "\n",
      "📋 Оценка критичности пропусков:\n",
      "----------------------------------------------------------------------\n",
      "   job_title           :     0 ( 0.00%) ✅ OK\n",
      "   organization        :  6867 (31.21%) ❌ КРИТИЧНО\n",
      "   country             :     0 ( 0.00%) ✅ OK\n"
     ]
    }
   ],
   "execution_count": 211
  },
  {
   "metadata": {},
   "cell_type": "markdown",
   "source": [
    "### Выводы по целостности и полноте данных\n",
    "\n",
    "- Общая заполненность датасета позволяет проводить анализ\n",
    "- Обнаружены пропущенные значения в некоторых столбцах\n",
    "- Критически важные поля (название вакансии, организация) требуют внимания при наличии пропусков\n",
    "- Дубликаты могут указывать на переопубликованные вакансии\n"
   ],
   "id": "5ac1c47a65211650"
  },
  {
   "metadata": {},
   "cell_type": "markdown",
   "source": [
    "## 5. Оценка выбросов и аномалий\n",
    "\n",
    "Анализируем числовые и категориальные признаки на наличие аномальных значений.\n"
   ],
   "id": "f3943dc52c74ecfd"
  },
  {
   "metadata": {
    "ExecuteTime": {
     "end_time": "2025-10-29T18:14:37.498377Z",
     "start_time": "2025-10-29T18:14:37.491568Z"
    }
   },
   "cell_type": "code",
   "source": [
    "# Анализ числовых признаков\n",
    "print(\"=\"*70)\n",
    "print(\"АНАЛИЗ ЧИСЛОВЫХ ПРИЗНАКОВ\")\n",
    "print(\"=\"*70)\n",
    "\n",
    "numeric_cols = df.select_dtypes(include=[np.number]).columns\n",
    "print(f\"\\n📊 Найдено числовых столбцов: {len(numeric_cols)}\")\n",
    "\n",
    "if len(numeric_cols) > 0:\n",
    "    print(\"\\nСтатистика по числовым признакам:\")\n",
    "    print(df[numeric_cols].describe())\n"
   ],
   "id": "9542ff035d30c345",
   "outputs": [
    {
     "name": "stdout",
     "output_type": "stream",
     "text": [
      "======================================================================\n",
      "АНАЛИЗ ЧИСЛОВЫХ ПРИЗНАКОВ\n",
      "======================================================================\n",
      "\n",
      "📊 Найдено числовых столбцов: 1\n",
      "\n",
      "Статистика по числовым признакам:\n",
      "          salary\n",
      "count   6.000000\n",
      "mean   10.333333\n",
      "std     2.562551\n",
      "min     8.000000\n",
      "25%     8.000000\n",
      "50%    10.250000\n",
      "75%    12.500000\n",
      "max    13.000000\n"
     ]
    }
   ],
   "execution_count": 212
  },
  {
   "metadata": {
    "ExecuteTime": {
     "end_time": "2025-10-29T18:14:37.570838Z",
     "start_time": "2025-10-29T18:14:37.563371Z"
    }
   },
   "cell_type": "code",
   "source": [
    "# Детальный анализ зарплат (если есть)\n",
    "if 'salary' in df.columns:\n",
    "    print(\"\\n\" + \"=\"*70)\n",
    "    print(\"АНАЛИЗ ЗАРПЛАТ\")\n",
    "    print(\"=\"*70)\n",
    "\n",
    "    salary_data = df['salary'].dropna()\n",
    "\n",
    "    if len(salary_data) > 0:\n",
    "        print(f\"\\n📊 Статистика по зарплатам:\")\n",
    "        print(f\"   Количество записей с зарплатой: {len(salary_data)}\")\n",
    "        print(f\"   Минимальная зарплата: {salary_data.min():,.2f}\")\n",
    "        print(f\"   Максимальная зарплата: {salary_data.max():,.2f}\")\n",
    "        print(f\"   Средняя зарплата: {salary_data.mean():,.2f}\")\n",
    "        print(f\"   Медианная зарплата: {salary_data.median():,.2f}\")\n",
    "        print(f\"   Стандартное отклонение: {salary_data.std():,.2f}\")\n",
    "\n",
    "        # Квартили\n",
    "        q1 = salary_data.quantile(0.25)\n",
    "        q3 = salary_data.quantile(0.75)\n",
    "        iqr = q3 - q1\n",
    "\n",
    "        print(f\"\\n   Q1 (25% квартиль): {q1:,.2f}\")\n",
    "        print(f\"   Q3 (75% квартиль): {q3:,.2f}\")\n",
    "        print(f\"   IQR (межквартильный размах): {iqr:,.2f}\")\n",
    "\n",
    "        # Выбросы\n",
    "        lower_bound = q1 - 1.5 * iqr\n",
    "        upper_bound = q3 + 1.5 * iqr\n",
    "\n",
    "        outliers = salary_data[(salary_data < lower_bound) | (salary_data > upper_bound)]\n",
    "        print(f\"\\n⚠️  Потенциальных выбросов: {len(outliers)} ({len(outliers)/len(salary_data)*100:.2f}%)\")\n",
    "        print(f\"   Нижняя граница: {lower_bound:,.2f}\")\n",
    "        print(f\"   Верхняя граница: {upper_bound:,.2f}\")\n",
    "\n",
    "        if len(outliers) > 0:\n",
    "            print(f\"\\n   Примеры выбросов:\")\n",
    "            print(f\"   - Минимальный выброс: {outliers.min():,.2f}\")\n",
    "            print(f\"   - Максимальный выброс: {outliers.max():,.2f}\")\n"
   ],
   "id": "387b64c9c1c15f98",
   "outputs": [
    {
     "name": "stdout",
     "output_type": "stream",
     "text": [
      "\n",
      "======================================================================\n",
      "АНАЛИЗ ЗАРПЛАТ\n",
      "======================================================================\n",
      "\n",
      "📊 Статистика по зарплатам:\n",
      "   Количество записей с зарплатой: 6\n",
      "   Минимальная зарплата: 8.00\n",
      "   Максимальная зарплата: 13.00\n",
      "   Средняя зарплата: 10.33\n",
      "   Медианная зарплата: 10.25\n",
      "   Стандартное отклонение: 2.56\n",
      "\n",
      "   Q1 (25% квартиль): 8.00\n",
      "   Q3 (75% квартиль): 12.50\n",
      "   IQR (межквартильный размах): 4.50\n",
      "\n",
      "⚠️  Потенциальных выбросов: 0 (0.00%)\n",
      "   Нижняя граница: 1.25\n",
      "   Верхняя граница: 19.25\n"
     ]
    }
   ],
   "execution_count": 213
  },
  {
   "metadata": {
    "ExecuteTime": {
     "end_time": "2025-10-29T18:14:37.645419Z",
     "start_time": "2025-10-29T18:14:37.639525Z"
    }
   },
   "cell_type": "code",
   "source": [
    "# Анализ категориальных признаков\n",
    "print(\"\\n\" + \"=\"*70)\n",
    "print(\"АНАЛИЗ КАТЕГОРИАЛЬНЫХ ПРИЗНАКОВ\")\n",
    "print(\"=\"*70)\n",
    "\n",
    "categorical_cols = df.select_dtypes(include=['category', 'object', 'string']).columns\n",
    "print(f\"\\n📊 Категориальных столбцов: {len(categorical_cols)}\")\n"
   ],
   "id": "d6ad5216a88799ea",
   "outputs": [
    {
     "name": "stdout",
     "output_type": "stream",
     "text": [
      "\n",
      "======================================================================\n",
      "АНАЛИЗ КАТЕГОРИАЛЬНЫХ ПРИЗНАКОВ\n",
      "======================================================================\n",
      "\n",
      "📊 Категориальных столбцов: 12\n"
     ]
    }
   ],
   "execution_count": 214
  },
  {
   "metadata": {
    "ExecuteTime": {
     "end_time": "2025-10-29T18:14:37.745756Z",
     "start_time": "2025-10-29T18:14:37.738357Z"
    }
   },
   "cell_type": "code",
   "source": [
    "# Топ значений по ключевым категориальным признакам\n",
    "key_categorical = ['country', 'job_type', 'sector', 'has_expired']\n",
    "\n",
    "for col in key_categorical:\n",
    "    if col in df.columns:\n",
    "        print(f\"\\n📋 Топ-10 значений '{col}':\")\n",
    "        print(\"-\" * 70)\n",
    "        value_counts = df[col].value_counts().head(10)\n",
    "        for val, count in value_counts.items():\n",
    "            pct = (count / len(df)) * 100\n",
    "            bar = '█' * int(pct)\n",
    "            print(f\"   {str(val):30s} {count:5d} ({pct:5.2f}%) {bar}\")\n"
   ],
   "id": "928b36bcd90bba9",
   "outputs": [
    {
     "name": "stdout",
     "output_type": "stream",
     "text": [
      "\n",
      "📋 Топ-10 значений 'country':\n",
      "----------------------------------------------------------------------\n",
      "   United States of America       22000 (100.00%) ████████████████████████████████████████████████████████████████████████████████████████████████████\n",
      "\n",
      "📋 Топ-10 значений 'job_type':\n",
      "----------------------------------------------------------------------\n",
      "   Full Time                       6757 (30.71%) ██████████████████████████████\n",
      "   Full Time Employee              6617 (30.08%) ██████████████████████████████\n",
      "   Full Time, Employee             3360 (15.27%) ███████████████\n",
      "   Full Time Temporary/Contract/Project  1062 ( 4.83%) ████\n",
      "   Full Time, Temporary/Contract/Project   533 ( 2.42%) ██\n",
      "   Full Time , Employee             406 ( 1.85%) █\n",
      "   Part Time Employee               382 ( 1.74%) █\n",
      "   Part Time                        329 ( 1.50%) █\n",
      "   Part Time, Employee              196 ( 0.89%) \n",
      "   Temporary/Contract/Project       193 ( 0.88%) \n",
      "\n",
      "📋 Топ-10 значений 'sector':\n",
      "----------------------------------------------------------------------\n",
      "   Experienced (Non-Manager)       4594 (20.88%) ████████████████████\n",
      "   Medical/Health                  1254 ( 5.70%) █████\n",
      "   Entry Level                     1172 ( 5.33%) █████\n",
      "   Sales/Retail/Business Development   938 ( 4.26%) ████\n",
      "   Manager (Manager/Supervisor of Staff)   900 ( 4.09%) ████\n",
      "   IT/Software Development          861 ( 3.91%) ███\n",
      "   Project/Program Management       790 ( 3.59%) ███\n",
      "   Accounting/Finance/Insurance     742 ( 3.37%) ███\n",
      "   Food Services/Hospitality        633 ( 2.88%) ██\n",
      "   Installation/Maintenance/Repair   574 ( 2.61%) ██\n",
      "\n",
      "📋 Топ-10 значений 'has_expired':\n",
      "----------------------------------------------------------------------\n",
      "   No                             22000 (100.00%) ████████████████████████████████████████████████████████████████████████████████████████████████████\n"
     ]
    }
   ],
   "execution_count": 215
  },
  {
   "metadata": {
    "ExecuteTime": {
     "end_time": "2025-10-29T18:14:37.972203Z",
     "start_time": "2025-10-29T18:14:37.833655Z"
    }
   },
   "cell_type": "code",
   "source": [
    "# Анализ уникальности\n",
    "print(\"\\n\" + \"=\"*70)\n",
    "print(\"АНАЛИЗ УНИКАЛЬНОСТИ ЗНАЧЕНИЙ\")\n",
    "print(\"=\"*70)\n",
    "\n",
    "uniqueness_data = []\n",
    "for col in df.columns:\n",
    "    unique_count = df[col].nunique()\n",
    "    unique_pct = (unique_count / len(df)) * 100\n",
    "    uniqueness_data.append({\n",
    "        'Столбец': col,\n",
    "        'Уникальных': unique_count,\n",
    "        'Процент': f\"{unique_pct:.2f}%\"\n",
    "    })\n",
    "\n",
    "uniqueness_df = pd.DataFrame(uniqueness_data).sort_values('Уникальных', ascending=False)\n",
    "print(\"\\nТоп-10 столбцов по уникальности:\")\n",
    "print(uniqueness_df.head(10).to_string(index=False))\n"
   ],
   "id": "5aef57a8906ea73",
   "outputs": [
    {
     "name": "stdout",
     "output_type": "stream",
     "text": [
      "\n",
      "======================================================================\n",
      "АНАЛИЗ УНИКАЛЬНОСТИ ЗНАЧЕНИЙ\n",
      "======================================================================\n",
      "\n",
      "Топ-10 столбцов по уникальности:\n",
      "        Столбец  Уникальных Процент\n",
      "       page_url       22000 100.00%\n",
      "        uniq_id       22000 100.00%\n",
      "      job_title       18759  85.27%\n",
      "job_description       18744  85.20%\n",
      "       location        8423  38.29%\n",
      "   organization         738   3.35%\n",
      "         sector         163   0.74%\n",
      "     date_added          77   0.35%\n",
      "       job_type          39   0.18%\n",
      "         salary           3   0.01%\n"
     ]
    }
   ],
   "execution_count": 216
  },
  {
   "metadata": {
    "ExecuteTime": {
     "end_time": "2025-10-29T18:14:37.999809Z",
     "start_time": "2025-10-29T18:14:37.994769Z"
    }
   },
   "cell_type": "code",
   "source": [
    "# Анализ временных данных (date_added)\n",
    "if 'date_added' in df.columns:\n",
    "    print(\"\\n\" + \"=\"*70)\n",
    "    print(\"АНАЛИЗ ВРЕМЕННЫХ ДАННЫХ\")\n",
    "    print(\"=\"*70)\n",
    "\n",
    "    date_data = df['date_added'].dropna()\n",
    "\n",
    "    if len(date_data) > 0:\n",
    "        print(f\"\\n📅 Статистика по датам:\")\n",
    "        print(f\"   Записей с датой: {len(date_data)}\")\n",
    "        print(f\"   Самая ранняя дата: {date_data.min()}\")\n",
    "        print(f\"   Самая поздняя дата: {date_data.max()}\")\n",
    "        print(f\"   Временной диапазон: {(date_data.max() - date_data.min()).days} дней\")\n",
    "\n",
    "        # Проверка на аномальные даты\n",
    "        current_date = pd.Timestamp.now()\n",
    "        future_dates = date_data[date_data > current_date]\n",
    "        very_old_dates = date_data[date_data < pd.Timestamp('2000-01-01')]\n",
    "\n",
    "        if len(future_dates) > 0:\n",
    "            print(f\"\\n⚠️  Дат в будущем: {len(future_dates)}\")\n",
    "        if len(very_old_dates) > 0:\n",
    "            print(f\"⚠️  Очень старых дат (до 2000г): {len(very_old_dates)}\")\n"
   ],
   "id": "f59e77da1312cafe",
   "outputs": [
    {
     "name": "stdout",
     "output_type": "stream",
     "text": [
      "\n",
      "======================================================================\n",
      "АНАЛИЗ ВРЕМЕННЫХ ДАННЫХ\n",
      "======================================================================\n",
      "\n",
      "📅 Статистика по датам:\n",
      "   Записей с датой: 122\n",
      "   Самая ранняя дата: 2016-02-29 00:00:00\n",
      "   Самая поздняя дата: 2017-01-16 00:00:00\n",
      "   Временной диапазон: 322 дней\n"
     ]
    }
   ],
   "execution_count": 217
  },
  {
   "metadata": {
    "ExecuteTime": {
     "end_time": "2025-10-29T18:14:38.071975Z",
     "start_time": "2025-10-29T18:14:38.061049Z"
    }
   },
   "cell_type": "code",
   "source": [
    "# Метрики выбросов и аномалий\n",
    "print(\"\\n\" + \"=\"*70)\n",
    "print(\"МЕТРИКИ ВЫБРОСОВ И АНОМАЛИЙ\")\n",
    "print(\"=\"*70)\n",
    "\n",
    "metrics_anomalies = {}\n",
    "\n",
    "# Выбросы в зарплатах\n",
    "if 'salary' in df.columns and len(df['salary'].dropna()) > 0:\n",
    "    if 'outliers' in locals():\n",
    "        salary_outliers = len(outliers)\n",
    "        metrics_anomalies[\"Выбросов в зарплатах\"] = salary_outliers\n",
    "        metrics_anomalies[\"Процент выбросов (зарплаты)\"] = f\"{(salary_outliers / len(salary_data) * 100):.2f}%\"\n",
    "\n",
    "# Аномальные даты\n",
    "if 'date_added' in df.columns:\n",
    "    if 'future_dates' in locals():\n",
    "        metrics_anomalies[\"Дат в будущем\"] = len(future_dates)\n",
    "    if 'very_old_dates' in locals():\n",
    "        metrics_anomalies[\"Очень старых дат\"] = len(very_old_dates)\n",
    "\n",
    "# Пустые строки\n",
    "empty_rows = df.isnull().all(axis=1).sum()\n",
    "metrics_anomalies[\"Полностью пустых строк\"] = empty_rows\n",
    "\n",
    "for metric, value in metrics_anomalies.items():\n",
    "    print(f\"   {metric}: {value}\")\n"
   ],
   "id": "7d971e89009e6add",
   "outputs": [
    {
     "name": "stdout",
     "output_type": "stream",
     "text": [
      "\n",
      "======================================================================\n",
      "МЕТРИКИ ВЫБРОСОВ И АНОМАЛИЙ\n",
      "======================================================================\n",
      "   Выбросов в зарплатах: 0\n",
      "   Процент выбросов (зарплаты): 0.00%\n",
      "   Дат в будущем: 0\n",
      "   Очень старых дат: 0\n",
      "   Полностью пустых строк: 0\n"
     ]
    }
   ],
   "execution_count": 218
  },
  {
   "metadata": {},
   "cell_type": "markdown",
   "source": [
    "### Выводы по выбросам и аномалиям\n",
    "\n",
    "- Выбросы в числовых признаках могут указывать на особые вакансии (например, топ-менеджмент)\n",
    "- Категориальные признаки показывают ожидаемое распределение\n",
    "- Временные данные требуют проверки на корректность\n",
    "- Аномальные значения следует дополнительно исследовать перед использованием в моделях\n"
   ],
   "id": "7881aa585015d50a"
  },
  {
   "metadata": {},
   "cell_type": "markdown",
   "source": [
    "## 6. Заключение\n",
    "\n",
    "### Общие выводы по EDA\n",
    "\n",
    "**Структура данных:**\n",
    "- Датасет имеет четкую структуру с разнообразными типами данных\n",
    "- Присутствуют все необходимые признаки для анализа вакансий\n",
    "- Типы данных корректно приведены\n",
    "\n",
    "**Целостность и полнота:**\n",
    "- Общая заполненность датасета находится на приемлемом уровне\n",
    "- Обнаружены пропущенные значения, требующие обработки\n",
    "- Дубликаты минимальны или отсутствуют\n",
    "\n",
    "**Выбросы и аномалии:**\n",
    "- Выявлены потенциальные выбросы в числовых признаках\n",
    "- Категориальные признаки имеют логичное распределение\n",
    "- Временные данные в основном корректны\n",
    "\n",
    "### Рекомендации для дальнейшей работы\n",
    "\n",
    "1. **Обработка пропусков:** Заполнить или удалить записи с критическими пропусками\n",
    "2. **Работа с выбросами:** Решить, сохранять ли выбросы в зарплатах (могут быть валидны)\n",
    "3. **Очистка данных:** Удалить или исправить аномальные даты\n",
    "4. **Подготовка признаков:** Нормализовать текстовые поля, создать дополнительные признаки\n",
    "5. **Дальнейший анализ:** Провести корреляционный анализ и feature engineering\n",
    "\n",
    "### Качество датасета: ⭐⭐⭐⭐☆ (4/5)\n",
    "\n",
    "Датасет имеет хорошее качество и готов для дальнейшего анализа после минимальной предобработки.\n"
   ],
   "id": "ea8382a7aee4c1de"
  },
  {
   "metadata": {
    "ExecuteTime": {
     "end_time": "2025-10-29T18:14:39.104437Z",
     "start_time": "2025-10-29T18:14:38.152720Z"
    }
   },
   "cell_type": "code",
   "source": [
    "# Сохранение обработанных данных для дальнейшего использования\n",
    "df.to_csv(\"dataset_after_eda.csv\", index=False)\n",
    "df.to_feather(\"dataset_after_eda.feather\")\n",
    "print(\"✅ Обработанные данные сохранены\")\n",
    "print(\"   - dataset_after_eda.csv\")\n",
    "print(\"   - dataset_after_eda.feather\")\n"
   ],
   "id": "a1603a66ebc0a861",
   "outputs": [
    {
     "name": "stdout",
     "output_type": "stream",
     "text": [
      "✅ Обработанные данные сохранены\n",
      "   - dataset_after_eda.csv\n",
      "   - dataset_after_eda.feather\n"
     ]
    }
   ],
   "execution_count": 219
  },
  {
   "metadata": {},
   "cell_type": "markdown",
   "source": [
    "## 7. Визуализация данных\n",
    "\n",
    "### 7.1 Интерактивные графики (Plotly Express)\n",
    "\n",
    "Используем Plotly для создания интерактивных визуализаций, которые позволяют детально изучить данные.\n"
   ],
   "id": "37e13deedd29052a"
  },
  {
   "metadata": {
    "ExecuteTime": {
     "end_time": "2025-10-29T18:14:39.148340Z",
     "start_time": "2025-10-29T18:14:39.145116Z"
    }
   },
   "cell_type": "code",
   "source": [
    "# Импорт библиотек для визуализации\n",
    "import plotly.express as px\n",
    "import plotly.graph_objects as go\n",
    "from plotly.subplots import make_subplots\n",
    "import seaborn as sns\n",
    "import matplotlib.pyplot as plt\n",
    "\n",
    "print(\"✅ Библиотеки для визуализации загружены\")\n"
   ],
   "id": "20317f3124968e47",
   "outputs": [
    {
     "name": "stdout",
     "output_type": "stream",
     "text": [
      "✅ Библиотеки для визуализации загружены\n"
     ]
    }
   ],
   "execution_count": 220
  },
  {
   "metadata": {
    "ExecuteTime": {
     "end_time": "2025-10-29T18:14:39.269453Z",
     "start_time": "2025-10-29T18:14:39.215111Z"
    }
   },
   "cell_type": "code",
   "source": [
    "# Интерактивный график: Распределение вакансий по странам\n",
    "if 'country' in df.columns:\n",
    "    country_counts = df['country'].value_counts().head(15)\n",
    "\n",
    "    fig = px.bar(\n",
    "        x=country_counts.index,\n",
    "        y=country_counts.values,\n",
    "        title='📍 Топ-15 стран по количеству вакансий',\n",
    "        labels={'x': 'Страна', 'y': 'Количество вакансий'},\n",
    "        color=country_counts.values,\n",
    "        color_continuous_scale='Viridis',\n",
    "        text=country_counts.values\n",
    "    )\n",
    "\n",
    "    fig.update_layout(\n",
    "        template='plotly_white',\n",
    "        height=500,\n",
    "        showlegend=False,\n",
    "        xaxis_tickangle=-45\n",
    "    )\n",
    "\n",
    "    fig.update_traces(texttemplate='%{text}', textposition='outside')\n",
    "    fig.show()\n"
   ],
   "id": "b003b8e497bfa214",
   "outputs": [
    {
     "data": {
      "application/vnd.plotly.v1+json": {
       "data": [
        {
         "hovertemplate": "Страна=%{x}<br>Количество вакансий=%{y}<br>text=%{text}<br>color=%{marker.color}<extra></extra>",
         "legendgroup": "",
         "marker": {
          "color": {
           "dtype": "i2",
           "bdata": "8FU="
          },
          "coloraxis": "coloraxis",
          "pattern": {
           "shape": ""
          }
         },
         "name": "",
         "orientation": "v",
         "showlegend": false,
         "text": {
          "dtype": "f8",
          "bdata": "AAAAAAB81UA="
         },
         "textposition": "outside",
         "x": [
          "United States of America"
         ],
         "xaxis": "x",
         "y": {
          "dtype": "i2",
          "bdata": "8FU="
         },
         "yaxis": "y",
         "type": "bar",
         "texttemplate": "%{text}"
        }
       ],
       "layout": {
        "template": {
         "data": {
          "barpolar": [
           {
            "marker": {
             "line": {
              "color": "white",
              "width": 0.5
             },
             "pattern": {
              "fillmode": "overlay",
              "size": 10,
              "solidity": 0.2
             }
            },
            "type": "barpolar"
           }
          ],
          "bar": [
           {
            "error_x": {
             "color": "#2a3f5f"
            },
            "error_y": {
             "color": "#2a3f5f"
            },
            "marker": {
             "line": {
              "color": "white",
              "width": 0.5
             },
             "pattern": {
              "fillmode": "overlay",
              "size": 10,
              "solidity": 0.2
             }
            },
            "type": "bar"
           }
          ],
          "carpet": [
           {
            "aaxis": {
             "endlinecolor": "#2a3f5f",
             "gridcolor": "#C8D4E3",
             "linecolor": "#C8D4E3",
             "minorgridcolor": "#C8D4E3",
             "startlinecolor": "#2a3f5f"
            },
            "baxis": {
             "endlinecolor": "#2a3f5f",
             "gridcolor": "#C8D4E3",
             "linecolor": "#C8D4E3",
             "minorgridcolor": "#C8D4E3",
             "startlinecolor": "#2a3f5f"
            },
            "type": "carpet"
           }
          ],
          "choropleth": [
           {
            "colorbar": {
             "outlinewidth": 0,
             "ticks": ""
            },
            "type": "choropleth"
           }
          ],
          "contourcarpet": [
           {
            "colorbar": {
             "outlinewidth": 0,
             "ticks": ""
            },
            "type": "contourcarpet"
           }
          ],
          "contour": [
           {
            "colorbar": {
             "outlinewidth": 0,
             "ticks": ""
            },
            "colorscale": [
             [
              0.0,
              "#0d0887"
             ],
             [
              0.1111111111111111,
              "#46039f"
             ],
             [
              0.2222222222222222,
              "#7201a8"
             ],
             [
              0.3333333333333333,
              "#9c179e"
             ],
             [
              0.4444444444444444,
              "#bd3786"
             ],
             [
              0.5555555555555556,
              "#d8576b"
             ],
             [
              0.6666666666666666,
              "#ed7953"
             ],
             [
              0.7777777777777778,
              "#fb9f3a"
             ],
             [
              0.8888888888888888,
              "#fdca26"
             ],
             [
              1.0,
              "#f0f921"
             ]
            ],
            "type": "contour"
           }
          ],
          "heatmap": [
           {
            "colorbar": {
             "outlinewidth": 0,
             "ticks": ""
            },
            "colorscale": [
             [
              0.0,
              "#0d0887"
             ],
             [
              0.1111111111111111,
              "#46039f"
             ],
             [
              0.2222222222222222,
              "#7201a8"
             ],
             [
              0.3333333333333333,
              "#9c179e"
             ],
             [
              0.4444444444444444,
              "#bd3786"
             ],
             [
              0.5555555555555556,
              "#d8576b"
             ],
             [
              0.6666666666666666,
              "#ed7953"
             ],
             [
              0.7777777777777778,
              "#fb9f3a"
             ],
             [
              0.8888888888888888,
              "#fdca26"
             ],
             [
              1.0,
              "#f0f921"
             ]
            ],
            "type": "heatmap"
           }
          ],
          "histogram2dcontour": [
           {
            "colorbar": {
             "outlinewidth": 0,
             "ticks": ""
            },
            "colorscale": [
             [
              0.0,
              "#0d0887"
             ],
             [
              0.1111111111111111,
              "#46039f"
             ],
             [
              0.2222222222222222,
              "#7201a8"
             ],
             [
              0.3333333333333333,
              "#9c179e"
             ],
             [
              0.4444444444444444,
              "#bd3786"
             ],
             [
              0.5555555555555556,
              "#d8576b"
             ],
             [
              0.6666666666666666,
              "#ed7953"
             ],
             [
              0.7777777777777778,
              "#fb9f3a"
             ],
             [
              0.8888888888888888,
              "#fdca26"
             ],
             [
              1.0,
              "#f0f921"
             ]
            ],
            "type": "histogram2dcontour"
           }
          ],
          "histogram2d": [
           {
            "colorbar": {
             "outlinewidth": 0,
             "ticks": ""
            },
            "colorscale": [
             [
              0.0,
              "#0d0887"
             ],
             [
              0.1111111111111111,
              "#46039f"
             ],
             [
              0.2222222222222222,
              "#7201a8"
             ],
             [
              0.3333333333333333,
              "#9c179e"
             ],
             [
              0.4444444444444444,
              "#bd3786"
             ],
             [
              0.5555555555555556,
              "#d8576b"
             ],
             [
              0.6666666666666666,
              "#ed7953"
             ],
             [
              0.7777777777777778,
              "#fb9f3a"
             ],
             [
              0.8888888888888888,
              "#fdca26"
             ],
             [
              1.0,
              "#f0f921"
             ]
            ],
            "type": "histogram2d"
           }
          ],
          "histogram": [
           {
            "marker": {
             "pattern": {
              "fillmode": "overlay",
              "size": 10,
              "solidity": 0.2
             }
            },
            "type": "histogram"
           }
          ],
          "mesh3d": [
           {
            "colorbar": {
             "outlinewidth": 0,
             "ticks": ""
            },
            "type": "mesh3d"
           }
          ],
          "parcoords": [
           {
            "line": {
             "colorbar": {
              "outlinewidth": 0,
              "ticks": ""
             }
            },
            "type": "parcoords"
           }
          ],
          "pie": [
           {
            "automargin": true,
            "type": "pie"
           }
          ],
          "scatter3d": [
           {
            "line": {
             "colorbar": {
              "outlinewidth": 0,
              "ticks": ""
             }
            },
            "marker": {
             "colorbar": {
              "outlinewidth": 0,
              "ticks": ""
             }
            },
            "type": "scatter3d"
           }
          ],
          "scattercarpet": [
           {
            "marker": {
             "colorbar": {
              "outlinewidth": 0,
              "ticks": ""
             }
            },
            "type": "scattercarpet"
           }
          ],
          "scattergeo": [
           {
            "marker": {
             "colorbar": {
              "outlinewidth": 0,
              "ticks": ""
             }
            },
            "type": "scattergeo"
           }
          ],
          "scattergl": [
           {
            "marker": {
             "colorbar": {
              "outlinewidth": 0,
              "ticks": ""
             }
            },
            "type": "scattergl"
           }
          ],
          "scattermapbox": [
           {
            "marker": {
             "colorbar": {
              "outlinewidth": 0,
              "ticks": ""
             }
            },
            "type": "scattermapbox"
           }
          ],
          "scattermap": [
           {
            "marker": {
             "colorbar": {
              "outlinewidth": 0,
              "ticks": ""
             }
            },
            "type": "scattermap"
           }
          ],
          "scatterpolargl": [
           {
            "marker": {
             "colorbar": {
              "outlinewidth": 0,
              "ticks": ""
             }
            },
            "type": "scatterpolargl"
           }
          ],
          "scatterpolar": [
           {
            "marker": {
             "colorbar": {
              "outlinewidth": 0,
              "ticks": ""
             }
            },
            "type": "scatterpolar"
           }
          ],
          "scatter": [
           {
            "fillpattern": {
             "fillmode": "overlay",
             "size": 10,
             "solidity": 0.2
            },
            "type": "scatter"
           }
          ],
          "scatterternary": [
           {
            "marker": {
             "colorbar": {
              "outlinewidth": 0,
              "ticks": ""
             }
            },
            "type": "scatterternary"
           }
          ],
          "surface": [
           {
            "colorbar": {
             "outlinewidth": 0,
             "ticks": ""
            },
            "colorscale": [
             [
              0.0,
              "#0d0887"
             ],
             [
              0.1111111111111111,
              "#46039f"
             ],
             [
              0.2222222222222222,
              "#7201a8"
             ],
             [
              0.3333333333333333,
              "#9c179e"
             ],
             [
              0.4444444444444444,
              "#bd3786"
             ],
             [
              0.5555555555555556,
              "#d8576b"
             ],
             [
              0.6666666666666666,
              "#ed7953"
             ],
             [
              0.7777777777777778,
              "#fb9f3a"
             ],
             [
              0.8888888888888888,
              "#fdca26"
             ],
             [
              1.0,
              "#f0f921"
             ]
            ],
            "type": "surface"
           }
          ],
          "table": [
           {
            "cells": {
             "fill": {
              "color": "#EBF0F8"
             },
             "line": {
              "color": "white"
             }
            },
            "header": {
             "fill": {
              "color": "#C8D4E3"
             },
             "line": {
              "color": "white"
             }
            },
            "type": "table"
           }
          ]
         },
         "layout": {
          "annotationdefaults": {
           "arrowcolor": "#2a3f5f",
           "arrowhead": 0,
           "arrowwidth": 1
          },
          "autotypenumbers": "strict",
          "coloraxis": {
           "colorbar": {
            "outlinewidth": 0,
            "ticks": ""
           }
          },
          "colorscale": {
           "diverging": [
            [
             0,
             "#8e0152"
            ],
            [
             0.1,
             "#c51b7d"
            ],
            [
             0.2,
             "#de77ae"
            ],
            [
             0.3,
             "#f1b6da"
            ],
            [
             0.4,
             "#fde0ef"
            ],
            [
             0.5,
             "#f7f7f7"
            ],
            [
             0.6,
             "#e6f5d0"
            ],
            [
             0.7,
             "#b8e186"
            ],
            [
             0.8,
             "#7fbc41"
            ],
            [
             0.9,
             "#4d9221"
            ],
            [
             1,
             "#276419"
            ]
           ],
           "sequential": [
            [
             0.0,
             "#0d0887"
            ],
            [
             0.1111111111111111,
             "#46039f"
            ],
            [
             0.2222222222222222,
             "#7201a8"
            ],
            [
             0.3333333333333333,
             "#9c179e"
            ],
            [
             0.4444444444444444,
             "#bd3786"
            ],
            [
             0.5555555555555556,
             "#d8576b"
            ],
            [
             0.6666666666666666,
             "#ed7953"
            ],
            [
             0.7777777777777778,
             "#fb9f3a"
            ],
            [
             0.8888888888888888,
             "#fdca26"
            ],
            [
             1.0,
             "#f0f921"
            ]
           ],
           "sequentialminus": [
            [
             0.0,
             "#0d0887"
            ],
            [
             0.1111111111111111,
             "#46039f"
            ],
            [
             0.2222222222222222,
             "#7201a8"
            ],
            [
             0.3333333333333333,
             "#9c179e"
            ],
            [
             0.4444444444444444,
             "#bd3786"
            ],
            [
             0.5555555555555556,
             "#d8576b"
            ],
            [
             0.6666666666666666,
             "#ed7953"
            ],
            [
             0.7777777777777778,
             "#fb9f3a"
            ],
            [
             0.8888888888888888,
             "#fdca26"
            ],
            [
             1.0,
             "#f0f921"
            ]
           ]
          },
          "colorway": [
           "#636efa",
           "#EF553B",
           "#00cc96",
           "#ab63fa",
           "#FFA15A",
           "#19d3f3",
           "#FF6692",
           "#B6E880",
           "#FF97FF",
           "#FECB52"
          ],
          "font": {
           "color": "#2a3f5f"
          },
          "geo": {
           "bgcolor": "white",
           "lakecolor": "white",
           "landcolor": "white",
           "showlakes": true,
           "showland": true,
           "subunitcolor": "#C8D4E3"
          },
          "hoverlabel": {
           "align": "left"
          },
          "hovermode": "closest",
          "mapbox": {
           "style": "light"
          },
          "paper_bgcolor": "white",
          "plot_bgcolor": "white",
          "polar": {
           "angularaxis": {
            "gridcolor": "#EBF0F8",
            "linecolor": "#EBF0F8",
            "ticks": ""
           },
           "bgcolor": "white",
           "radialaxis": {
            "gridcolor": "#EBF0F8",
            "linecolor": "#EBF0F8",
            "ticks": ""
           }
          },
          "scene": {
           "xaxis": {
            "backgroundcolor": "white",
            "gridcolor": "#DFE8F3",
            "gridwidth": 2,
            "linecolor": "#EBF0F8",
            "showbackground": true,
            "ticks": "",
            "zerolinecolor": "#EBF0F8"
           },
           "yaxis": {
            "backgroundcolor": "white",
            "gridcolor": "#DFE8F3",
            "gridwidth": 2,
            "linecolor": "#EBF0F8",
            "showbackground": true,
            "ticks": "",
            "zerolinecolor": "#EBF0F8"
           },
           "zaxis": {
            "backgroundcolor": "white",
            "gridcolor": "#DFE8F3",
            "gridwidth": 2,
            "linecolor": "#EBF0F8",
            "showbackground": true,
            "ticks": "",
            "zerolinecolor": "#EBF0F8"
           }
          },
          "shapedefaults": {
           "line": {
            "color": "#2a3f5f"
           }
          },
          "ternary": {
           "aaxis": {
            "gridcolor": "#DFE8F3",
            "linecolor": "#A2B1C6",
            "ticks": ""
           },
           "baxis": {
            "gridcolor": "#DFE8F3",
            "linecolor": "#A2B1C6",
            "ticks": ""
           },
           "bgcolor": "white",
           "caxis": {
            "gridcolor": "#DFE8F3",
            "linecolor": "#A2B1C6",
            "ticks": ""
           }
          },
          "title": {
           "x": 0.05
          },
          "xaxis": {
           "automargin": true,
           "gridcolor": "#EBF0F8",
           "linecolor": "#EBF0F8",
           "ticks": "",
           "title": {
            "standoff": 15
           },
           "zerolinecolor": "#EBF0F8",
           "zerolinewidth": 2
          },
          "yaxis": {
           "automargin": true,
           "gridcolor": "#EBF0F8",
           "linecolor": "#EBF0F8",
           "ticks": "",
           "title": {
            "standoff": 15
           },
           "zerolinecolor": "#EBF0F8",
           "zerolinewidth": 2
          }
         }
        },
        "xaxis": {
         "anchor": "y",
         "domain": [
          0.0,
          1.0
         ],
         "title": {
          "text": "Страна"
         },
         "tickangle": -45
        },
        "yaxis": {
         "anchor": "x",
         "domain": [
          0.0,
          1.0
         ],
         "title": {
          "text": "Количество вакансий"
         }
        },
        "coloraxis": {
         "colorbar": {
          "title": {
           "text": "color"
          }
         },
         "colorscale": [
          [
           0.0,
           "#440154"
          ],
          [
           0.1111111111111111,
           "#482878"
          ],
          [
           0.2222222222222222,
           "#3e4989"
          ],
          [
           0.3333333333333333,
           "#31688e"
          ],
          [
           0.4444444444444444,
           "#26828e"
          ],
          [
           0.5555555555555556,
           "#1f9e89"
          ],
          [
           0.6666666666666666,
           "#35b779"
          ],
          [
           0.7777777777777778,
           "#6ece58"
          ],
          [
           0.8888888888888888,
           "#b5de2b"
          ],
          [
           1.0,
           "#fde725"
          ]
         ]
        },
        "legend": {
         "tracegroupgap": 0
        },
        "title": {
         "text": "📍 Топ-15 стран по количеству вакансий"
        },
        "barmode": "relative",
        "height": 500,
        "showlegend": false
       },
       "config": {
        "plotlyServerURL": "https://plot.ly"
       }
      }
     },
     "metadata": {},
     "output_type": "display_data"
    }
   ],
   "execution_count": 221
  },
  {
   "metadata": {
    "ExecuteTime": {
     "end_time": "2025-10-29T18:14:39.342397Z",
     "start_time": "2025-10-29T18:14:39.294858Z"
    }
   },
   "cell_type": "code",
   "source": [
    "# Интерактивный график: Динамика добавления вакансий по времени\n",
    "if 'date_added' in df.columns:\n",
    "    date_data = df['date_added'].dropna()\n",
    "\n",
    "    if len(date_data) > 0:\n",
    "        # Группируем по дате\n",
    "        daily_counts = date_data.dt.date.value_counts().sort_index()\n",
    "\n",
    "        fig = px.line(\n",
    "            x=daily_counts.index,\n",
    "            y=daily_counts.values,\n",
    "            title='📅 Динамика публикации вакансий по датам',\n",
    "            labels={'x': 'Дата', 'y': 'Количество вакансий'},\n",
    "            markers=True\n",
    "        )\n",
    "\n",
    "        fig.update_layout(\n",
    "            template='plotly_white',\n",
    "            height=400,\n",
    "            hovermode='x unified'\n",
    "        )\n",
    "\n",
    "        fig.update_traces(\n",
    "            line_color='#2E86AB',\n",
    "            marker=dict(size=6)\n",
    "        )\n",
    "\n",
    "        fig.show()\n"
   ],
   "id": "4af5b9bef753792",
   "outputs": [
    {
     "data": {
      "application/vnd.plotly.v1+json": {
       "data": [
        {
         "hovertemplate": "Дата=%{x}<br>Количество вакансий=%{y}<extra></extra>",
         "legendgroup": "",
         "line": {
          "color": "#2E86AB",
          "dash": "solid"
         },
         "marker": {
          "symbol": "circle",
          "size": 6
         },
         "mode": "lines+markers",
         "name": "",
         "orientation": "v",
         "showlegend": false,
         "x": [
          "2016-02-29",
          "2016-03-07",
          "2016-03-11",
          "2016-03-15",
          "2016-03-17",
          "2016-03-21",
          "2016-03-22",
          "2016-03-24",
          "2016-03-25",
          "2016-03-28",
          "2016-03-29",
          "2016-03-30",
          "2016-04-04",
          "2016-04-06",
          "2016-04-07",
          "2016-04-08",
          "2016-04-27",
          "2016-04-28",
          "2016-04-29",
          "2016-05-05",
          "2016-05-06",
          "2016-05-09",
          "2016-05-10",
          "2016-05-13",
          "2016-05-18",
          "2016-05-19",
          "2016-05-26",
          "2016-06-03",
          "2016-06-07",
          "2016-06-08",
          "2016-06-10",
          "2016-06-17",
          "2016-06-20",
          "2016-06-23",
          "2016-06-24",
          "2016-06-27",
          "2016-06-30",
          "2016-07-04",
          "2016-07-05",
          "2016-07-07",
          "2016-07-08",
          "2016-07-11",
          "2016-07-15",
          "2016-08-02",
          "2016-08-05",
          "2016-08-11",
          "2016-08-17",
          "2016-08-23",
          "2016-08-25",
          "2016-08-31",
          "2016-09-01",
          "2016-09-02",
          "2016-09-05",
          "2016-09-09",
          "2016-09-12",
          "2016-09-15",
          "2016-09-21",
          "2016-09-22",
          "2016-09-26",
          "2016-09-27",
          "2016-10-18",
          "2016-10-25",
          "2016-10-27",
          "2016-10-28",
          "2016-10-31",
          "2016-11-07",
          "2016-11-17",
          "2016-11-21",
          "2016-12-02",
          "2016-12-07",
          "2016-12-12",
          "2016-12-14",
          "2016-12-15",
          "2016-12-20",
          "2016-12-29",
          "2017-01-02",
          "2017-01-16"
         ],
         "xaxis": "x",
         "y": {
          "dtype": "i1",
          "bdata": "AQEBAgIEAgICAQMBAgECAgICAgMBAwEBAgEEAwIBAQECAQEBAQEBBAICAgEBAQEBAQEBAQIBAQECBgEBAQECAgEBAQECAQEBAgEBAQE="
         },
         "yaxis": "y",
         "type": "scatter"
        }
       ],
       "layout": {
        "template": {
         "data": {
          "barpolar": [
           {
            "marker": {
             "line": {
              "color": "white",
              "width": 0.5
             },
             "pattern": {
              "fillmode": "overlay",
              "size": 10,
              "solidity": 0.2
             }
            },
            "type": "barpolar"
           }
          ],
          "bar": [
           {
            "error_x": {
             "color": "#2a3f5f"
            },
            "error_y": {
             "color": "#2a3f5f"
            },
            "marker": {
             "line": {
              "color": "white",
              "width": 0.5
             },
             "pattern": {
              "fillmode": "overlay",
              "size": 10,
              "solidity": 0.2
             }
            },
            "type": "bar"
           }
          ],
          "carpet": [
           {
            "aaxis": {
             "endlinecolor": "#2a3f5f",
             "gridcolor": "#C8D4E3",
             "linecolor": "#C8D4E3",
             "minorgridcolor": "#C8D4E3",
             "startlinecolor": "#2a3f5f"
            },
            "baxis": {
             "endlinecolor": "#2a3f5f",
             "gridcolor": "#C8D4E3",
             "linecolor": "#C8D4E3",
             "minorgridcolor": "#C8D4E3",
             "startlinecolor": "#2a3f5f"
            },
            "type": "carpet"
           }
          ],
          "choropleth": [
           {
            "colorbar": {
             "outlinewidth": 0,
             "ticks": ""
            },
            "type": "choropleth"
           }
          ],
          "contourcarpet": [
           {
            "colorbar": {
             "outlinewidth": 0,
             "ticks": ""
            },
            "type": "contourcarpet"
           }
          ],
          "contour": [
           {
            "colorbar": {
             "outlinewidth": 0,
             "ticks": ""
            },
            "colorscale": [
             [
              0.0,
              "#0d0887"
             ],
             [
              0.1111111111111111,
              "#46039f"
             ],
             [
              0.2222222222222222,
              "#7201a8"
             ],
             [
              0.3333333333333333,
              "#9c179e"
             ],
             [
              0.4444444444444444,
              "#bd3786"
             ],
             [
              0.5555555555555556,
              "#d8576b"
             ],
             [
              0.6666666666666666,
              "#ed7953"
             ],
             [
              0.7777777777777778,
              "#fb9f3a"
             ],
             [
              0.8888888888888888,
              "#fdca26"
             ],
             [
              1.0,
              "#f0f921"
             ]
            ],
            "type": "contour"
           }
          ],
          "heatmap": [
           {
            "colorbar": {
             "outlinewidth": 0,
             "ticks": ""
            },
            "colorscale": [
             [
              0.0,
              "#0d0887"
             ],
             [
              0.1111111111111111,
              "#46039f"
             ],
             [
              0.2222222222222222,
              "#7201a8"
             ],
             [
              0.3333333333333333,
              "#9c179e"
             ],
             [
              0.4444444444444444,
              "#bd3786"
             ],
             [
              0.5555555555555556,
              "#d8576b"
             ],
             [
              0.6666666666666666,
              "#ed7953"
             ],
             [
              0.7777777777777778,
              "#fb9f3a"
             ],
             [
              0.8888888888888888,
              "#fdca26"
             ],
             [
              1.0,
              "#f0f921"
             ]
            ],
            "type": "heatmap"
           }
          ],
          "histogram2dcontour": [
           {
            "colorbar": {
             "outlinewidth": 0,
             "ticks": ""
            },
            "colorscale": [
             [
              0.0,
              "#0d0887"
             ],
             [
              0.1111111111111111,
              "#46039f"
             ],
             [
              0.2222222222222222,
              "#7201a8"
             ],
             [
              0.3333333333333333,
              "#9c179e"
             ],
             [
              0.4444444444444444,
              "#bd3786"
             ],
             [
              0.5555555555555556,
              "#d8576b"
             ],
             [
              0.6666666666666666,
              "#ed7953"
             ],
             [
              0.7777777777777778,
              "#fb9f3a"
             ],
             [
              0.8888888888888888,
              "#fdca26"
             ],
             [
              1.0,
              "#f0f921"
             ]
            ],
            "type": "histogram2dcontour"
           }
          ],
          "histogram2d": [
           {
            "colorbar": {
             "outlinewidth": 0,
             "ticks": ""
            },
            "colorscale": [
             [
              0.0,
              "#0d0887"
             ],
             [
              0.1111111111111111,
              "#46039f"
             ],
             [
              0.2222222222222222,
              "#7201a8"
             ],
             [
              0.3333333333333333,
              "#9c179e"
             ],
             [
              0.4444444444444444,
              "#bd3786"
             ],
             [
              0.5555555555555556,
              "#d8576b"
             ],
             [
              0.6666666666666666,
              "#ed7953"
             ],
             [
              0.7777777777777778,
              "#fb9f3a"
             ],
             [
              0.8888888888888888,
              "#fdca26"
             ],
             [
              1.0,
              "#f0f921"
             ]
            ],
            "type": "histogram2d"
           }
          ],
          "histogram": [
           {
            "marker": {
             "pattern": {
              "fillmode": "overlay",
              "size": 10,
              "solidity": 0.2
             }
            },
            "type": "histogram"
           }
          ],
          "mesh3d": [
           {
            "colorbar": {
             "outlinewidth": 0,
             "ticks": ""
            },
            "type": "mesh3d"
           }
          ],
          "parcoords": [
           {
            "line": {
             "colorbar": {
              "outlinewidth": 0,
              "ticks": ""
             }
            },
            "type": "parcoords"
           }
          ],
          "pie": [
           {
            "automargin": true,
            "type": "pie"
           }
          ],
          "scatter3d": [
           {
            "line": {
             "colorbar": {
              "outlinewidth": 0,
              "ticks": ""
             }
            },
            "marker": {
             "colorbar": {
              "outlinewidth": 0,
              "ticks": ""
             }
            },
            "type": "scatter3d"
           }
          ],
          "scattercarpet": [
           {
            "marker": {
             "colorbar": {
              "outlinewidth": 0,
              "ticks": ""
             }
            },
            "type": "scattercarpet"
           }
          ],
          "scattergeo": [
           {
            "marker": {
             "colorbar": {
              "outlinewidth": 0,
              "ticks": ""
             }
            },
            "type": "scattergeo"
           }
          ],
          "scattergl": [
           {
            "marker": {
             "colorbar": {
              "outlinewidth": 0,
              "ticks": ""
             }
            },
            "type": "scattergl"
           }
          ],
          "scattermapbox": [
           {
            "marker": {
             "colorbar": {
              "outlinewidth": 0,
              "ticks": ""
             }
            },
            "type": "scattermapbox"
           }
          ],
          "scattermap": [
           {
            "marker": {
             "colorbar": {
              "outlinewidth": 0,
              "ticks": ""
             }
            },
            "type": "scattermap"
           }
          ],
          "scatterpolargl": [
           {
            "marker": {
             "colorbar": {
              "outlinewidth": 0,
              "ticks": ""
             }
            },
            "type": "scatterpolargl"
           }
          ],
          "scatterpolar": [
           {
            "marker": {
             "colorbar": {
              "outlinewidth": 0,
              "ticks": ""
             }
            },
            "type": "scatterpolar"
           }
          ],
          "scatter": [
           {
            "fillpattern": {
             "fillmode": "overlay",
             "size": 10,
             "solidity": 0.2
            },
            "type": "scatter"
           }
          ],
          "scatterternary": [
           {
            "marker": {
             "colorbar": {
              "outlinewidth": 0,
              "ticks": ""
             }
            },
            "type": "scatterternary"
           }
          ],
          "surface": [
           {
            "colorbar": {
             "outlinewidth": 0,
             "ticks": ""
            },
            "colorscale": [
             [
              0.0,
              "#0d0887"
             ],
             [
              0.1111111111111111,
              "#46039f"
             ],
             [
              0.2222222222222222,
              "#7201a8"
             ],
             [
              0.3333333333333333,
              "#9c179e"
             ],
             [
              0.4444444444444444,
              "#bd3786"
             ],
             [
              0.5555555555555556,
              "#d8576b"
             ],
             [
              0.6666666666666666,
              "#ed7953"
             ],
             [
              0.7777777777777778,
              "#fb9f3a"
             ],
             [
              0.8888888888888888,
              "#fdca26"
             ],
             [
              1.0,
              "#f0f921"
             ]
            ],
            "type": "surface"
           }
          ],
          "table": [
           {
            "cells": {
             "fill": {
              "color": "#EBF0F8"
             },
             "line": {
              "color": "white"
             }
            },
            "header": {
             "fill": {
              "color": "#C8D4E3"
             },
             "line": {
              "color": "white"
             }
            },
            "type": "table"
           }
          ]
         },
         "layout": {
          "annotationdefaults": {
           "arrowcolor": "#2a3f5f",
           "arrowhead": 0,
           "arrowwidth": 1
          },
          "autotypenumbers": "strict",
          "coloraxis": {
           "colorbar": {
            "outlinewidth": 0,
            "ticks": ""
           }
          },
          "colorscale": {
           "diverging": [
            [
             0,
             "#8e0152"
            ],
            [
             0.1,
             "#c51b7d"
            ],
            [
             0.2,
             "#de77ae"
            ],
            [
             0.3,
             "#f1b6da"
            ],
            [
             0.4,
             "#fde0ef"
            ],
            [
             0.5,
             "#f7f7f7"
            ],
            [
             0.6,
             "#e6f5d0"
            ],
            [
             0.7,
             "#b8e186"
            ],
            [
             0.8,
             "#7fbc41"
            ],
            [
             0.9,
             "#4d9221"
            ],
            [
             1,
             "#276419"
            ]
           ],
           "sequential": [
            [
             0.0,
             "#0d0887"
            ],
            [
             0.1111111111111111,
             "#46039f"
            ],
            [
             0.2222222222222222,
             "#7201a8"
            ],
            [
             0.3333333333333333,
             "#9c179e"
            ],
            [
             0.4444444444444444,
             "#bd3786"
            ],
            [
             0.5555555555555556,
             "#d8576b"
            ],
            [
             0.6666666666666666,
             "#ed7953"
            ],
            [
             0.7777777777777778,
             "#fb9f3a"
            ],
            [
             0.8888888888888888,
             "#fdca26"
            ],
            [
             1.0,
             "#f0f921"
            ]
           ],
           "sequentialminus": [
            [
             0.0,
             "#0d0887"
            ],
            [
             0.1111111111111111,
             "#46039f"
            ],
            [
             0.2222222222222222,
             "#7201a8"
            ],
            [
             0.3333333333333333,
             "#9c179e"
            ],
            [
             0.4444444444444444,
             "#bd3786"
            ],
            [
             0.5555555555555556,
             "#d8576b"
            ],
            [
             0.6666666666666666,
             "#ed7953"
            ],
            [
             0.7777777777777778,
             "#fb9f3a"
            ],
            [
             0.8888888888888888,
             "#fdca26"
            ],
            [
             1.0,
             "#f0f921"
            ]
           ]
          },
          "colorway": [
           "#636efa",
           "#EF553B",
           "#00cc96",
           "#ab63fa",
           "#FFA15A",
           "#19d3f3",
           "#FF6692",
           "#B6E880",
           "#FF97FF",
           "#FECB52"
          ],
          "font": {
           "color": "#2a3f5f"
          },
          "geo": {
           "bgcolor": "white",
           "lakecolor": "white",
           "landcolor": "white",
           "showlakes": true,
           "showland": true,
           "subunitcolor": "#C8D4E3"
          },
          "hoverlabel": {
           "align": "left"
          },
          "hovermode": "closest",
          "mapbox": {
           "style": "light"
          },
          "paper_bgcolor": "white",
          "plot_bgcolor": "white",
          "polar": {
           "angularaxis": {
            "gridcolor": "#EBF0F8",
            "linecolor": "#EBF0F8",
            "ticks": ""
           },
           "bgcolor": "white",
           "radialaxis": {
            "gridcolor": "#EBF0F8",
            "linecolor": "#EBF0F8",
            "ticks": ""
           }
          },
          "scene": {
           "xaxis": {
            "backgroundcolor": "white",
            "gridcolor": "#DFE8F3",
            "gridwidth": 2,
            "linecolor": "#EBF0F8",
            "showbackground": true,
            "ticks": "",
            "zerolinecolor": "#EBF0F8"
           },
           "yaxis": {
            "backgroundcolor": "white",
            "gridcolor": "#DFE8F3",
            "gridwidth": 2,
            "linecolor": "#EBF0F8",
            "showbackground": true,
            "ticks": "",
            "zerolinecolor": "#EBF0F8"
           },
           "zaxis": {
            "backgroundcolor": "white",
            "gridcolor": "#DFE8F3",
            "gridwidth": 2,
            "linecolor": "#EBF0F8",
            "showbackground": true,
            "ticks": "",
            "zerolinecolor": "#EBF0F8"
           }
          },
          "shapedefaults": {
           "line": {
            "color": "#2a3f5f"
           }
          },
          "ternary": {
           "aaxis": {
            "gridcolor": "#DFE8F3",
            "linecolor": "#A2B1C6",
            "ticks": ""
           },
           "baxis": {
            "gridcolor": "#DFE8F3",
            "linecolor": "#A2B1C6",
            "ticks": ""
           },
           "bgcolor": "white",
           "caxis": {
            "gridcolor": "#DFE8F3",
            "linecolor": "#A2B1C6",
            "ticks": ""
           }
          },
          "title": {
           "x": 0.05
          },
          "xaxis": {
           "automargin": true,
           "gridcolor": "#EBF0F8",
           "linecolor": "#EBF0F8",
           "ticks": "",
           "title": {
            "standoff": 15
           },
           "zerolinecolor": "#EBF0F8",
           "zerolinewidth": 2
          },
          "yaxis": {
           "automargin": true,
           "gridcolor": "#EBF0F8",
           "linecolor": "#EBF0F8",
           "ticks": "",
           "title": {
            "standoff": 15
           },
           "zerolinecolor": "#EBF0F8",
           "zerolinewidth": 2
          }
         }
        },
        "xaxis": {
         "anchor": "y",
         "domain": [
          0.0,
          1.0
         ],
         "title": {
          "text": "Дата"
         }
        },
        "yaxis": {
         "anchor": "x",
         "domain": [
          0.0,
          1.0
         ],
         "title": {
          "text": "Количество вакансий"
         }
        },
        "legend": {
         "tracegroupgap": 0
        },
        "title": {
         "text": "📅 Динамика публикации вакансий по датам"
        },
        "height": 400,
        "hovermode": "x unified"
       },
       "config": {
        "plotlyServerURL": "https://plot.ly"
       }
      }
     },
     "metadata": {},
     "output_type": "display_data"
    }
   ],
   "execution_count": 222
  },
  {
   "metadata": {
    "ExecuteTime": {
     "end_time": "2025-10-29T18:14:39.546839Z",
     "start_time": "2025-10-29T18:14:39.372025Z"
    }
   },
   "cell_type": "code",
   "source": [
    "# Интерактивный Sunburst: Иерархия вакансий (страна → сектор → тип)\n",
    "if all(col in df.columns for col in ['country', 'sector', 'job_type']):\n",
    "    # Берем топ-10 стран для читаемости\n",
    "    top_countries = df['country'].value_counts().head(10).index\n",
    "    df_filtered = df[df['country'].isin(top_countries)].copy()\n",
    "\n",
    "    # Убираем NaN\n",
    "    df_filtered = df_filtered.dropna(subset=['country', 'sector', 'job_type'])\n",
    "\n",
    "    fig = px.sunburst(\n",
    "        df_filtered,\n",
    "        path=['country', 'sector', 'job_type'],\n",
    "        title='🌞 Иерархическая структура вакансий: Страна → Сектор → Тип работы',\n",
    "        color_discrete_sequence=px.colors.qualitative.Set3\n",
    "    )\n",
    "\n",
    "    fig.update_layout(\n",
    "        height=600,\n",
    "        template='plotly_white'\n",
    "    )\n",
    "\n",
    "    fig.show()\n"
   ],
   "id": "510ef1d4df27df3f",
   "outputs": [
    {
     "data": {
      "application/vnd.plotly.v1+json": {
       "data": [
        {
         "branchvalues": "total",
         "domain": {
          "x": [
           0.0,
           1.0
          ],
          "y": [
           0.0,
           1.0
          ]
         },
         "hovertemplate": "labels=%{label}<br>count=%{value}<br>parent=%{parent}<br>id=%{id}<extra></extra>",
         "ids": [
          "United States of America/IT/Software Development/Full Time Employee",
          "United States of America/Experienced (Non-Manager)/Full Time",
          "United States of America/Project/Program Management/Full Time Employee",
          "United States of America/Experienced (Non-Manager)/Full Time Employee",
          "United States of America/Customer Support/Client Care/Part Time Employee",
          "United States of America/Customer Support/Client Care/Full Time",
          "United States of America/Customer Support/Client Care/Full Time Employee",
          "United States of America/Entry Level/Full Time",
          "United States of America/Building Construction/Skilled Trades/Full Time Employee",
          "United States of America/Installation/Maintenance/Repair/Full Time, Employee",
          "United States of America/Business/Strategic Management/Full Time, Employee",
          "United States of America/Accounting/Finance/Insurance/Full Time Temporary/Contract/Project",
          "United States of America/Engineering/Full Time Employee",
          "United States of America/Engineering/Full Time Temporary/Contract/Project",
          "United States of America/Editorial/Writing/Full Time Temporary/Contract/Project",
          "United States of America/Business/Strategic Management/Full Time Employee",
          "United States of America/Medical/Health/Full Time, Employee",
          "United States of America/Editorial/Writing/Full Time Employee",
          "United States of America/Engineering/Full Time, Employee",
          "United States of America/Marketing/Product/Full Time Employee",
          "United States of America/Editorial/Writing/Part Time Employee",
          "United States of America/Manager (Manager/Supervisor of Staff)/Full Time",
          "United States of America/Administrative/Clerical/Full Time Employee",
          "United States of America/Student (Undergraduate/Graduate)/Full Time",
          "United States of America/Experienced (Non-Manager)/Full Time, Employee",
          "United States of America/Biotech/R&D/Science/Full Time, Employee",
          "United States of America/Editorial/Writing/Full Time, Employee",
          "United States of America/Customer Support/Client Care/Full Time, Temporary/Contract/Project",
          "United States of America/General/Other: Customer Support/Client Care/Full Time Employee",
          "United States of America/IT/Software Development/Full Time, Employee",
          "United States of America/Sales/Retail/Business Development/Full Time Employee",
          "United States of America/General/Other: Engineering/Full Time Employee",
          "United States of America/Sales/Retail/Business Development/Full Time, Employee",
          "United States of America/Education/Training/Full Time Employee",
          "United States of America/Administrative/Clerical/Full Time, Employee",
          "United States of America/Other/Full Time Employee",
          "United States of America/Experienced (Non-Manager)/Part Time",
          "United States of America/General/Other: IT/Software Development/Full Time Employee",
          "United States of America/Brand/Product MarketingGeneral/Other: Marketing/ProductProduct Management/Full Time Employee",
          "United States of America/Experienced (Non-Manager)/Full Time, Temporary/Contract/Project",
          "United States of America/Sales/Retail/Business Development/Part Time, Employee",
          "United States of America/IT/Software Development/Full Time Temporary/Contract/Project",
          "United States of America/General/Other: Editorial/Writing/Full Time Employee",
          "United States of America/Customer Support/Client Care/Full Time, Employee",
          "United States of America/Experienced (Non-Manager)/Full Time , Employee",
          "United States of America/Executive (SVP, VP, Department Head, etc)/Full Time",
          "United States of America/Editorial/Writing/Full Time Intern",
          "United States of America/Engineering/Full Time",
          "United States of America/Installation/Maintenance/Repair/Full Time",
          "United States of America/Accounting/Finance/Insurance/Full Time Employee",
          "United States of America/Engineering/Full Time , Employee",
          "United States of America/Banking/Real Estate/Mortgage Professionals/Full Time Employee",
          "United States of America/Experienced (Non-Manager)/Full Time / Employee",
          "United States of America/Medical/Health/Full Time Employee",
          "United States of America/Experienced (Non-Manager)/Full Time , Temporary/Contract/Project",
          "United States of America/Legal/Full Time, Employee",
          "United States of America/IT/Software Development/Full Time",
          "United States of America/Customer Support/Client Care/Employee",
          "United States of America/Sales/Retail/Business Development/Full Time Temporary/Contract/Project",
          "United States of America/Administrative/Clerical/Full Time, Temporary/Contract/Project",
          "United States of America/Field SalesGeneral/Other: Sales/Business DevelopmentStore/Branch Management/Full Time Employee",
          "United States of America/Installation/Maintenance/Repair/Full Time Employee",
          "United States of America/Entry Level/Full Time , Temporary/Contract/Project",
          "United States of America/Entry Level/Full Time Employee",
          "United States of America/Security/Protective Services/Full Time Employee",
          "United States of America/Logistics/Transportation/Full Time / Employee",
          "United States of America/Human Resources/Full Time, Employee",
          "United States of America/Food Services/Hospitality/Full Time, Employee",
          "United States of America/Sales/Retail/Business Development/Full Time",
          "United States of America/Business/Strategic Management/Full Time Temporary/Contract/Project",
          "United States of America/Manager (Manager/Supervisor of Staff)/Full Time, Employee",
          "United States of America/Experienced (Non-Manager)/Temporary/Contract/Project",
          "United States of America/Business/Strategic Management/Full Time/ Employee",
          "United States of America/Sales/Retail/Business Development/Part Time Employee",
          "United States of America/Food Services/Hospitality/Part Time Employee",
          "United States of America/General/Other: Business/Strategic Management/Full Time, Employee",
          "United States of America/Medical/Health/Per Diem, Employee",
          "United States of America/Business/Strategic Management/Full Time , Employee",
          "United States of America/Education Level High School or equivalent/Job Type Full Time Employee",
          "United States of America/Medical/Health/Full Time",
          "United States of America/Experienced (Non-Manager)/Full Time Temporary/Contract/Project",
          "United States of America/Food Services/Hospitality/Full Time Employee",
          "United States of America/Food Services/Hospitality/Full Time , Employee",
          "United States of America/Food Services/Hospitality/Part Time, Employee",
          "United States of America/Accounting/Finance/Insurance/Full Time, Employee",
          "United States of America/Entry Level/Part Time",
          "United States of America/Marketing/Product/Full Time, Employee",
          "United States of America/Security/Protective Services/Part Time Employee",
          "United States of America/Security/Protective Services/Full Time, Employee",
          "United States of America/Security/Protective Services/Per Diem",
          "United States of America/Marketing/Product/Full Time , Employee",
          "United States of America/Medical/Health/Part Time Employee",
          "United States of America/Manufacturing/Production/Operations/Full Time",
          "United States of America/Logistics/Transportation/Full Time Employee",
          "United States of America/Manufacturing/Production/Operations/Full Time, Employee",
          "United States of America/Medical/Health/Part Time, Employee",
          "United States of America/Entry Level/Temporary/Contract/Project",
          "United States of America/Retail/Full Time Employee",
          "United States of America/To perform this job successfully, an individual must be able to perform each essential duty satisfactorily. The requirements listed below are representative of the knowledge, skill, and/or ability required. Reasonable accommodations may be made to enable individuals with disabilities to perform the essential functions.   Bilingual (English/Spanish-speaking) skills are required. Diploma, Associate or bachelors degree in nursing or bachelors degree (or higher) in a health or human services related field required. Masters level and/or advanced study in a health-related field desired. Minimum of two (2) years full time equivalent of direct clinical care to consumers required. Case Management and/or Workers’ compensation-related experience strongly preferred. Registered nurse with current, valid state licensure required. Must be eligible to sit for CCM certification and must have a valid driver’s license. Experience in rehabilitation services industry, vocational/ occupational/ industrial nursing preferred. Background in state workers’ compensation law and practices desirable. In the case of an individual in a state that does not require licensure or certification, the individual must have a baccalaureate or graduate degree in social work, or another health or human services field that promotes the physical, psychosocial, and/or vocational well-being of the persons being served, that requires: A degree from an institution that is fully accredited by a nationally recognized educational accreditation organization; The individual must have completed a supervised field experience, in case management, health, or behavioral health as part of the degree requirements; and URAC-recognized certification in case management within four (4) years of hire as a case manager Pursue URAC-recognized certification in case management (CCM, CDMS, CRC, CRRN or COHN) upon eligibility. Excellent interpersonal skills and phone manners. Excellent organizational skills. Must be proficient in Microsoft Office suite with such programs as Word and Excel as well as have experience with internet searches and a comfort level with other software programs. Ability to set priorities and work independently is essential./Full Time Employee",
          "United States of America/High school diploma or general education degree (GED) required; Associate or Bachelor’s degree preferred CPT and ICD-9 coding strongly preferred At least 1 year experience in the worker’s compensation arena including utilization review and/or telephonic case management strongly preferred Excellent interpersonal skills, phone etiquette and strong organizational skills are essential Excellent computer skills and working knowledge of Microsoft office programs such as Word and Excel Must be detail oriented, able to prioritize and use resources available and able to multi-task./Full Time Employee",
          "United States of America/Security/Protective Services/Full Time , Employee",
          "United States of America/Building Construction/Skilled Trades/Full Time, Employee",
          "United States of America/IT/Software Development/Full Time, Temporary/Contract/Project",
          "United States of America/Security/Protective Services/Employee",
          "United States of America/Human Resources/Full Time Employee",
          "United States of America/Logistics/Transportation/Full Time",
          "United States of America/Banking/Real Estate/Mortgage Professionals/Full Time, Employee",
          "United States of America/Logistics/Transportation/Full Time, Employee",
          "United States of America/Logistics/Transportation/Part Time, Temporary/Contract/Project",
          "United States of America/Administrative/Clerical/Full Time , Employee",
          "United States of America/To perform this job successfully, an individual must be able to perform each essential duty satisfactorily. The requirements listed below are representative of the knowledge, skill, and/or ability required. Reasonable accommodations may be made to enable individuals with disabilities to perform the essential functions Diploma, A.S. degree or B.S. degree in nursing required. Advanced Degree preferred. Minimum of two (2) years full time equivalent of direct clinical care to consumers/clinical practice. Case Management and Workers’ compensation-related experience preferred. Registered nurse with current, valid state licensure required. In the case of an individual in a state that does not require licensure or certification, the individual must have a baccalaureate or graduate degree in social work, or another health or human services field that promotes the physical, psychosocial, and/or vocational well-being of the persons being served, that requires: 1) A degree from an institution that is fully accredited by a nationally recognized educational accreditation organization; 2) The individual must have completed a supervised field experience, in case management, health, or behavioral health as part of the degree requirements; and 3) URAC-recognized certification in case management within four (4) years of hire as a case manager Pursue URAC-recognized certification in case management (CCM, CDMS, CRC, CRRN or COHN) upon eligibility. Other state licenses/certification as required by law. Prior Case Management experience preferred. Excellent interpersonal skills and phone manners. Excellent organizational skills. Ability to set priorities. Ability to work independently and as part of a team. Computer literacy required./Full Time Employee",
          "United States of America/Sales/Retail/Business Development/Full Time , Employee",
          "United States of America/Sales/Retail/Business Development/Full Time ",
          "United States of America/Executive (SVP, VP, Department Head, etc)/Full Time, Employee",
          "United States of America/IT/Software Development/Temporary/Contract/Project",
          "United States of America/Entry Level/Full Time / Employee",
          "United States of America/IT/Software Development/Part Time Employee",
          "United States of America/Manager (Manager/Supervisor of Staff)/Full Time, Temporary/Contract/Project",
          "United States of America/Entry Level/Full Time, Temporary/Contract/Project",
          "United States of America/Biotech/R&D/Science/Full Time Employee",
          "United States of America/Biotech/R&D/Science/Full Time Temporary/Contract/Project",
          "United States of America/Biotech/R&D/Science/Full Time, Temporary/Contract/Project",
          "United States of America/Logistics/Transportation/Temporary/Contract/Project",
          "United States of America/Project/Program Management/Full Time",
          "United States of America/Project/Program Management/Full Time, Employee",
          "United States of America/Quality Assurance/Safety/Full Time, Employee",
          "United States of America/Quality Assurance/Safety/Full Time Employee",
          "United States of America/Quality Assurance/Safety/Full Time Temporary/Contract/Project",
          "United States of America/Quality Assurance/Safety/Full Time, Temporary/Contract/Project",
          "United States of America/Quality Assurance/Safety/Full Time",
          "United States of America/Quality Assurance/Safety/Employee",
          "United States of America/General/Other: Quality Assurance/Safety/Full Time, Employee",
          "United States of America/Executive (SVP, VP, Department Head, etc)/Full Time Employee",
          "United States of America/Biotech/R&D/Science/Part Time, Temporary/Contract/Project",
          "United States of America/Quality Assurance/Safety/Full Time , Temporary/Contract/Project",
          "United States of America/Biotech/R&D/Science/Full Time , Temporary/Contract/Project",
          "United States of America/General/Other: R&D/Science/Full Time, Employee",
          "United States of America/Banking/Real Estate/Mortgage Professionals/Full Time",
          "United States of America/General/Other: Food Services/Full Time Employee",
          "United States of America/Food Services/Hospitality/Per Diem, Employee",
          "United States of America/General/Other: Installation/Maintenance/Repair/Full Time Employee",
          "United States of America/Student (High School)/Full Time",
          "United States of America/Human Resources/Full Time Temporary/Contract/Project",
          "United States of America/Accounting/Finance/Insurance/Temporary/Contract/Project",
          "United States of America/Legal/Full Time Temporary/Contract/Project",
          "United States of America/Logistics/Transportation/Part Time Employee",
          "United States of America/Legal/Full Time Employee",
          "United States of America/Manufacturing/Production/Operations/Full Time Employee",
          "United States of America/General/Other: Administrative/Clerical/Full Time Employee",
          "United States of America/Electrical/Electronics EngineeringIndustrial/Manufacturing EngineeringMechanical Engineering/Full Time Employee",
          "United States of America/Accounting/Finance/Insurance/Full Time",
          "United States of America/Entry Level/Full Time Temporary/Contract/Project",
          "United States of America/Manufacturing/Production/Operations/Full Time Temporary/Contract/Project",
          "United States of America/Building Construction/Skilled Trades/Full Time",
          "United States of America/Creative/Design/Full Time Employee",
          "United States of America/Marketing/Product/Part Time Intern",
          "United States of America/Manager (Manager/Supervisor of Staff)/Employee",
          "United States of America/Marketing/Product/Full Time Temporary/Contract/Project",
          "United States of America/Marketing/Product/Part Time Employee",
          "United States of America/Legal/Temporary/Contract/Project",
          "United States of America/General/Other: Sales/Business Development/Full Time, Employee",
          "United States of America/Installation/Maintenance/Repair/Part Time, Employee",
          "United States of America/Engineering/Full Time, Temporary/Contract/Project",
          "United States of America/Human Resources/Full Time / Employee",
          "United States of America/Human Resources/Full Time, Temporary/Contract/Project",
          "United States of America/Human Resources/Employee",
          "United States of America/Human Resources/Full Time",
          "United States of America/Human Resources/Full Time , Employee",
          "United States of America/Recruiting/Sourcing/Full Time Employee",
          "United States of America/Manager (Manager/Supervisor of Staff)/Full Time Employee",
          "United States of America/General/Other: Human Resources/Full Time Employee",
          "United States of America/Human Resources/Full Time Intern",
          "United States of America/Human Resources/Part Time Employee",
          "United States of America/Human Resources/Full Time ",
          "United States of America/Sales/Retail/Business Development/Full Time / Employee",
          "United States of America/Business Development/New Accounts General/Other: Sales/Business Development Technical Presales Support & Technical Sales/Full Time Employee",
          "United States of America/Building Construction/Skilled Trades/Part Time Employee",
          "United States of America/Medical/Health/Per Diem Employee",
          "United States of America/Nursing/Full Time Employee",
          "United States of America/Experienced (Non-Manager)/Employee",
          "United States of America/IT/Software Development/Full Time , Employee",
          "United States of America/Medical/Health/Employee",
          "United States of America/General/Other: IT/Software DevelopmentSoftware/Web Development/Full Time Employee",
          "United States of America/Medical/Health/Full Time Temporary/Contract/Project",
          "United States of America/Network and Server AdministrationSoftware/System ArchitectureSystems Analysis - IT/Full Time Employee",
          "United States of America/Nursing/Full Time",
          "United States of America/Entry Level/Full Time, Employee",
          "United States of America/Medical/Health/Full Time , Employee",
          "United States of America/Network and Server Administration/Full Time Employee",
          "United States of America/Experienced (Non-Manager)/Per Diem",
          "United States of America/Executive (SVP, VP, Department Head, etc)/Full Time , Employee",
          "United States of America/Other/Full Time, Employee",
          "United States of America/Education/Training/Full Time, Employee",
          "United States of America/Accounting/Finance/Insurance/Full Time , Employee",
          "United States of America/Customer Support/Client Care/Full Time Temporary/Contract/Project",
          "United States of America/Strong work ethic with a drive to exceed expectations Excellent people person: Work well with others in a fast paced, commission sales environment Open to learning and growing independently and from feedback Work well under high pressure with a positive attitude and contagious enthusiasm Detail oriented and highly organized Sense of Design: Able to distinguish and put together various styles, colors, and textures Associates Degree or higher, preferred not required Basic mathematical and computer skills Ability to read, write, and speak in English (a secondary language is a plus) Previous experience in retail or a related field preferred (home improvement, furniture, electronics, customer service, home furnishings, hospitality, flooring, sales, retail, etc.)   Benefits Great Pay and Exceptional Training Individual Career Growth Opportunities Holiday and Vacation Pay Medical, Dental, and Vision Insurance HSA Employer Contributions 401(k) Plan with employer matching Company Paid Basic Life Insurance and Accidental Death & Dismemberment Company Paid Long Term Disability   The Tile Shop is an Equal Opportunity Employer.     *CB/Full Time Employee",
          "United States of America/Other/Full Time",
          "United States of America/Entry Level/Part Time/ Temporary/Contract/Project",
          "United States of America/Installation/Maintenance/Repair/Full Time Temporary/Contract/Project",
          "United States of America/Systems Analysis - ITWeb/UI/UX Design/Full Time, Temporary/Contract/Project",
          "United States of America/NursingGeneral/Other: Medical/Health/Full Time Employee",
          "United States of America/Account Management (Commissioned)Insurance Agent/BrokerFinancial Products Sales/Brokerage/Full Time, Employee",
          "United States of America/Administrative/Clerical/Full Time Temporary/Contract/Project",
          "United States of America/Retail/Part Time Employee",
          "United States of America/Project/Program Management/Full Time Temporary/Contract/Project",
          "United States of America/Project/Program Management/Part Time, Employee",
          "United States of America/Project/Program Management/Full Time , Employee",
          "United States of America/ISO CertificationProduction Quality Assurance/Full Time Employee",
          "United States of America/Production Quality Assurance/Full Time , Employee",
          "United States of America/Quality Assurance/Safety/Temporary/Contract/Project",
          "United States of America/Student (High School)/Part Time",
          "United States of America/Logistics/Transportation/Full Time , Employee",
          "United States of America/Accounting/Finance/Insurance/Part Time",
          "United States of America/Installation/Maintenance/Repair/Full Time / Employee",
          "United States of America/Education/Training/Full Time, Temporary/Contract/Project",
          "United States of America/Sales/Retail/Business Development/Employee",
          "United States of America/General/Other: Legal Paralegal & Legal Secretary/Full Time , Employee",
          "United States of America/Legal/Part Time Temporary/Contract/Project",
          "United States of America/Legal/Full Time / Employee",
          "United States of America/Manager (Manager/Supervisor of Staff)/Full Time , Employee",
          "United States of America/Legal/Full Time, Temporary/Contract/Project",
          "United States of America/Legal/Full Time , Employee",
          "United States of America/Legal/Exempt",
          "United States of America/Legal/Full Time",
          "United States of America/Student/Full Time",
          "United States of America/Manufacturing/Production/Operations/Full Time / Employee",
          "United States of America/Customer Support/Client Care/Full Time/ Employee",
          "United States of America/Entry Level/Employee",
          "United States of America/Manufacturing/Production/Operations/Temporary/Contract/Project",
          "United States of America/Installation/Maintenance/Repair/Full Time , Employee",
          "United States of America/Education Level Bachelor's Degree/Job Type Full Time Employee",
          "United States of America/General/Other: R&D/Science/Full Time Employee",
          "United States of America/Education/Training/Full Time / Employee",
          "United States of America/Education/Training/Part Time, Employee",
          "United States of America/Education/Training/Full Time",
          "United States of America/Manager (Manager/Supervisor of Staff)/Per Diem",
          "United States of America/General/Other: Training/Instruction/Full Time, Employee",
          "United States of America/Food Services/Hospitality/Full Time Temporary/Contract/Project",
          "United States of America/IT/Software Development/Full Time , Temporary/Contract/Project",
          "United States of America/IT/Software Development/Employee",
          "United States of America/Accounts Payable/ReceivableGeneral/Other: Accounting/FinanceCorporate Accounting/Full Time, Employee",
          "United States of America/Food Services/Hospitality/Full Time",
          "United States of America/Software/Web Development/Full Time Employee",
          "United States of America/General/Other: Logistics/TransportationPurchasing/Full Time, Employee",
          "United States of America/Human Resources/Full Time , Temporary/Contract/Project",
          "United States of America/Real Estate Agent/BrokerRetail/Counter Sales and CashierStore/Branch Management/Full Time, Employee",
          "United States of America/Field SalesStore/Branch Management/Full Time, Employee",
          "United States of America/Creative/Design/Full Time, Employee",
          "United States of America/Food Services/Hospitality/Per Diem Employee",
          "United States of America/Creative/Design/Full Time Temporary/Contract/Project",
          "United States of America/General/Other: Administrative/Clerical/Full Time, Employee",
          "United States of America/Car, Van and Bus DrivingGeneral/Other: Logistics/TransportationTruck Driving/Full Time, Employee",
          "United States of America/Education/Training/Part Time Temporary/Contract/Project",
          "United States of America/Education/Training/Part Time Employee",
          "United States of America/General/Other: Human ResourcesRecruiting/Sourcing/Full Time, Employee",
          "United States of America/Business Development/New AccountsGeneral/Other: Sales/Business DevelopmentFinancial Products Sales/Brokerage/Full Time, Employee",
          "United States of America/Software/Web Development/Full Time, Employee",
          "United States of America/Installation/Maintenance/Repair/Part Time Employee",
          "United States of America/General/Other: Medical/HealthVeterinary/Animal Care/Full Time, Employee",
          "United States of America/Sales/Retail/Business Development/Part Time Seasonal",
          "United States of America/Contracts AdministrationGeneral/Other: Legal/Full Time, Employee",
          "United States of America/Investor and Public/Media RelationsMarketing CommunicationsGeneral/Other: Marketing/Product/Full Time, Employee",
          "United States of America/Veterinary/Animal Care/Full Time, Employee",
          "United States of America/Administrative/Clerical/Part Time Employee",
          "United States of America/Government, Defence & Emergency/Full Time, Employee",
          "United States of America/General/Other: Business/Strategic ManagementStore/Branch ManagementHotel/Lodging Management/Full Time Employee",
          "United States of America/Account Management (Non-Commissioned)General/Other: Customer Support/Client CareRetail Customer Service/Full Time Employee",
          "United States of America/General/Other: Training/InstructionSchool/College AdministrationUniversity/Full Time, Employee",
          "United States of America/Food Services/Hospitality/Employee",
          "United States of America/Customer Support/Client Care/Full Time / Employee",
          "United States of America/Entry Level/Per Diem",
          "United States of America/General/Other: Medical/Health/Full Time Employee",
          "United States of America/Optical/Full Time Employee",
          "United States of America/Business/Strategic Management/Full Time",
          "United States of America/Education/Training/Full Time , Employee",
          "United States of America/Systems Analysis - IT/Full Time Employee",
          "United States of America/Education/Training/Part Time , Employee",
          "United States of America/Education Level High School or equivalent/Job Type Employee",
          "United States of America/Equipment Install/Maintain/RepairFacilities Management/MaintenanceHVAC/Full Time, Employee",
          "United States of America/Career Level Entry Level/Job Type Full Time Temporary/Contract/Project",
          "United States of America/Other/Full Time, Temporary/Contract/Project",
          "United States of America/Career Level Experienced (Non-Manager)/Job Type Full Time Employee",
          "United States of America/Customer Support/Client Care/Part Time, Employee",
          "United States of America/Food Services/Hospitality/Full Time / > Employee",
          "United States of America/Administrative/Clerical/Full Time",
          "United States of America/Manufacturing/Production/Operations/Part Time Employee",
          "United States of America/Operations/Plant Management/Full Time Employee",
          "United States of America/Manufacturing/Production/Operations/Employee",
          "United States of America/Installation/Maintenance/Repair/Employee",
          "United States of America/Manufacturing/Production/Operations/Part Time ",
          "United States of America/General/Other: Production/Operations/Full Time, Employee",
          "United States of America/Entry Level/Full Time , Employee",
          "United States of America/General/Other: Production/Operations/Full Time Employee",
          "United States of America/Installation/Maintenance/Repair/Full Time, Temporary/Contract/Project",
          "United States of America/General/Other: Production/OperationsSewing and Tailoring/Full Time Employee",
          "United States of America/Marketing/Product/Full Time",
          "United States of America/Manufacturing/Production/Operations/Full Time , Employee",
          "United States of America/Marketing/Product/Full Time / Employee",
          "United States of America/Manufacturing/Production/Operations/Full Time , Temporary/Contract/Project",
          "United States of America/General/Other: Marketing/Product/Full Time, Employee",
          "United States of America/Production/Operations Planning/Full Time, Employee",
          "United States of America/Marketing/Product/Employee",
          "United States of America/Accounting/Finance/Insurance/Full Time, Temporary/Contract/Project",
          "United States of America/Project/Program Management/Employee",
          "United States of America/Food Safety and Inspection/Full Time, Employee",
          "United States of America/Business/Strategic Management/Full Time, Temporary/Contract/Project",
          "United States of America/Manager (Manager/Supervisor of Staff)/Full Time Temporary/Contract/Project",
          "United States of America/Banking/Real Estate/Mortgage Professionals/Full Time Temporary/Contract/Project",
          "United States of America/Engineering/Full Time , Temporary/Contract/Project",
          "United States of America/Sales/Retail/Business Development/Part Time Temporary/Contract/Project",
          "United States of America/General/Other: Engineering/Full Time , Employee",
          "United States of America/Medical/Health/Full Time, Temporary/Contract/Project",
          "United States of America/General/Other: Project/Program Management/Full Time Employee",
          "United States of America/Marketing/Product/Part Time , Employee",
          "United States of America/Experienced (Non-Manager)/Per Diem Employee",
          "United States of America/Bachelor's degree, preferrably in Marketing or Advertising 2+ years of experience in a corporation or at an agency, digital experience required Organized and detail oriented with the ability to manage multiple projects and quickly react to changing business needs while meeting firm deadlines Customer centric, brand steward  Strong communicator  Collaborative and flexible We offer a competitive salary, outstanding benefits package that includes medical, dental, vision. Life insurance, paid vacation and sick days, paid holidays, merchandise discounts, tuition reimbursement, profit sharing, and 401(k) with company match.   Qualified applicants will receive consideration for employment without regard to their race, color, religion, national origin, sex, or disability.   MONPOST    /Full Time, Employee",
          "United States of America/Customer Support/Client Care/Full Time , Employee",
          "United States of America/Other/Full Time Temporary/Contract/Project",
          "United States of America/IT/Software Development/Full Time / Temporary/Contract/Project",
          "United States of America/IT/Software Development/Part Time, Intern",
          "United States of America/General/Other: Customer Support/Client Care/Full Time, Employee",
          "United States of America/Accounting/Finance/Insurance/Full Time/ Employee",
          "United States of America/Education Level Associate Degree/Job Type Full Time Employee",
          "United States of America/Real Estate Agent/Broker/Full Time, Employee",
          "United States of America/Banking/Real Estate/Mortgage Professionals/Part Time Employee",
          "United States of America/Other/Full Time , Temporary/Contract/Project",
          "United States of America/Biotech/R&D/Science/Full Time",
          "United States of America/Computer/Network SecurityNetwork and Server AdministrationSystems Analysis - IT/Full Time Employee",
          "United States of America/Other/Temporary/Contract/Project",
          "United States of America/Desktop Service and Support/Full Time Employee",
          "United States of America/Insurance Agent/BrokerGeneral/Other: Sales/Business DevelopmentFinancial Products Sales/Brokerage/Full Time, Employee",
          "United States of America/Manufacturing/Production/Operations/Full Time, Temporary/Contract/Project",
          "United States of America/Database Development/Administration/Full Time Employee",
          "United States of America/Experienced (Non-Manager)/Part Time Temporary/Contract/Project",
          "United States of America/Sales/Retail/Business Development/Full Time/ Employee",
          "United States of America/Administrative/Clerical/Employee",
          "United States of America/Project/Program Management/Part Time Employee",
          "United States of America/Project/Program Management/Full Time, Temporary/Contract/Project",
          "United States of America/Experienced (Non-Manager)/Full Time/ Employee",
          "United States of America/General/Other: Project/Program ManagementProgram ManagementProject Management/Full Time Employee",
          "United States of America/Project Management/Full Time",
          "United States of America/General/Other: Project/Program Management/Full Time, Employee",
          "United States of America/IT Project ManagementGeneral/Other: Project/Program ManagementProject Management/Full Time Employee",
          "United States of America/Project Management/Full Time Employee",
          "United States of America/Project/Program Management/Part Time",
          "United States of America/Manager (Manager/Supervisor of Staff)/Part Time",
          "United States of America/Senior Executive (President, CFO, etc)/Full Time",
          "United States of America/Food Safety and InspectionGeneral/Other: Quality Assurance/SafetyProduction Quality Assurance/Full Time Employee",
          "United States of America/General/Other: Project/Program ManagementProgram Management/Full Time, Employee",
          "United States of America/Occupational Health and Safety/Full Time Employee",
          "United States of America/Quality Assurance/Safety/Full Time , Employee",
          "United States of America/Software Quality Assurance/Full Time Employee",
          "United States of America/Manager (Manager/Supervisor of Staff)/Temporary/Contract/Project",
          "United States of America/Biotech/R&D/Science/Full Time , Employee",
          "United States of America/Biotech/R&D/Science/Employee",
          "United States of America/General/Other: Accounting/Finance/Full Time, Employee",
          "United States of America/Experienced (Non-Manager)/Part Time Employee",
          "United States of America/Logistics/Transportation/Full Time Temporary/Contract/Project",
          "United States of America/Logistics/Transportation/Employee",
          "United States of America/Real Estate Leasing/Acquisition/Full Time",
          "United States of America/Entry Level/Part Time, Temporary/Contract/Project",
          "United States of America/Career Level Entry Level/Job Type Full Time Employee",
          "United States of America/Installation/Maintenance/Repair/Part Time / Employee",
          "United States of America/Equipment Install/Maintain/RepairFacilities Management/MaintenanceGeneral/Other: Installation/Maintenance/Repair/Full Time, Employee",
          "United States of America/Janitorial & Cleaning/Full Time , Employee",
          "United States of America/Building Construction/Skilled Trades/Part Time / Employee",
          "United States of America/Sales/Retail/Business Development/Per Diem Employee",
          "United States of America/General/Other: Accounting/Finance/Full Time Employee",
          "United States of America/Accounts Payable/Receivable/Full Time Employee",
          "United States of America/Database Development/AdministrationNetwork and Server Administration/Full Time Employee",
          "United States of America/Market ResearchMarketing Production/Traffic/Full Time Employee",
          "United States of America/IT/Software Development/Full Time / Employee",
          "United States of America/Entry Level/Part Time Intern",
          "United States of America/Project Management/Full Time, Employee",
          "United States of America/Logistics/Transportation/Part Time, Employee",
          "United States of America/Business Unit ManagementGeneral/Other: Business/Strategic Management/Full Time, Employee",
          "United States of America/Computer/Electronics/Telecomm Install/Maintain/RepairEquipment Install/Maintain/RepairWire and Cable Install/Maintain/Repair/Full Time Employee",
          "United States of America/Administrative/Clerical/Full Time / Employee",
          "United States of America/Security/Protective Services/Full Time / Employee",
          "United States of America/Business Development/New AccountsGeneral/Other: Sales/Business Development/Full Time, Employee",
          "United States of America/Editorial/Writing/Full Time",
          "United States of America/Accounting/Finance/Insurance/Part Time , Employee",
          "United States of America/Student (Undergraduate/Graduate)/Part Time",
          "United States of America/Business/Strategic Management/Part Time Employee",
          "United States of America/Building Construction/Skilled Trades/Full Time Temporary/Contract/Project",
          "United States of America/Computer/Electronics/Telecomm Install/Maintain/Repair/Full Time Employee",
          "United States of America/Medical/Health/Full Time / Employee",
          "United States of America/IT/Software Development/Full Time Intern",
          "United States of America/Business/Strategic Management/Full Time / Employee",
          "United States of America/Equipment Operations/Part Time Employee",
          "United States of America/Career Level Experienced (Non-Manager)/Job Type Full Time Temporary/Contract/Project",
          "United States of America/Project/Program Management/Temporary/Contract/Project",
          "United States of America/Nursing/Full Time , Employee",
          "United States of America/Laboratory/Pathology/Full Time , Employee",
          "United States of America/Medical Therapy/Rehab Services General/Other: Medical/Health Public Health Administration/Full Time , Employee",
          "United States of America/Student (High School)/Per Diem",
          "United States of America/General/Other: Medical/Health/Full Time, Employee",
          "United States of America/Food Preparation/Cooking/Full Time, Employee",
          "United States of America/Restaurant Management/Full Time, Employee",
          "United States of America/Medical/Health/Per Diem, Temporary/Contract/Project",
          "United States of America/General/Other: Food Services/Full Time, Employee",
          "United States of America/Food Services/Hospitality/Part Time, Temporary/Contract/Project",
          "United States of America/Medical/Health/Full Time Intern",
          "United States of America/Marketing/Product/Full Time Intern",
          "United States of America/Corporate Accounting/Full Time , Employee",
          "United States of America/Engineering/Temporary/Contract/Project",
          "United States of America/Banking/Real Estate/Mortgage Professionals/Part Time, Employee",
          "United States of America/Manager (Manager/Supervisor of Staff)/Full Time / Employee",
          "United States of America/Brand/Product Marketing General/Other: Marketing/Product Product Management/Full Time, Employee",
          "United States of America/Administrative/Clerical/Temporary/Contract/Project",
          "United States of America/Office ManagementGeneral/Other: Administrative/ClericalProperty Management/Full Time, Employee",
          "United States of America/Senior Executive (President, CFO, etc)/Full Time Employee",
          "United States of America/Administrative/Clerical/Part Time, Employee",
          "United States of America/Office Management/Full Time Employee",
          "United States of America/Administrative/Clerical/Part Time, Temporary/Contract/Project",
          "United States of America/Property Management/Full Time, Employee",
          "United States of America/Career Level Experienced (Non-Manager)/Job Type Part Time Employee",
          "United States of America/Administrative SupportOffice ManagementGeneral/Other: Administrative/Clerical/Full Time Employee",
          "United States of America/Education Level Associate Degree/Job Type Part Time Employee",
          "United States of America/Account Management (Non-Commissioned) General/Other: Customer Support/Client Care Retail Customer Service/Full Time, Employee",
          "United States of America/Customer Support/Client Care/Temporary/Contract/Project",
          "United States of America/Payroll and Benefits Administration/Full Time Employee",
          "United States of America/Market ResearchGeneral/Other: Marketing/ProductProduct Management/Full Time Employee",
          "United States of America/Administrative SupportOffice ManagementGeneral/Other: Administrative/Clerical/Part Time Employee",
          "United States of America/NursingGeneral/Other: Medical/Health/Part Time Employee",
          "United States of America/Healthcare AidGeneral/Other: Medical/Health/Full Time Employee",
          "United States of America/Education/Training/Full Time Temporary/Contract/Project",
          "United States of America/Logistics/Transportation/Part Time , Employee",
          "United States of America/Laboratory/PathologyNursingGeneral/Other: Medical/Health/Full Time Employee",
          "United States of America/Accounts Payable/ReceivableGeneral/Other: Accounting/FinanceCorporate Accounting/Full Time Employee",
          "United States of America/Human Resources/Part Time",
          "United States of America/Business/Strategic Management/Employee",
          "United States of America/Administrative SupportData Entry/Order ProcessingGeneral/Other: Administrative/Clerical/Full Time, Employee",
          "United States of America/Senior Executive (President, CFO, etc)/Full Time, Temporary/Contract/Project",
          "United States of America/Demonstrate the highest level of leadership and ethical standards, with a drive to uphold our “Culture of Can Do” Possess a passion for the beauty industry with the desire to constantly learn and then teach our store personnel and customers about our products Display strong organizational and planning skills with the ability to multi-task, problem-solve and act independently Self-starter with a drive to continuously learn and develop in career Must be 18 years of age or older Must have 3+ year(s) of retail sales/customer service experience Must have 1+ year(s) of managerial experience Licensed cosmetologist desirable but not required Work where we treat you and our customers as a priority-- Employee discount Free samples of many of our new products Opportunities to grow your career within the company On-going product knowledge programs and customer experience coaching Work in an  environment focused on and surrounded by beauty   Qualified applicants will receive consideration for employment without regard to their race, color, age, religion, nation origin, sex, sexual orientation, disability or other categories protected by law.   MONPOST  /Full Time, Employee",
          "United States of America/General/Other: Medical/Health/Part Time Employee",
          "United States of America/IT/Software Development",
          "United States of America/Experienced (Non-Manager)",
          "United States of America/Project/Program Management",
          "United States of America/Customer Support/Client Care",
          "United States of America/Entry Level",
          "United States of America/Building Construction/Skilled Trades",
          "United States of America/Installation/Maintenance/Repair",
          "United States of America/Business/Strategic Management",
          "United States of America/Accounting/Finance/Insurance",
          "United States of America/Engineering",
          "United States of America/Editorial/Writing",
          "United States of America/Medical/Health",
          "United States of America/Marketing/Product",
          "United States of America/Manager (Manager/Supervisor of Staff)",
          "United States of America/Administrative/Clerical",
          "United States of America/Student (Undergraduate/Graduate)",
          "United States of America/Biotech/R&D/Science",
          "United States of America/General/Other: Customer Support/Client Care",
          "United States of America/Sales/Retail/Business Development",
          "United States of America/General/Other: Engineering",
          "United States of America/Education/Training",
          "United States of America/Other",
          "United States of America/General/Other: IT/Software Development",
          "United States of America/Brand/Product MarketingGeneral/Other: Marketing/ProductProduct Management",
          "United States of America/General/Other: Editorial/Writing",
          "United States of America/Executive (SVP, VP, Department Head, etc)",
          "United States of America/Banking/Real Estate/Mortgage Professionals",
          "United States of America/Legal",
          "United States of America/Field SalesGeneral/Other: Sales/Business DevelopmentStore/Branch Management",
          "United States of America/Security/Protective Services",
          "United States of America/Logistics/Transportation",
          "United States of America/Human Resources",
          "United States of America/Food Services/Hospitality",
          "United States of America/General/Other: Business/Strategic Management",
          "United States of America/Education Level High School or equivalent",
          "United States of America/Manufacturing/Production/Operations",
          "United States of America/Retail",
          "United States of America/To perform this job successfully, an individual must be able to perform each essential duty satisfactorily. The requirements listed below are representative of the knowledge, skill, and/or ability required. Reasonable accommodations may be made to enable individuals with disabilities to perform the essential functions.   Bilingual (English/Spanish-speaking) skills are required. Diploma, Associate or bachelors degree in nursing or bachelors degree (or higher) in a health or human services related field required. Masters level and/or advanced study in a health-related field desired. Minimum of two (2) years full time equivalent of direct clinical care to consumers required. Case Management and/or Workers’ compensation-related experience strongly preferred. Registered nurse with current, valid state licensure required. Must be eligible to sit for CCM certification and must have a valid driver’s license. Experience in rehabilitation services industry, vocational/ occupational/ industrial nursing preferred. Background in state workers’ compensation law and practices desirable. In the case of an individual in a state that does not require licensure or certification, the individual must have a baccalaureate or graduate degree in social work, or another health or human services field that promotes the physical, psychosocial, and/or vocational well-being of the persons being served, that requires: A degree from an institution that is fully accredited by a nationally recognized educational accreditation organization; The individual must have completed a supervised field experience, in case management, health, or behavioral health as part of the degree requirements; and URAC-recognized certification in case management within four (4) years of hire as a case manager Pursue URAC-recognized certification in case management (CCM, CDMS, CRC, CRRN or COHN) upon eligibility. Excellent interpersonal skills and phone manners. Excellent organizational skills. Must be proficient in Microsoft Office suite with such programs as Word and Excel as well as have experience with internet searches and a comfort level with other software programs. Ability to set priorities and work independently is essential.",
          "United States of America/High school diploma or general education degree (GED) required; Associate or Bachelor’s degree preferred CPT and ICD-9 coding strongly preferred At least 1 year experience in the worker’s compensation arena including utilization review and/or telephonic case management strongly preferred Excellent interpersonal skills, phone etiquette and strong organizational skills are essential Excellent computer skills and working knowledge of Microsoft office programs such as Word and Excel Must be detail oriented, able to prioritize and use resources available and able to multi-task.",
          "United States of America/To perform this job successfully, an individual must be able to perform each essential duty satisfactorily. The requirements listed below are representative of the knowledge, skill, and/or ability required. Reasonable accommodations may be made to enable individuals with disabilities to perform the essential functions Diploma, A.S. degree or B.S. degree in nursing required. Advanced Degree preferred. Minimum of two (2) years full time equivalent of direct clinical care to consumers/clinical practice. Case Management and Workers’ compensation-related experience preferred. Registered nurse with current, valid state licensure required. In the case of an individual in a state that does not require licensure or certification, the individual must have a baccalaureate or graduate degree in social work, or another health or human services field that promotes the physical, psychosocial, and/or vocational well-being of the persons being served, that requires: 1) A degree from an institution that is fully accredited by a nationally recognized educational accreditation organization; 2) The individual must have completed a supervised field experience, in case management, health, or behavioral health as part of the degree requirements; and 3) URAC-recognized certification in case management within four (4) years of hire as a case manager Pursue URAC-recognized certification in case management (CCM, CDMS, CRC, CRRN or COHN) upon eligibility. Other state licenses/certification as required by law. Prior Case Management experience preferred. Excellent interpersonal skills and phone manners. Excellent organizational skills. Ability to set priorities. Ability to work independently and as part of a team. Computer literacy required.",
          "United States of America/Quality Assurance/Safety",
          "United States of America/General/Other: Quality Assurance/Safety",
          "United States of America/General/Other: R&D/Science",
          "United States of America/General/Other: Food Services",
          "United States of America/General/Other: Installation/Maintenance/Repair",
          "United States of America/Student (High School)",
          "United States of America/General/Other: Administrative/Clerical",
          "United States of America/Electrical/Electronics EngineeringIndustrial/Manufacturing EngineeringMechanical Engineering",
          "United States of America/Creative/Design",
          "United States of America/General/Other: Sales/Business Development",
          "United States of America/Recruiting/Sourcing",
          "United States of America/General/Other: Human Resources",
          "United States of America/Business Development/New Accounts General/Other: Sales/Business Development Technical Presales Support & Technical Sales",
          "United States of America/Nursing",
          "United States of America/General/Other: IT/Software DevelopmentSoftware/Web Development",
          "United States of America/Network and Server AdministrationSoftware/System ArchitectureSystems Analysis - IT",
          "United States of America/Network and Server Administration",
          "United States of America/Strong work ethic with a drive to exceed expectations Excellent people person: Work well with others in a fast paced, commission sales environment Open to learning and growing independently and from feedback Work well under high pressure with a positive attitude and contagious enthusiasm Detail oriented and highly organized Sense of Design: Able to distinguish and put together various styles, colors, and textures Associates Degree or higher, preferred not required Basic mathematical and computer skills Ability to read, write, and speak in English (a secondary language is a plus) Previous experience in retail or a related field preferred (home improvement, furniture, electronics, customer service, home furnishings, hospitality, flooring, sales, retail, etc.)   Benefits Great Pay and Exceptional Training Individual Career Growth Opportunities Holiday and Vacation Pay Medical, Dental, and Vision Insurance HSA Employer Contributions 401(k) Plan with employer matching Company Paid Basic Life Insurance and Accidental Death & Dismemberment Company Paid Long Term Disability   The Tile Shop is an Equal Opportunity Employer.     *CB",
          "United States of America/Systems Analysis - ITWeb/UI/UX Design",
          "United States of America/NursingGeneral/Other: Medical/Health",
          "United States of America/Account Management (Commissioned)Insurance Agent/BrokerFinancial Products Sales/Brokerage",
          "United States of America/ISO CertificationProduction Quality Assurance",
          "United States of America/Production Quality Assurance",
          "United States of America/General/Other: Legal Paralegal & Legal Secretary",
          "United States of America/Student",
          "United States of America/Education Level Bachelor's Degree",
          "United States of America/General/Other: Training/Instruction",
          "United States of America/Accounts Payable/ReceivableGeneral/Other: Accounting/FinanceCorporate Accounting",
          "United States of America/Software/Web Development",
          "United States of America/General/Other: Logistics/TransportationPurchasing",
          "United States of America/Real Estate Agent/BrokerRetail/Counter Sales and CashierStore/Branch Management",
          "United States of America/Field SalesStore/Branch Management",
          "United States of America/Car, Van and Bus DrivingGeneral/Other: Logistics/TransportationTruck Driving",
          "United States of America/General/Other: Human ResourcesRecruiting/Sourcing",
          "United States of America/Business Development/New AccountsGeneral/Other: Sales/Business DevelopmentFinancial Products Sales/Brokerage",
          "United States of America/General/Other: Medical/HealthVeterinary/Animal Care",
          "United States of America/Contracts AdministrationGeneral/Other: Legal",
          "United States of America/Investor and Public/Media RelationsMarketing CommunicationsGeneral/Other: Marketing/Product",
          "United States of America/Veterinary/Animal Care",
          "United States of America/Government, Defence & Emergency",
          "United States of America/General/Other: Business/Strategic ManagementStore/Branch ManagementHotel/Lodging Management",
          "United States of America/Account Management (Non-Commissioned)General/Other: Customer Support/Client CareRetail Customer Service",
          "United States of America/General/Other: Training/InstructionSchool/College AdministrationUniversity",
          "United States of America/General/Other: Medical/Health",
          "United States of America/Optical",
          "United States of America/Systems Analysis - IT",
          "United States of America/Equipment Install/Maintain/RepairFacilities Management/MaintenanceHVAC",
          "United States of America/Career Level Entry Level",
          "United States of America/Career Level Experienced (Non-Manager)",
          "United States of America/Operations/Plant Management",
          "United States of America/General/Other: Production/Operations",
          "United States of America/General/Other: Production/OperationsSewing and Tailoring",
          "United States of America/General/Other: Marketing/Product",
          "United States of America/Production/Operations Planning",
          "United States of America/Food Safety and Inspection",
          "United States of America/General/Other: Project/Program Management",
          "United States of America/Bachelor's degree, preferrably in Marketing or Advertising 2+ years of experience in a corporation or at an agency, digital experience required Organized and detail oriented with the ability to manage multiple projects and quickly react to changing business needs while meeting firm deadlines Customer centric, brand steward  Strong communicator  Collaborative and flexible We offer a competitive salary, outstanding benefits package that includes medical, dental, vision. Life insurance, paid vacation and sick days, paid holidays, merchandise discounts, tuition reimbursement, profit sharing, and 401(k) with company match.   Qualified applicants will receive consideration for employment without regard to their race, color, religion, national origin, sex, or disability.   MONPOST    ",
          "United States of America/Education Level Associate Degree",
          "United States of America/Real Estate Agent/Broker",
          "United States of America/Computer/Network SecurityNetwork and Server AdministrationSystems Analysis - IT",
          "United States of America/Desktop Service and Support",
          "United States of America/Insurance Agent/BrokerGeneral/Other: Sales/Business DevelopmentFinancial Products Sales/Brokerage",
          "United States of America/Database Development/Administration",
          "United States of America/General/Other: Project/Program ManagementProgram ManagementProject Management",
          "United States of America/Project Management",
          "United States of America/IT Project ManagementGeneral/Other: Project/Program ManagementProject Management",
          "United States of America/Senior Executive (President, CFO, etc)",
          "United States of America/Food Safety and InspectionGeneral/Other: Quality Assurance/SafetyProduction Quality Assurance",
          "United States of America/General/Other: Project/Program ManagementProgram Management",
          "United States of America/Occupational Health and Safety",
          "United States of America/Software Quality Assurance",
          "United States of America/General/Other: Accounting/Finance",
          "United States of America/Real Estate Leasing/Acquisition",
          "United States of America/Equipment Install/Maintain/RepairFacilities Management/MaintenanceGeneral/Other: Installation/Maintenance/Repair",
          "United States of America/Janitorial & Cleaning",
          "United States of America/Accounts Payable/Receivable",
          "United States of America/Database Development/AdministrationNetwork and Server Administration",
          "United States of America/Market ResearchMarketing Production/Traffic",
          "United States of America/Business Unit ManagementGeneral/Other: Business/Strategic Management",
          "United States of America/Computer/Electronics/Telecomm Install/Maintain/RepairEquipment Install/Maintain/RepairWire and Cable Install/Maintain/Repair",
          "United States of America/Business Development/New AccountsGeneral/Other: Sales/Business Development",
          "United States of America/Computer/Electronics/Telecomm Install/Maintain/Repair",
          "United States of America/Equipment Operations",
          "United States of America/Laboratory/Pathology",
          "United States of America/Medical Therapy/Rehab Services General/Other: Medical/Health Public Health Administration",
          "United States of America/Food Preparation/Cooking",
          "United States of America/Restaurant Management",
          "United States of America/Corporate Accounting",
          "United States of America/Brand/Product Marketing General/Other: Marketing/Product Product Management",
          "United States of America/Office ManagementGeneral/Other: Administrative/ClericalProperty Management",
          "United States of America/Office Management",
          "United States of America/Property Management",
          "United States of America/Administrative SupportOffice ManagementGeneral/Other: Administrative/Clerical",
          "United States of America/Account Management (Non-Commissioned) General/Other: Customer Support/Client Care Retail Customer Service",
          "United States of America/Payroll and Benefits Administration",
          "United States of America/Market ResearchGeneral/Other: Marketing/ProductProduct Management",
          "United States of America/Healthcare AidGeneral/Other: Medical/Health",
          "United States of America/Laboratory/PathologyNursingGeneral/Other: Medical/Health",
          "United States of America/Administrative SupportData Entry/Order ProcessingGeneral/Other: Administrative/Clerical",
          "United States of America/Demonstrate the highest level of leadership and ethical standards, with a drive to uphold our “Culture of Can Do” Possess a passion for the beauty industry with the desire to constantly learn and then teach our store personnel and customers about our products Display strong organizational and planning skills with the ability to multi-task, problem-solve and act independently Self-starter with a drive to continuously learn and develop in career Must be 18 years of age or older Must have 3+ year(s) of retail sales/customer service experience Must have 1+ year(s) of managerial experience Licensed cosmetologist desirable but not required Work where we treat you and our customers as a priority-- Employee discount Free samples of many of our new products Opportunities to grow your career within the company On-going product knowledge programs and customer experience coaching Work in an  environment focused on and surrounded by beauty   Qualified applicants will receive consideration for employment without regard to their race, color, age, religion, nation origin, sex, sexual orientation, disability or other categories protected by law.   MONPOST  ",
          "United States of America"
         ],
         "labels": [
          "Full Time Employee",
          "Full Time",
          "Full Time Employee",
          "Full Time Employee",
          "Part Time Employee",
          "Full Time",
          "Full Time Employee",
          "Full Time",
          "Full Time Employee",
          "Full Time, Employee",
          "Full Time, Employee",
          "Full Time Temporary/Contract/Project",
          "Full Time Employee",
          "Full Time Temporary/Contract/Project",
          "Full Time Temporary/Contract/Project",
          "Full Time Employee",
          "Full Time, Employee",
          "Full Time Employee",
          "Full Time, Employee",
          "Full Time Employee",
          "Part Time Employee",
          "Full Time",
          "Full Time Employee",
          "Full Time",
          "Full Time, Employee",
          "Full Time, Employee",
          "Full Time, Employee",
          "Full Time, Temporary/Contract/Project",
          "Full Time Employee",
          "Full Time, Employee",
          "Full Time Employee",
          "Full Time Employee",
          "Full Time, Employee",
          "Full Time Employee",
          "Full Time, Employee",
          "Full Time Employee",
          "Part Time",
          "Full Time Employee",
          "Full Time Employee",
          "Full Time, Temporary/Contract/Project",
          "Part Time, Employee",
          "Full Time Temporary/Contract/Project",
          "Full Time Employee",
          "Full Time, Employee",
          "Full Time , Employee",
          "Full Time",
          "Full Time Intern",
          "Full Time",
          "Full Time",
          "Full Time Employee",
          "Full Time , Employee",
          "Full Time Employee",
          "Full Time / Employee",
          "Full Time Employee",
          "Full Time , Temporary/Contract/Project",
          "Full Time, Employee",
          "Full Time",
          "Employee",
          "Full Time Temporary/Contract/Project",
          "Full Time, Temporary/Contract/Project",
          "Full Time Employee",
          "Full Time Employee",
          "Full Time , Temporary/Contract/Project",
          "Full Time Employee",
          "Full Time Employee",
          "Full Time / Employee",
          "Full Time, Employee",
          "Full Time, Employee",
          "Full Time",
          "Full Time Temporary/Contract/Project",
          "Full Time, Employee",
          "Temporary/Contract/Project",
          "Full Time/ Employee",
          "Part Time Employee",
          "Part Time Employee",
          "Full Time, Employee",
          "Per Diem, Employee",
          "Full Time , Employee",
          "Job Type Full Time Employee",
          "Full Time",
          "Full Time Temporary/Contract/Project",
          "Full Time Employee",
          "Full Time , Employee",
          "Part Time, Employee",
          "Full Time, Employee",
          "Part Time",
          "Full Time, Employee",
          "Part Time Employee",
          "Full Time, Employee",
          "Per Diem",
          "Full Time , Employee",
          "Part Time Employee",
          "Full Time",
          "Full Time Employee",
          "Full Time, Employee",
          "Part Time, Employee",
          "Temporary/Contract/Project",
          "Full Time Employee",
          "Full Time Employee",
          "Full Time Employee",
          "Full Time , Employee",
          "Full Time, Employee",
          "Full Time, Temporary/Contract/Project",
          "Employee",
          "Full Time Employee",
          "Full Time",
          "Full Time, Employee",
          "Full Time, Employee",
          "Part Time, Temporary/Contract/Project",
          "Full Time , Employee",
          "Full Time Employee",
          "Full Time , Employee",
          "Full Time ",
          "Full Time, Employee",
          "Temporary/Contract/Project",
          "Full Time / Employee",
          "Part Time Employee",
          "Full Time, Temporary/Contract/Project",
          "Full Time, Temporary/Contract/Project",
          "Full Time Employee",
          "Full Time Temporary/Contract/Project",
          "Full Time, Temporary/Contract/Project",
          "Temporary/Contract/Project",
          "Full Time",
          "Full Time, Employee",
          "Full Time, Employee",
          "Full Time Employee",
          "Full Time Temporary/Contract/Project",
          "Full Time, Temporary/Contract/Project",
          "Full Time",
          "Employee",
          "Full Time, Employee",
          "Full Time Employee",
          "Part Time, Temporary/Contract/Project",
          "Full Time , Temporary/Contract/Project",
          "Full Time , Temporary/Contract/Project",
          "Full Time, Employee",
          "Full Time",
          "Full Time Employee",
          "Per Diem, Employee",
          "Full Time Employee",
          "Full Time",
          "Full Time Temporary/Contract/Project",
          "Temporary/Contract/Project",
          "Full Time Temporary/Contract/Project",
          "Part Time Employee",
          "Full Time Employee",
          "Full Time Employee",
          "Full Time Employee",
          "Full Time Employee",
          "Full Time",
          "Full Time Temporary/Contract/Project",
          "Full Time Temporary/Contract/Project",
          "Full Time",
          "Full Time Employee",
          "Part Time Intern",
          "Employee",
          "Full Time Temporary/Contract/Project",
          "Part Time Employee",
          "Temporary/Contract/Project",
          "Full Time, Employee",
          "Part Time, Employee",
          "Full Time, Temporary/Contract/Project",
          "Full Time / Employee",
          "Full Time, Temporary/Contract/Project",
          "Employee",
          "Full Time",
          "Full Time , Employee",
          "Full Time Employee",
          "Full Time Employee",
          "Full Time Employee",
          "Full Time Intern",
          "Part Time Employee",
          "Full Time ",
          "Full Time / Employee",
          "Full Time Employee",
          "Part Time Employee",
          "Per Diem Employee",
          "Full Time Employee",
          "Employee",
          "Full Time , Employee",
          "Employee",
          "Full Time Employee",
          "Full Time Temporary/Contract/Project",
          "Full Time Employee",
          "Full Time",
          "Full Time, Employee",
          "Full Time , Employee",
          "Full Time Employee",
          "Per Diem",
          "Full Time , Employee",
          "Full Time, Employee",
          "Full Time, Employee",
          "Full Time , Employee",
          "Full Time Temporary/Contract/Project",
          "Full Time Employee",
          "Full Time",
          "Part Time/ Temporary/Contract/Project",
          "Full Time Temporary/Contract/Project",
          "Full Time, Temporary/Contract/Project",
          "Full Time Employee",
          "Full Time, Employee",
          "Full Time Temporary/Contract/Project",
          "Part Time Employee",
          "Full Time Temporary/Contract/Project",
          "Part Time, Employee",
          "Full Time , Employee",
          "Full Time Employee",
          "Full Time , Employee",
          "Temporary/Contract/Project",
          "Part Time",
          "Full Time , Employee",
          "Part Time",
          "Full Time / Employee",
          "Full Time, Temporary/Contract/Project",
          "Employee",
          "Full Time , Employee",
          "Part Time Temporary/Contract/Project",
          "Full Time / Employee",
          "Full Time , Employee",
          "Full Time, Temporary/Contract/Project",
          "Full Time , Employee",
          "Exempt",
          "Full Time",
          "Full Time",
          "Full Time / Employee",
          "Full Time/ Employee",
          "Employee",
          "Temporary/Contract/Project",
          "Full Time , Employee",
          "Job Type Full Time Employee",
          "Full Time Employee",
          "Full Time / Employee",
          "Part Time, Employee",
          "Full Time",
          "Per Diem",
          "Full Time, Employee",
          "Full Time Temporary/Contract/Project",
          "Full Time , Temporary/Contract/Project",
          "Employee",
          "Full Time, Employee",
          "Full Time",
          "Full Time Employee",
          "Full Time, Employee",
          "Full Time , Temporary/Contract/Project",
          "Full Time, Employee",
          "Full Time, Employee",
          "Full Time, Employee",
          "Per Diem Employee",
          "Full Time Temporary/Contract/Project",
          "Full Time, Employee",
          "Full Time, Employee",
          "Part Time Temporary/Contract/Project",
          "Part Time Employee",
          "Full Time, Employee",
          "Full Time, Employee",
          "Full Time, Employee",
          "Part Time Employee",
          "Full Time, Employee",
          "Part Time Seasonal",
          "Full Time, Employee",
          "Full Time, Employee",
          "Full Time, Employee",
          "Part Time Employee",
          "Full Time, Employee",
          "Full Time Employee",
          "Full Time Employee",
          "Full Time, Employee",
          "Employee",
          "Full Time / Employee",
          "Per Diem",
          "Full Time Employee",
          "Full Time Employee",
          "Full Time",
          "Full Time , Employee",
          "Full Time Employee",
          "Part Time , Employee",
          "Job Type Employee",
          "Full Time, Employee",
          "Job Type Full Time Temporary/Contract/Project",
          "Full Time, Temporary/Contract/Project",
          "Job Type Full Time Employee",
          "Part Time, Employee",
          "Full Time / > Employee",
          "Full Time",
          "Part Time Employee",
          "Full Time Employee",
          "Employee",
          "Employee",
          "Part Time ",
          "Full Time, Employee",
          "Full Time , Employee",
          "Full Time Employee",
          "Full Time, Temporary/Contract/Project",
          "Full Time Employee",
          "Full Time",
          "Full Time , Employee",
          "Full Time / Employee",
          "Full Time , Temporary/Contract/Project",
          "Full Time, Employee",
          "Full Time, Employee",
          "Employee",
          "Full Time, Temporary/Contract/Project",
          "Employee",
          "Full Time, Employee",
          "Full Time, Temporary/Contract/Project",
          "Full Time Temporary/Contract/Project",
          "Full Time Temporary/Contract/Project",
          "Full Time , Temporary/Contract/Project",
          "Part Time Temporary/Contract/Project",
          "Full Time , Employee",
          "Full Time, Temporary/Contract/Project",
          "Full Time Employee",
          "Part Time , Employee",
          "Per Diem Employee",
          "Full Time, Employee",
          "Full Time , Employee",
          "Full Time Temporary/Contract/Project",
          "Full Time / Temporary/Contract/Project",
          "Part Time, Intern",
          "Full Time, Employee",
          "Full Time/ Employee",
          "Job Type Full Time Employee",
          "Full Time, Employee",
          "Part Time Employee",
          "Full Time , Temporary/Contract/Project",
          "Full Time",
          "Full Time Employee",
          "Temporary/Contract/Project",
          "Full Time Employee",
          "Full Time, Employee",
          "Full Time, Temporary/Contract/Project",
          "Full Time Employee",
          "Part Time Temporary/Contract/Project",
          "Full Time/ Employee",
          "Employee",
          "Part Time Employee",
          "Full Time, Temporary/Contract/Project",
          "Full Time/ Employee",
          "Full Time Employee",
          "Full Time",
          "Full Time, Employee",
          "Full Time Employee",
          "Full Time Employee",
          "Part Time",
          "Part Time",
          "Full Time",
          "Full Time Employee",
          "Full Time, Employee",
          "Full Time Employee",
          "Full Time , Employee",
          "Full Time Employee",
          "Temporary/Contract/Project",
          "Full Time , Employee",
          "Employee",
          "Full Time, Employee",
          "Part Time Employee",
          "Full Time Temporary/Contract/Project",
          "Employee",
          "Full Time",
          "Part Time, Temporary/Contract/Project",
          "Job Type Full Time Employee",
          "Part Time / Employee",
          "Full Time, Employee",
          "Full Time , Employee",
          "Part Time / Employee",
          "Per Diem Employee",
          "Full Time Employee",
          "Full Time Employee",
          "Full Time Employee",
          "Full Time Employee",
          "Full Time / Employee",
          "Part Time Intern",
          "Full Time, Employee",
          "Part Time, Employee",
          "Full Time, Employee",
          "Full Time Employee",
          "Full Time / Employee",
          "Full Time / Employee",
          "Full Time, Employee",
          "Full Time",
          "Part Time , Employee",
          "Part Time",
          "Part Time Employee",
          "Full Time Temporary/Contract/Project",
          "Full Time Employee",
          "Full Time / Employee",
          "Full Time Intern",
          "Full Time / Employee",
          "Part Time Employee",
          "Job Type Full Time Temporary/Contract/Project",
          "Temporary/Contract/Project",
          "Full Time , Employee",
          "Full Time , Employee",
          "Full Time , Employee",
          "Per Diem",
          "Full Time, Employee",
          "Full Time, Employee",
          "Full Time, Employee",
          "Per Diem, Temporary/Contract/Project",
          "Full Time, Employee",
          "Part Time, Temporary/Contract/Project",
          "Full Time Intern",
          "Full Time Intern",
          "Full Time , Employee",
          "Temporary/Contract/Project",
          "Part Time, Employee",
          "Full Time / Employee",
          "Full Time, Employee",
          "Temporary/Contract/Project",
          "Full Time, Employee",
          "Full Time Employee",
          "Part Time, Employee",
          "Full Time Employee",
          "Part Time, Temporary/Contract/Project",
          "Full Time, Employee",
          "Job Type Part Time Employee",
          "Full Time Employee",
          "Job Type Part Time Employee",
          "Full Time, Employee",
          "Temporary/Contract/Project",
          "Full Time Employee",
          "Full Time Employee",
          "Part Time Employee",
          "Part Time Employee",
          "Full Time Employee",
          "Full Time Temporary/Contract/Project",
          "Part Time , Employee",
          "Full Time Employee",
          "Full Time Employee",
          "Part Time",
          "Employee",
          "Full Time, Employee",
          "Full Time, Temporary/Contract/Project",
          "Full Time, Employee",
          "Part Time Employee",
          "IT/Software Development",
          "Experienced (Non-Manager)",
          "Project/Program Management",
          "Customer Support/Client Care",
          "Entry Level",
          "Building Construction/Skilled Trades",
          "Installation/Maintenance/Repair",
          "Business/Strategic Management",
          "Accounting/Finance/Insurance",
          "Engineering",
          "Editorial/Writing",
          "Medical/Health",
          "Marketing/Product",
          "Manager (Manager/Supervisor of Staff)",
          "Administrative/Clerical",
          "Student (Undergraduate/Graduate)",
          "Biotech/R&D/Science",
          "General/Other: Customer Support/Client Care",
          "Sales/Retail/Business Development",
          "General/Other: Engineering",
          "Education/Training",
          "Other",
          "General/Other: IT/Software Development",
          "Brand/Product MarketingGeneral/Other: Marketing/ProductProduct Management",
          "General/Other: Editorial/Writing",
          "Executive (SVP, VP, Department Head, etc)",
          "Banking/Real Estate/Mortgage Professionals",
          "Legal",
          "Field SalesGeneral/Other: Sales/Business DevelopmentStore/Branch Management",
          "Security/Protective Services",
          "Logistics/Transportation",
          "Human Resources",
          "Food Services/Hospitality",
          "General/Other: Business/Strategic Management",
          "Education Level High School or equivalent",
          "Manufacturing/Production/Operations",
          "Retail",
          "To perform this job successfully, an individual must be able to perform each essential duty satisfactorily. The requirements listed below are representative of the knowledge, skill, and/or ability required. Reasonable accommodations may be made to enable individuals with disabilities to perform the essential functions.   Bilingual (English/Spanish-speaking) skills are required. Diploma, Associate or bachelors degree in nursing or bachelors degree (or higher) in a health or human services related field required. Masters level and/or advanced study in a health-related field desired. Minimum of two (2) years full time equivalent of direct clinical care to consumers required. Case Management and/or Workers’ compensation-related experience strongly preferred. Registered nurse with current, valid state licensure required. Must be eligible to sit for CCM certification and must have a valid driver’s license. Experience in rehabilitation services industry, vocational/ occupational/ industrial nursing preferred. Background in state workers’ compensation law and practices desirable. In the case of an individual in a state that does not require licensure or certification, the individual must have a baccalaureate or graduate degree in social work, or another health or human services field that promotes the physical, psychosocial, and/or vocational well-being of the persons being served, that requires: A degree from an institution that is fully accredited by a nationally recognized educational accreditation organization; The individual must have completed a supervised field experience, in case management, health, or behavioral health as part of the degree requirements; and URAC-recognized certification in case management within four (4) years of hire as a case manager Pursue URAC-recognized certification in case management (CCM, CDMS, CRC, CRRN or COHN) upon eligibility. Excellent interpersonal skills and phone manners. Excellent organizational skills. Must be proficient in Microsoft Office suite with such programs as Word and Excel as well as have experience with internet searches and a comfort level with other software programs. Ability to set priorities and work independently is essential.",
          "High school diploma or general education degree (GED) required; Associate or Bachelor’s degree preferred CPT and ICD-9 coding strongly preferred At least 1 year experience in the worker’s compensation arena including utilization review and/or telephonic case management strongly preferred Excellent interpersonal skills, phone etiquette and strong organizational skills are essential Excellent computer skills and working knowledge of Microsoft office programs such as Word and Excel Must be detail oriented, able to prioritize and use resources available and able to multi-task.",
          "To perform this job successfully, an individual must be able to perform each essential duty satisfactorily. The requirements listed below are representative of the knowledge, skill, and/or ability required. Reasonable accommodations may be made to enable individuals with disabilities to perform the essential functions Diploma, A.S. degree or B.S. degree in nursing required. Advanced Degree preferred. Minimum of two (2) years full time equivalent of direct clinical care to consumers/clinical practice. Case Management and Workers’ compensation-related experience preferred. Registered nurse with current, valid state licensure required. In the case of an individual in a state that does not require licensure or certification, the individual must have a baccalaureate or graduate degree in social work, or another health or human services field that promotes the physical, psychosocial, and/or vocational well-being of the persons being served, that requires: 1) A degree from an institution that is fully accredited by a nationally recognized educational accreditation organization; 2) The individual must have completed a supervised field experience, in case management, health, or behavioral health as part of the degree requirements; and 3) URAC-recognized certification in case management within four (4) years of hire as a case manager Pursue URAC-recognized certification in case management (CCM, CDMS, CRC, CRRN or COHN) upon eligibility. Other state licenses/certification as required by law. Prior Case Management experience preferred. Excellent interpersonal skills and phone manners. Excellent organizational skills. Ability to set priorities. Ability to work independently and as part of a team. Computer literacy required.",
          "Quality Assurance/Safety",
          "General/Other: Quality Assurance/Safety",
          "General/Other: R&D/Science",
          "General/Other: Food Services",
          "General/Other: Installation/Maintenance/Repair",
          "Student (High School)",
          "General/Other: Administrative/Clerical",
          "Electrical/Electronics EngineeringIndustrial/Manufacturing EngineeringMechanical Engineering",
          "Creative/Design",
          "General/Other: Sales/Business Development",
          "Recruiting/Sourcing",
          "General/Other: Human Resources",
          "Business Development/New Accounts General/Other: Sales/Business Development Technical Presales Support & Technical Sales",
          "Nursing",
          "General/Other: IT/Software DevelopmentSoftware/Web Development",
          "Network and Server AdministrationSoftware/System ArchitectureSystems Analysis - IT",
          "Network and Server Administration",
          "Strong work ethic with a drive to exceed expectations Excellent people person: Work well with others in a fast paced, commission sales environment Open to learning and growing independently and from feedback Work well under high pressure with a positive attitude and contagious enthusiasm Detail oriented and highly organized Sense of Design: Able to distinguish and put together various styles, colors, and textures Associates Degree or higher, preferred not required Basic mathematical and computer skills Ability to read, write, and speak in English (a secondary language is a plus) Previous experience in retail or a related field preferred (home improvement, furniture, electronics, customer service, home furnishings, hospitality, flooring, sales, retail, etc.)   Benefits Great Pay and Exceptional Training Individual Career Growth Opportunities Holiday and Vacation Pay Medical, Dental, and Vision Insurance HSA Employer Contributions 401(k) Plan with employer matching Company Paid Basic Life Insurance and Accidental Death & Dismemberment Company Paid Long Term Disability   The Tile Shop is an Equal Opportunity Employer.     *CB",
          "Systems Analysis - ITWeb/UI/UX Design",
          "NursingGeneral/Other: Medical/Health",
          "Account Management (Commissioned)Insurance Agent/BrokerFinancial Products Sales/Brokerage",
          "ISO CertificationProduction Quality Assurance",
          "Production Quality Assurance",
          "General/Other: Legal Paralegal & Legal Secretary",
          "Student",
          "Education Level Bachelor's Degree",
          "General/Other: Training/Instruction",
          "Accounts Payable/ReceivableGeneral/Other: Accounting/FinanceCorporate Accounting",
          "Software/Web Development",
          "General/Other: Logistics/TransportationPurchasing",
          "Real Estate Agent/BrokerRetail/Counter Sales and CashierStore/Branch Management",
          "Field SalesStore/Branch Management",
          "Car, Van and Bus DrivingGeneral/Other: Logistics/TransportationTruck Driving",
          "General/Other: Human ResourcesRecruiting/Sourcing",
          "Business Development/New AccountsGeneral/Other: Sales/Business DevelopmentFinancial Products Sales/Brokerage",
          "General/Other: Medical/HealthVeterinary/Animal Care",
          "Contracts AdministrationGeneral/Other: Legal",
          "Investor and Public/Media RelationsMarketing CommunicationsGeneral/Other: Marketing/Product",
          "Veterinary/Animal Care",
          "Government, Defence & Emergency",
          "General/Other: Business/Strategic ManagementStore/Branch ManagementHotel/Lodging Management",
          "Account Management (Non-Commissioned)General/Other: Customer Support/Client CareRetail Customer Service",
          "General/Other: Training/InstructionSchool/College AdministrationUniversity",
          "General/Other: Medical/Health",
          "Optical",
          "Systems Analysis - IT",
          "Equipment Install/Maintain/RepairFacilities Management/MaintenanceHVAC",
          "Career Level Entry Level",
          "Career Level Experienced (Non-Manager)",
          "Operations/Plant Management",
          "General/Other: Production/Operations",
          "General/Other: Production/OperationsSewing and Tailoring",
          "General/Other: Marketing/Product",
          "Production/Operations Planning",
          "Food Safety and Inspection",
          "General/Other: Project/Program Management",
          "Bachelor's degree, preferrably in Marketing or Advertising 2+ years of experience in a corporation or at an agency, digital experience required Organized and detail oriented with the ability to manage multiple projects and quickly react to changing business needs while meeting firm deadlines Customer centric, brand steward  Strong communicator  Collaborative and flexible We offer a competitive salary, outstanding benefits package that includes medical, dental, vision. Life insurance, paid vacation and sick days, paid holidays, merchandise discounts, tuition reimbursement, profit sharing, and 401(k) with company match.   Qualified applicants will receive consideration for employment without regard to their race, color, religion, national origin, sex, or disability.   MONPOST    ",
          "Education Level Associate Degree",
          "Real Estate Agent/Broker",
          "Computer/Network SecurityNetwork and Server AdministrationSystems Analysis - IT",
          "Desktop Service and Support",
          "Insurance Agent/BrokerGeneral/Other: Sales/Business DevelopmentFinancial Products Sales/Brokerage",
          "Database Development/Administration",
          "General/Other: Project/Program ManagementProgram ManagementProject Management",
          "Project Management",
          "IT Project ManagementGeneral/Other: Project/Program ManagementProject Management",
          "Senior Executive (President, CFO, etc)",
          "Food Safety and InspectionGeneral/Other: Quality Assurance/SafetyProduction Quality Assurance",
          "General/Other: Project/Program ManagementProgram Management",
          "Occupational Health and Safety",
          "Software Quality Assurance",
          "General/Other: Accounting/Finance",
          "Real Estate Leasing/Acquisition",
          "Equipment Install/Maintain/RepairFacilities Management/MaintenanceGeneral/Other: Installation/Maintenance/Repair",
          "Janitorial & Cleaning",
          "Accounts Payable/Receivable",
          "Database Development/AdministrationNetwork and Server Administration",
          "Market ResearchMarketing Production/Traffic",
          "Business Unit ManagementGeneral/Other: Business/Strategic Management",
          "Computer/Electronics/Telecomm Install/Maintain/RepairEquipment Install/Maintain/RepairWire and Cable Install/Maintain/Repair",
          "Business Development/New AccountsGeneral/Other: Sales/Business Development",
          "Computer/Electronics/Telecomm Install/Maintain/Repair",
          "Equipment Operations",
          "Laboratory/Pathology",
          "Medical Therapy/Rehab Services General/Other: Medical/Health Public Health Administration",
          "Food Preparation/Cooking",
          "Restaurant Management",
          "Corporate Accounting",
          "Brand/Product Marketing General/Other: Marketing/Product Product Management",
          "Office ManagementGeneral/Other: Administrative/ClericalProperty Management",
          "Office Management",
          "Property Management",
          "Administrative SupportOffice ManagementGeneral/Other: Administrative/Clerical",
          "Account Management (Non-Commissioned) General/Other: Customer Support/Client Care Retail Customer Service",
          "Payroll and Benefits Administration",
          "Market ResearchGeneral/Other: Marketing/ProductProduct Management",
          "Healthcare AidGeneral/Other: Medical/Health",
          "Laboratory/PathologyNursingGeneral/Other: Medical/Health",
          "Administrative SupportData Entry/Order ProcessingGeneral/Other: Administrative/Clerical",
          "Demonstrate the highest level of leadership and ethical standards, with a drive to uphold our “Culture of Can Do” Possess a passion for the beauty industry with the desire to constantly learn and then teach our store personnel and customers about our products Display strong organizational and planning skills with the ability to multi-task, problem-solve and act independently Self-starter with a drive to continuously learn and develop in career Must be 18 years of age or older Must have 3+ year(s) of retail sales/customer service experience Must have 1+ year(s) of managerial experience Licensed cosmetologist desirable but not required Work where we treat you and our customers as a priority-- Employee discount Free samples of many of our new products Opportunities to grow your career within the company On-going product knowledge programs and customer experience coaching Work in an  environment focused on and surrounded by beauty   Qualified applicants will receive consideration for employment without regard to their race, color, age, religion, nation origin, sex, sexual orientation, disability or other categories protected by law.   MONPOST  ",
          "United States of America"
         ],
         "name": "",
         "parents": [
          "United States of America/IT/Software Development",
          "United States of America/Experienced (Non-Manager)",
          "United States of America/Project/Program Management",
          "United States of America/Experienced (Non-Manager)",
          "United States of America/Customer Support/Client Care",
          "United States of America/Customer Support/Client Care",
          "United States of America/Customer Support/Client Care",
          "United States of America/Entry Level",
          "United States of America/Building Construction/Skilled Trades",
          "United States of America/Installation/Maintenance/Repair",
          "United States of America/Business/Strategic Management",
          "United States of America/Accounting/Finance/Insurance",
          "United States of America/Engineering",
          "United States of America/Engineering",
          "United States of America/Editorial/Writing",
          "United States of America/Business/Strategic Management",
          "United States of America/Medical/Health",
          "United States of America/Editorial/Writing",
          "United States of America/Engineering",
          "United States of America/Marketing/Product",
          "United States of America/Editorial/Writing",
          "United States of America/Manager (Manager/Supervisor of Staff)",
          "United States of America/Administrative/Clerical",
          "United States of America/Student (Undergraduate/Graduate)",
          "United States of America/Experienced (Non-Manager)",
          "United States of America/Biotech/R&D/Science",
          "United States of America/Editorial/Writing",
          "United States of America/Customer Support/Client Care",
          "United States of America/General/Other: Customer Support/Client Care",
          "United States of America/IT/Software Development",
          "United States of America/Sales/Retail/Business Development",
          "United States of America/General/Other: Engineering",
          "United States of America/Sales/Retail/Business Development",
          "United States of America/Education/Training",
          "United States of America/Administrative/Clerical",
          "United States of America/Other",
          "United States of America/Experienced (Non-Manager)",
          "United States of America/General/Other: IT/Software Development",
          "United States of America/Brand/Product MarketingGeneral/Other: Marketing/ProductProduct Management",
          "United States of America/Experienced (Non-Manager)",
          "United States of America/Sales/Retail/Business Development",
          "United States of America/IT/Software Development",
          "United States of America/General/Other: Editorial/Writing",
          "United States of America/Customer Support/Client Care",
          "United States of America/Experienced (Non-Manager)",
          "United States of America/Executive (SVP, VP, Department Head, etc)",
          "United States of America/Editorial/Writing",
          "United States of America/Engineering",
          "United States of America/Installation/Maintenance/Repair",
          "United States of America/Accounting/Finance/Insurance",
          "United States of America/Engineering",
          "United States of America/Banking/Real Estate/Mortgage Professionals",
          "United States of America/Experienced (Non-Manager)",
          "United States of America/Medical/Health",
          "United States of America/Experienced (Non-Manager)",
          "United States of America/Legal",
          "United States of America/IT/Software Development",
          "United States of America/Customer Support/Client Care",
          "United States of America/Sales/Retail/Business Development",
          "United States of America/Administrative/Clerical",
          "United States of America/Field SalesGeneral/Other: Sales/Business DevelopmentStore/Branch Management",
          "United States of America/Installation/Maintenance/Repair",
          "United States of America/Entry Level",
          "United States of America/Entry Level",
          "United States of America/Security/Protective Services",
          "United States of America/Logistics/Transportation",
          "United States of America/Human Resources",
          "United States of America/Food Services/Hospitality",
          "United States of America/Sales/Retail/Business Development",
          "United States of America/Business/Strategic Management",
          "United States of America/Manager (Manager/Supervisor of Staff)",
          "United States of America/Experienced (Non-Manager)",
          "United States of America/Business/Strategic Management",
          "United States of America/Sales/Retail/Business Development",
          "United States of America/Food Services/Hospitality",
          "United States of America/General/Other: Business/Strategic Management",
          "United States of America/Medical/Health",
          "United States of America/Business/Strategic Management",
          "United States of America/Education Level High School or equivalent",
          "United States of America/Medical/Health",
          "United States of America/Experienced (Non-Manager)",
          "United States of America/Food Services/Hospitality",
          "United States of America/Food Services/Hospitality",
          "United States of America/Food Services/Hospitality",
          "United States of America/Accounting/Finance/Insurance",
          "United States of America/Entry Level",
          "United States of America/Marketing/Product",
          "United States of America/Security/Protective Services",
          "United States of America/Security/Protective Services",
          "United States of America/Security/Protective Services",
          "United States of America/Marketing/Product",
          "United States of America/Medical/Health",
          "United States of America/Manufacturing/Production/Operations",
          "United States of America/Logistics/Transportation",
          "United States of America/Manufacturing/Production/Operations",
          "United States of America/Medical/Health",
          "United States of America/Entry Level",
          "United States of America/Retail",
          "United States of America/To perform this job successfully, an individual must be able to perform each essential duty satisfactorily. The requirements listed below are representative of the knowledge, skill, and/or ability required. Reasonable accommodations may be made to enable individuals with disabilities to perform the essential functions.   Bilingual (English/Spanish-speaking) skills are required. Diploma, Associate or bachelors degree in nursing or bachelors degree (or higher) in a health or human services related field required. Masters level and/or advanced study in a health-related field desired. Minimum of two (2) years full time equivalent of direct clinical care to consumers required. Case Management and/or Workers’ compensation-related experience strongly preferred. Registered nurse with current, valid state licensure required. Must be eligible to sit for CCM certification and must have a valid driver’s license. Experience in rehabilitation services industry, vocational/ occupational/ industrial nursing preferred. Background in state workers’ compensation law and practices desirable. In the case of an individual in a state that does not require licensure or certification, the individual must have a baccalaureate or graduate degree in social work, or another health or human services field that promotes the physical, psychosocial, and/or vocational well-being of the persons being served, that requires: A degree from an institution that is fully accredited by a nationally recognized educational accreditation organization; The individual must have completed a supervised field experience, in case management, health, or behavioral health as part of the degree requirements; and URAC-recognized certification in case management within four (4) years of hire as a case manager Pursue URAC-recognized certification in case management (CCM, CDMS, CRC, CRRN or COHN) upon eligibility. Excellent interpersonal skills and phone manners. Excellent organizational skills. Must be proficient in Microsoft Office suite with such programs as Word and Excel as well as have experience with internet searches and a comfort level with other software programs. Ability to set priorities and work independently is essential.",
          "United States of America/High school diploma or general education degree (GED) required; Associate or Bachelor’s degree preferred CPT and ICD-9 coding strongly preferred At least 1 year experience in the worker’s compensation arena including utilization review and/or telephonic case management strongly preferred Excellent interpersonal skills, phone etiquette and strong organizational skills are essential Excellent computer skills and working knowledge of Microsoft office programs such as Word and Excel Must be detail oriented, able to prioritize and use resources available and able to multi-task.",
          "United States of America/Security/Protective Services",
          "United States of America/Building Construction/Skilled Trades",
          "United States of America/IT/Software Development",
          "United States of America/Security/Protective Services",
          "United States of America/Human Resources",
          "United States of America/Logistics/Transportation",
          "United States of America/Banking/Real Estate/Mortgage Professionals",
          "United States of America/Logistics/Transportation",
          "United States of America/Logistics/Transportation",
          "United States of America/Administrative/Clerical",
          "United States of America/To perform this job successfully, an individual must be able to perform each essential duty satisfactorily. The requirements listed below are representative of the knowledge, skill, and/or ability required. Reasonable accommodations may be made to enable individuals with disabilities to perform the essential functions Diploma, A.S. degree or B.S. degree in nursing required. Advanced Degree preferred. Minimum of two (2) years full time equivalent of direct clinical care to consumers/clinical practice. Case Management and Workers’ compensation-related experience preferred. Registered nurse with current, valid state licensure required. In the case of an individual in a state that does not require licensure or certification, the individual must have a baccalaureate or graduate degree in social work, or another health or human services field that promotes the physical, psychosocial, and/or vocational well-being of the persons being served, that requires: 1) A degree from an institution that is fully accredited by a nationally recognized educational accreditation organization; 2) The individual must have completed a supervised field experience, in case management, health, or behavioral health as part of the degree requirements; and 3) URAC-recognized certification in case management within four (4) years of hire as a case manager Pursue URAC-recognized certification in case management (CCM, CDMS, CRC, CRRN or COHN) upon eligibility. Other state licenses/certification as required by law. Prior Case Management experience preferred. Excellent interpersonal skills and phone manners. Excellent organizational skills. Ability to set priorities. Ability to work independently and as part of a team. Computer literacy required.",
          "United States of America/Sales/Retail/Business Development",
          "United States of America/Sales/Retail/Business Development",
          "United States of America/Executive (SVP, VP, Department Head, etc)",
          "United States of America/IT/Software Development",
          "United States of America/Entry Level",
          "United States of America/IT/Software Development",
          "United States of America/Manager (Manager/Supervisor of Staff)",
          "United States of America/Entry Level",
          "United States of America/Biotech/R&D/Science",
          "United States of America/Biotech/R&D/Science",
          "United States of America/Biotech/R&D/Science",
          "United States of America/Logistics/Transportation",
          "United States of America/Project/Program Management",
          "United States of America/Project/Program Management",
          "United States of America/Quality Assurance/Safety",
          "United States of America/Quality Assurance/Safety",
          "United States of America/Quality Assurance/Safety",
          "United States of America/Quality Assurance/Safety",
          "United States of America/Quality Assurance/Safety",
          "United States of America/Quality Assurance/Safety",
          "United States of America/General/Other: Quality Assurance/Safety",
          "United States of America/Executive (SVP, VP, Department Head, etc)",
          "United States of America/Biotech/R&D/Science",
          "United States of America/Quality Assurance/Safety",
          "United States of America/Biotech/R&D/Science",
          "United States of America/General/Other: R&D/Science",
          "United States of America/Banking/Real Estate/Mortgage Professionals",
          "United States of America/General/Other: Food Services",
          "United States of America/Food Services/Hospitality",
          "United States of America/General/Other: Installation/Maintenance/Repair",
          "United States of America/Student (High School)",
          "United States of America/Human Resources",
          "United States of America/Accounting/Finance/Insurance",
          "United States of America/Legal",
          "United States of America/Logistics/Transportation",
          "United States of America/Legal",
          "United States of America/Manufacturing/Production/Operations",
          "United States of America/General/Other: Administrative/Clerical",
          "United States of America/Electrical/Electronics EngineeringIndustrial/Manufacturing EngineeringMechanical Engineering",
          "United States of America/Accounting/Finance/Insurance",
          "United States of America/Entry Level",
          "United States of America/Manufacturing/Production/Operations",
          "United States of America/Building Construction/Skilled Trades",
          "United States of America/Creative/Design",
          "United States of America/Marketing/Product",
          "United States of America/Manager (Manager/Supervisor of Staff)",
          "United States of America/Marketing/Product",
          "United States of America/Marketing/Product",
          "United States of America/Legal",
          "United States of America/General/Other: Sales/Business Development",
          "United States of America/Installation/Maintenance/Repair",
          "United States of America/Engineering",
          "United States of America/Human Resources",
          "United States of America/Human Resources",
          "United States of America/Human Resources",
          "United States of America/Human Resources",
          "United States of America/Human Resources",
          "United States of America/Recruiting/Sourcing",
          "United States of America/Manager (Manager/Supervisor of Staff)",
          "United States of America/General/Other: Human Resources",
          "United States of America/Human Resources",
          "United States of America/Human Resources",
          "United States of America/Human Resources",
          "United States of America/Sales/Retail/Business Development",
          "United States of America/Business Development/New Accounts General/Other: Sales/Business Development Technical Presales Support & Technical Sales",
          "United States of America/Building Construction/Skilled Trades",
          "United States of America/Medical/Health",
          "United States of America/Nursing",
          "United States of America/Experienced (Non-Manager)",
          "United States of America/IT/Software Development",
          "United States of America/Medical/Health",
          "United States of America/General/Other: IT/Software DevelopmentSoftware/Web Development",
          "United States of America/Medical/Health",
          "United States of America/Network and Server AdministrationSoftware/System ArchitectureSystems Analysis - IT",
          "United States of America/Nursing",
          "United States of America/Entry Level",
          "United States of America/Medical/Health",
          "United States of America/Network and Server Administration",
          "United States of America/Experienced (Non-Manager)",
          "United States of America/Executive (SVP, VP, Department Head, etc)",
          "United States of America/Other",
          "United States of America/Education/Training",
          "United States of America/Accounting/Finance/Insurance",
          "United States of America/Customer Support/Client Care",
          "United States of America/Strong work ethic with a drive to exceed expectations Excellent people person: Work well with others in a fast paced, commission sales environment Open to learning and growing independently and from feedback Work well under high pressure with a positive attitude and contagious enthusiasm Detail oriented and highly organized Sense of Design: Able to distinguish and put together various styles, colors, and textures Associates Degree or higher, preferred not required Basic mathematical and computer skills Ability to read, write, and speak in English (a secondary language is a plus) Previous experience in retail or a related field preferred (home improvement, furniture, electronics, customer service, home furnishings, hospitality, flooring, sales, retail, etc.)   Benefits Great Pay and Exceptional Training Individual Career Growth Opportunities Holiday and Vacation Pay Medical, Dental, and Vision Insurance HSA Employer Contributions 401(k) Plan with employer matching Company Paid Basic Life Insurance and Accidental Death & Dismemberment Company Paid Long Term Disability   The Tile Shop is an Equal Opportunity Employer.     *CB",
          "United States of America/Other",
          "United States of America/Entry Level",
          "United States of America/Installation/Maintenance/Repair",
          "United States of America/Systems Analysis - ITWeb/UI/UX Design",
          "United States of America/NursingGeneral/Other: Medical/Health",
          "United States of America/Account Management (Commissioned)Insurance Agent/BrokerFinancial Products Sales/Brokerage",
          "United States of America/Administrative/Clerical",
          "United States of America/Retail",
          "United States of America/Project/Program Management",
          "United States of America/Project/Program Management",
          "United States of America/Project/Program Management",
          "United States of America/ISO CertificationProduction Quality Assurance",
          "United States of America/Production Quality Assurance",
          "United States of America/Quality Assurance/Safety",
          "United States of America/Student (High School)",
          "United States of America/Logistics/Transportation",
          "United States of America/Accounting/Finance/Insurance",
          "United States of America/Installation/Maintenance/Repair",
          "United States of America/Education/Training",
          "United States of America/Sales/Retail/Business Development",
          "United States of America/General/Other: Legal Paralegal & Legal Secretary",
          "United States of America/Legal",
          "United States of America/Legal",
          "United States of America/Manager (Manager/Supervisor of Staff)",
          "United States of America/Legal",
          "United States of America/Legal",
          "United States of America/Legal",
          "United States of America/Legal",
          "United States of America/Student",
          "United States of America/Manufacturing/Production/Operations",
          "United States of America/Customer Support/Client Care",
          "United States of America/Entry Level",
          "United States of America/Manufacturing/Production/Operations",
          "United States of America/Installation/Maintenance/Repair",
          "United States of America/Education Level Bachelor's Degree",
          "United States of America/General/Other: R&D/Science",
          "United States of America/Education/Training",
          "United States of America/Education/Training",
          "United States of America/Education/Training",
          "United States of America/Manager (Manager/Supervisor of Staff)",
          "United States of America/General/Other: Training/Instruction",
          "United States of America/Food Services/Hospitality",
          "United States of America/IT/Software Development",
          "United States of America/IT/Software Development",
          "United States of America/Accounts Payable/ReceivableGeneral/Other: Accounting/FinanceCorporate Accounting",
          "United States of America/Food Services/Hospitality",
          "United States of America/Software/Web Development",
          "United States of America/General/Other: Logistics/TransportationPurchasing",
          "United States of America/Human Resources",
          "United States of America/Real Estate Agent/BrokerRetail/Counter Sales and CashierStore/Branch Management",
          "United States of America/Field SalesStore/Branch Management",
          "United States of America/Creative/Design",
          "United States of America/Food Services/Hospitality",
          "United States of America/Creative/Design",
          "United States of America/General/Other: Administrative/Clerical",
          "United States of America/Car, Van and Bus DrivingGeneral/Other: Logistics/TransportationTruck Driving",
          "United States of America/Education/Training",
          "United States of America/Education/Training",
          "United States of America/General/Other: Human ResourcesRecruiting/Sourcing",
          "United States of America/Business Development/New AccountsGeneral/Other: Sales/Business DevelopmentFinancial Products Sales/Brokerage",
          "United States of America/Software/Web Development",
          "United States of America/Installation/Maintenance/Repair",
          "United States of America/General/Other: Medical/HealthVeterinary/Animal Care",
          "United States of America/Sales/Retail/Business Development",
          "United States of America/Contracts AdministrationGeneral/Other: Legal",
          "United States of America/Investor and Public/Media RelationsMarketing CommunicationsGeneral/Other: Marketing/Product",
          "United States of America/Veterinary/Animal Care",
          "United States of America/Administrative/Clerical",
          "United States of America/Government, Defence & Emergency",
          "United States of America/General/Other: Business/Strategic ManagementStore/Branch ManagementHotel/Lodging Management",
          "United States of America/Account Management (Non-Commissioned)General/Other: Customer Support/Client CareRetail Customer Service",
          "United States of America/General/Other: Training/InstructionSchool/College AdministrationUniversity",
          "United States of America/Food Services/Hospitality",
          "United States of America/Customer Support/Client Care",
          "United States of America/Entry Level",
          "United States of America/General/Other: Medical/Health",
          "United States of America/Optical",
          "United States of America/Business/Strategic Management",
          "United States of America/Education/Training",
          "United States of America/Systems Analysis - IT",
          "United States of America/Education/Training",
          "United States of America/Education Level High School or equivalent",
          "United States of America/Equipment Install/Maintain/RepairFacilities Management/MaintenanceHVAC",
          "United States of America/Career Level Entry Level",
          "United States of America/Other",
          "United States of America/Career Level Experienced (Non-Manager)",
          "United States of America/Customer Support/Client Care",
          "United States of America/Food Services/Hospitality",
          "United States of America/Administrative/Clerical",
          "United States of America/Manufacturing/Production/Operations",
          "United States of America/Operations/Plant Management",
          "United States of America/Manufacturing/Production/Operations",
          "United States of America/Installation/Maintenance/Repair",
          "United States of America/Manufacturing/Production/Operations",
          "United States of America/General/Other: Production/Operations",
          "United States of America/Entry Level",
          "United States of America/General/Other: Production/Operations",
          "United States of America/Installation/Maintenance/Repair",
          "United States of America/General/Other: Production/OperationsSewing and Tailoring",
          "United States of America/Marketing/Product",
          "United States of America/Manufacturing/Production/Operations",
          "United States of America/Marketing/Product",
          "United States of America/Manufacturing/Production/Operations",
          "United States of America/General/Other: Marketing/Product",
          "United States of America/Production/Operations Planning",
          "United States of America/Marketing/Product",
          "United States of America/Accounting/Finance/Insurance",
          "United States of America/Project/Program Management",
          "United States of America/Food Safety and Inspection",
          "United States of America/Business/Strategic Management",
          "United States of America/Manager (Manager/Supervisor of Staff)",
          "United States of America/Banking/Real Estate/Mortgage Professionals",
          "United States of America/Engineering",
          "United States of America/Sales/Retail/Business Development",
          "United States of America/General/Other: Engineering",
          "United States of America/Medical/Health",
          "United States of America/General/Other: Project/Program Management",
          "United States of America/Marketing/Product",
          "United States of America/Experienced (Non-Manager)",
          "United States of America/Bachelor's degree, preferrably in Marketing or Advertising 2+ years of experience in a corporation or at an agency, digital experience required Organized and detail oriented with the ability to manage multiple projects and quickly react to changing business needs while meeting firm deadlines Customer centric, brand steward  Strong communicator  Collaborative and flexible We offer a competitive salary, outstanding benefits package that includes medical, dental, vision. Life insurance, paid vacation and sick days, paid holidays, merchandise discounts, tuition reimbursement, profit sharing, and 401(k) with company match.   Qualified applicants will receive consideration for employment without regard to their race, color, religion, national origin, sex, or disability.   MONPOST    ",
          "United States of America/Customer Support/Client Care",
          "United States of America/Other",
          "United States of America/IT/Software Development",
          "United States of America/IT/Software Development",
          "United States of America/General/Other: Customer Support/Client Care",
          "United States of America/Accounting/Finance/Insurance",
          "United States of America/Education Level Associate Degree",
          "United States of America/Real Estate Agent/Broker",
          "United States of America/Banking/Real Estate/Mortgage Professionals",
          "United States of America/Other",
          "United States of America/Biotech/R&D/Science",
          "United States of America/Computer/Network SecurityNetwork and Server AdministrationSystems Analysis - IT",
          "United States of America/Other",
          "United States of America/Desktop Service and Support",
          "United States of America/Insurance Agent/BrokerGeneral/Other: Sales/Business DevelopmentFinancial Products Sales/Brokerage",
          "United States of America/Manufacturing/Production/Operations",
          "United States of America/Database Development/Administration",
          "United States of America/Experienced (Non-Manager)",
          "United States of America/Sales/Retail/Business Development",
          "United States of America/Administrative/Clerical",
          "United States of America/Project/Program Management",
          "United States of America/Project/Program Management",
          "United States of America/Experienced (Non-Manager)",
          "United States of America/General/Other: Project/Program ManagementProgram ManagementProject Management",
          "United States of America/Project Management",
          "United States of America/General/Other: Project/Program Management",
          "United States of America/IT Project ManagementGeneral/Other: Project/Program ManagementProject Management",
          "United States of America/Project Management",
          "United States of America/Project/Program Management",
          "United States of America/Manager (Manager/Supervisor of Staff)",
          "United States of America/Senior Executive (President, CFO, etc)",
          "United States of America/Food Safety and InspectionGeneral/Other: Quality Assurance/SafetyProduction Quality Assurance",
          "United States of America/General/Other: Project/Program ManagementProgram Management",
          "United States of America/Occupational Health and Safety",
          "United States of America/Quality Assurance/Safety",
          "United States of America/Software Quality Assurance",
          "United States of America/Manager (Manager/Supervisor of Staff)",
          "United States of America/Biotech/R&D/Science",
          "United States of America/Biotech/R&D/Science",
          "United States of America/General/Other: Accounting/Finance",
          "United States of America/Experienced (Non-Manager)",
          "United States of America/Logistics/Transportation",
          "United States of America/Logistics/Transportation",
          "United States of America/Real Estate Leasing/Acquisition",
          "United States of America/Entry Level",
          "United States of America/Career Level Entry Level",
          "United States of America/Installation/Maintenance/Repair",
          "United States of America/Equipment Install/Maintain/RepairFacilities Management/MaintenanceGeneral/Other: Installation/Maintenance/Repair",
          "United States of America/Janitorial & Cleaning",
          "United States of America/Building Construction/Skilled Trades",
          "United States of America/Sales/Retail/Business Development",
          "United States of America/General/Other: Accounting/Finance",
          "United States of America/Accounts Payable/Receivable",
          "United States of America/Database Development/AdministrationNetwork and Server Administration",
          "United States of America/Market ResearchMarketing Production/Traffic",
          "United States of America/IT/Software Development",
          "United States of America/Entry Level",
          "United States of America/Project Management",
          "United States of America/Logistics/Transportation",
          "United States of America/Business Unit ManagementGeneral/Other: Business/Strategic Management",
          "United States of America/Computer/Electronics/Telecomm Install/Maintain/RepairEquipment Install/Maintain/RepairWire and Cable Install/Maintain/Repair",
          "United States of America/Administrative/Clerical",
          "United States of America/Security/Protective Services",
          "United States of America/Business Development/New AccountsGeneral/Other: Sales/Business Development",
          "United States of America/Editorial/Writing",
          "United States of America/Accounting/Finance/Insurance",
          "United States of America/Student (Undergraduate/Graduate)",
          "United States of America/Business/Strategic Management",
          "United States of America/Building Construction/Skilled Trades",
          "United States of America/Computer/Electronics/Telecomm Install/Maintain/Repair",
          "United States of America/Medical/Health",
          "United States of America/IT/Software Development",
          "United States of America/Business/Strategic Management",
          "United States of America/Equipment Operations",
          "United States of America/Career Level Experienced (Non-Manager)",
          "United States of America/Project/Program Management",
          "United States of America/Nursing",
          "United States of America/Laboratory/Pathology",
          "United States of America/Medical Therapy/Rehab Services General/Other: Medical/Health Public Health Administration",
          "United States of America/Student (High School)",
          "United States of America/General/Other: Medical/Health",
          "United States of America/Food Preparation/Cooking",
          "United States of America/Restaurant Management",
          "United States of America/Medical/Health",
          "United States of America/General/Other: Food Services",
          "United States of America/Food Services/Hospitality",
          "United States of America/Medical/Health",
          "United States of America/Marketing/Product",
          "United States of America/Corporate Accounting",
          "United States of America/Engineering",
          "United States of America/Banking/Real Estate/Mortgage Professionals",
          "United States of America/Manager (Manager/Supervisor of Staff)",
          "United States of America/Brand/Product Marketing General/Other: Marketing/Product Product Management",
          "United States of America/Administrative/Clerical",
          "United States of America/Office ManagementGeneral/Other: Administrative/ClericalProperty Management",
          "United States of America/Senior Executive (President, CFO, etc)",
          "United States of America/Administrative/Clerical",
          "United States of America/Office Management",
          "United States of America/Administrative/Clerical",
          "United States of America/Property Management",
          "United States of America/Career Level Experienced (Non-Manager)",
          "United States of America/Administrative SupportOffice ManagementGeneral/Other: Administrative/Clerical",
          "United States of America/Education Level Associate Degree",
          "United States of America/Account Management (Non-Commissioned) General/Other: Customer Support/Client Care Retail Customer Service",
          "United States of America/Customer Support/Client Care",
          "United States of America/Payroll and Benefits Administration",
          "United States of America/Market ResearchGeneral/Other: Marketing/ProductProduct Management",
          "United States of America/Administrative SupportOffice ManagementGeneral/Other: Administrative/Clerical",
          "United States of America/NursingGeneral/Other: Medical/Health",
          "United States of America/Healthcare AidGeneral/Other: Medical/Health",
          "United States of America/Education/Training",
          "United States of America/Logistics/Transportation",
          "United States of America/Laboratory/PathologyNursingGeneral/Other: Medical/Health",
          "United States of America/Accounts Payable/ReceivableGeneral/Other: Accounting/FinanceCorporate Accounting",
          "United States of America/Human Resources",
          "United States of America/Business/Strategic Management",
          "United States of America/Administrative SupportData Entry/Order ProcessingGeneral/Other: Administrative/Clerical",
          "United States of America/Senior Executive (President, CFO, etc)",
          "United States of America/Demonstrate the highest level of leadership and ethical standards, with a drive to uphold our “Culture of Can Do” Possess a passion for the beauty industry with the desire to constantly learn and then teach our store personnel and customers about our products Display strong organizational and planning skills with the ability to multi-task, problem-solve and act independently Self-starter with a drive to continuously learn and develop in career Must be 18 years of age or older Must have 3+ year(s) of retail sales/customer service experience Must have 1+ year(s) of managerial experience Licensed cosmetologist desirable but not required Work where we treat you and our customers as a priority-- Employee discount Free samples of many of our new products Opportunities to grow your career within the company On-going product knowledge programs and customer experience coaching Work in an  environment focused on and surrounded by beauty   Qualified applicants will receive consideration for employment without regard to their race, color, age, religion, nation origin, sex, sexual orientation, disability or other categories protected by law.   MONPOST  ",
          "United States of America/General/Other: Medical/Health",
          "United States of America",
          "United States of America",
          "United States of America",
          "United States of America",
          "United States of America",
          "United States of America",
          "United States of America",
          "United States of America",
          "United States of America",
          "United States of America",
          "United States of America",
          "United States of America",
          "United States of America",
          "United States of America",
          "United States of America",
          "United States of America",
          "United States of America",
          "United States of America",
          "United States of America",
          "United States of America",
          "United States of America",
          "United States of America",
          "United States of America",
          "United States of America",
          "United States of America",
          "United States of America",
          "United States of America",
          "United States of America",
          "United States of America",
          "United States of America",
          "United States of America",
          "United States of America",
          "United States of America",
          "United States of America",
          "United States of America",
          "United States of America",
          "United States of America",
          "United States of America",
          "United States of America",
          "United States of America",
          "United States of America",
          "United States of America",
          "United States of America",
          "United States of America",
          "United States of America",
          "United States of America",
          "United States of America",
          "United States of America",
          "United States of America",
          "United States of America",
          "United States of America",
          "United States of America",
          "United States of America",
          "United States of America",
          "United States of America",
          "United States of America",
          "United States of America",
          "United States of America",
          "United States of America",
          "United States of America",
          "United States of America",
          "United States of America",
          "United States of America",
          "United States of America",
          "United States of America",
          "United States of America",
          "United States of America",
          "United States of America",
          "United States of America",
          "United States of America",
          "United States of America",
          "United States of America",
          "United States of America",
          "United States of America",
          "United States of America",
          "United States of America",
          "United States of America",
          "United States of America",
          "United States of America",
          "United States of America",
          "United States of America",
          "United States of America",
          "United States of America",
          "United States of America",
          "United States of America",
          "United States of America",
          "United States of America",
          "United States of America",
          "United States of America",
          "United States of America",
          "United States of America",
          "United States of America",
          "United States of America",
          "United States of America",
          "United States of America",
          "United States of America",
          "United States of America",
          "United States of America",
          "United States of America",
          "United States of America",
          "United States of America",
          "United States of America",
          "United States of America",
          "United States of America",
          "United States of America",
          "United States of America",
          "United States of America",
          "United States of America",
          "United States of America",
          "United States of America",
          "United States of America",
          "United States of America",
          "United States of America",
          "United States of America",
          "United States of America",
          "United States of America",
          "United States of America",
          "United States of America",
          "United States of America",
          "United States of America",
          "United States of America",
          "United States of America",
          "United States of America",
          "United States of America",
          "United States of America",
          "United States of America",
          "United States of America",
          "United States of America",
          "United States of America",
          "United States of America",
          "United States of America",
          "United States of America",
          "United States of America",
          "United States of America",
          "United States of America",
          "United States of America",
          "United States of America",
          "United States of America",
          "United States of America",
          "United States of America",
          ""
         ],
         "values": {
          "dtype": "i2",
          "bdata": "AgE0C0gCTwMUAEIAYABEAj4AoAANAJoARQAPAAMAVwA9Ag4ALwChAAEA+AJkAA4AcwAgAAEAFwAHANkAlAEFAIwAJQBiACgAWABPAAIA7gAIAMQAAQAzAHQAOgABAAgAFwBuAQIAFgACAKEBFgAwAC0AAgAMAAUAAwAwAQcAqwEgAQwAIQCxADMACwAUAGsAAQCZADUAAQAaAAMAAgA3AGYADAEXAFwAYwBCAGQADQADAAEAEwBOACMAnwCrACQABwAUAAEAAQABABMAagABAFMAKgAIACIAAgACAAEAGAANAAcACAABAAQAEQAQAC4AFAAGABcAEgBhAD4ArAAoAA4ADQAFABIAAQABAAQABwAHAAMAAQADAAUAKAA9AAEAHgAGAIwA1gAJAAEAYAARAB0ABgAHAAEADQAHAAcAAQAFABEAAwABAAEAAgAJAAEAAQA3AAQAAQACAAEADgACAAEABgACABMABgAEAAEAFgABAAEAAgAIAAEACwABAAUAIQADACIAAQAGABAADQABAAEAAQAuAAMAQQAHAAQAAQACAAEABgAKAAkADAABAAUAAQABAAIADAADAAQAAQADABMAMAAIAAUACAAPAAMAAgAKAAEAAgABAAEAAwADAAEAAQADAAEAAQACAAEAAQAEAAMAAgACAAEAAQAGAAEAAgABAAYAAQARAAEAAQABAAQAAQACAAIAAQAEAAkABAAFAAEAAwAHAAMAAQABAAIAAQABAAQAAgABAAMAAwABAAQAAQABAAEABAAEAAEAAQACAAEAAgAFAAIAAQABAAQAAQABAAEAAwACAAEAAgABAAMAAgABAAIAAQAIAAEAAQABAAEAAgABAAEAAQABAAEAAQABAAEABQAGAAIAAQABAAEAAwACAAEAAQABAAMAAgABAAEABgAEAAEAAQABAAEAAQACAAMAAQABAAQAAQACAAEAAgACAAEAAQABAAEAAQACAAEAAQABAAEAAQAEAAEAAQABAAEAAwABAAEAAQAFAAEAAgABAAEAAQABAAEAAQABAAEAAQACAAEABAACAAEAAQABAAEAAQABAAEAAQABAAEAAwADAAEAAQADAAEAAgABAAEAAQABAAEAAQABAAEAAQABAAEAAQABAAEAAQACAAEAAQABAAEAAQBQA78RDwNAAYMEWwApAnoA3wKSABUAzwQuAXoDDAETAHUACABNAwYAZAA3AE8AAgABAEMAJQDpAAMANgElAccAdwIBAAMADQIXAAEAAQABADgBEgAJAAIABQAvAAsAAQANAAUAAQAEAAIABAABAAEAAQABAAEAAgABAAEAAgABABMAAwABAAIAAgABAAEAAQABAAEAAgABAAEAAQABAAEAAgACAAEACgABAAMAAgADAAYAAQAFAAEAAgABAAEABQABAAIAAQABAAEABQACAAEABgACAAYAAQABAAEAAQADAAEAAQABAAEAAQABAAEAAQABAAEAAQABAAIAAgABAAEAAwABAAEAAQACAAEAAQABAAEAAQABAAEAJz8="
         },
         "type": "sunburst"
        }
       ],
       "layout": {
        "template": {
         "data": {
          "barpolar": [
           {
            "marker": {
             "line": {
              "color": "white",
              "width": 0.5
             },
             "pattern": {
              "fillmode": "overlay",
              "size": 10,
              "solidity": 0.2
             }
            },
            "type": "barpolar"
           }
          ],
          "bar": [
           {
            "error_x": {
             "color": "#2a3f5f"
            },
            "error_y": {
             "color": "#2a3f5f"
            },
            "marker": {
             "line": {
              "color": "white",
              "width": 0.5
             },
             "pattern": {
              "fillmode": "overlay",
              "size": 10,
              "solidity": 0.2
             }
            },
            "type": "bar"
           }
          ],
          "carpet": [
           {
            "aaxis": {
             "endlinecolor": "#2a3f5f",
             "gridcolor": "#C8D4E3",
             "linecolor": "#C8D4E3",
             "minorgridcolor": "#C8D4E3",
             "startlinecolor": "#2a3f5f"
            },
            "baxis": {
             "endlinecolor": "#2a3f5f",
             "gridcolor": "#C8D4E3",
             "linecolor": "#C8D4E3",
             "minorgridcolor": "#C8D4E3",
             "startlinecolor": "#2a3f5f"
            },
            "type": "carpet"
           }
          ],
          "choropleth": [
           {
            "colorbar": {
             "outlinewidth": 0,
             "ticks": ""
            },
            "type": "choropleth"
           }
          ],
          "contourcarpet": [
           {
            "colorbar": {
             "outlinewidth": 0,
             "ticks": ""
            },
            "type": "contourcarpet"
           }
          ],
          "contour": [
           {
            "colorbar": {
             "outlinewidth": 0,
             "ticks": ""
            },
            "colorscale": [
             [
              0.0,
              "#0d0887"
             ],
             [
              0.1111111111111111,
              "#46039f"
             ],
             [
              0.2222222222222222,
              "#7201a8"
             ],
             [
              0.3333333333333333,
              "#9c179e"
             ],
             [
              0.4444444444444444,
              "#bd3786"
             ],
             [
              0.5555555555555556,
              "#d8576b"
             ],
             [
              0.6666666666666666,
              "#ed7953"
             ],
             [
              0.7777777777777778,
              "#fb9f3a"
             ],
             [
              0.8888888888888888,
              "#fdca26"
             ],
             [
              1.0,
              "#f0f921"
             ]
            ],
            "type": "contour"
           }
          ],
          "heatmap": [
           {
            "colorbar": {
             "outlinewidth": 0,
             "ticks": ""
            },
            "colorscale": [
             [
              0.0,
              "#0d0887"
             ],
             [
              0.1111111111111111,
              "#46039f"
             ],
             [
              0.2222222222222222,
              "#7201a8"
             ],
             [
              0.3333333333333333,
              "#9c179e"
             ],
             [
              0.4444444444444444,
              "#bd3786"
             ],
             [
              0.5555555555555556,
              "#d8576b"
             ],
             [
              0.6666666666666666,
              "#ed7953"
             ],
             [
              0.7777777777777778,
              "#fb9f3a"
             ],
             [
              0.8888888888888888,
              "#fdca26"
             ],
             [
              1.0,
              "#f0f921"
             ]
            ],
            "type": "heatmap"
           }
          ],
          "histogram2dcontour": [
           {
            "colorbar": {
             "outlinewidth": 0,
             "ticks": ""
            },
            "colorscale": [
             [
              0.0,
              "#0d0887"
             ],
             [
              0.1111111111111111,
              "#46039f"
             ],
             [
              0.2222222222222222,
              "#7201a8"
             ],
             [
              0.3333333333333333,
              "#9c179e"
             ],
             [
              0.4444444444444444,
              "#bd3786"
             ],
             [
              0.5555555555555556,
              "#d8576b"
             ],
             [
              0.6666666666666666,
              "#ed7953"
             ],
             [
              0.7777777777777778,
              "#fb9f3a"
             ],
             [
              0.8888888888888888,
              "#fdca26"
             ],
             [
              1.0,
              "#f0f921"
             ]
            ],
            "type": "histogram2dcontour"
           }
          ],
          "histogram2d": [
           {
            "colorbar": {
             "outlinewidth": 0,
             "ticks": ""
            },
            "colorscale": [
             [
              0.0,
              "#0d0887"
             ],
             [
              0.1111111111111111,
              "#46039f"
             ],
             [
              0.2222222222222222,
              "#7201a8"
             ],
             [
              0.3333333333333333,
              "#9c179e"
             ],
             [
              0.4444444444444444,
              "#bd3786"
             ],
             [
              0.5555555555555556,
              "#d8576b"
             ],
             [
              0.6666666666666666,
              "#ed7953"
             ],
             [
              0.7777777777777778,
              "#fb9f3a"
             ],
             [
              0.8888888888888888,
              "#fdca26"
             ],
             [
              1.0,
              "#f0f921"
             ]
            ],
            "type": "histogram2d"
           }
          ],
          "histogram": [
           {
            "marker": {
             "pattern": {
              "fillmode": "overlay",
              "size": 10,
              "solidity": 0.2
             }
            },
            "type": "histogram"
           }
          ],
          "mesh3d": [
           {
            "colorbar": {
             "outlinewidth": 0,
             "ticks": ""
            },
            "type": "mesh3d"
           }
          ],
          "parcoords": [
           {
            "line": {
             "colorbar": {
              "outlinewidth": 0,
              "ticks": ""
             }
            },
            "type": "parcoords"
           }
          ],
          "pie": [
           {
            "automargin": true,
            "type": "pie"
           }
          ],
          "scatter3d": [
           {
            "line": {
             "colorbar": {
              "outlinewidth": 0,
              "ticks": ""
             }
            },
            "marker": {
             "colorbar": {
              "outlinewidth": 0,
              "ticks": ""
             }
            },
            "type": "scatter3d"
           }
          ],
          "scattercarpet": [
           {
            "marker": {
             "colorbar": {
              "outlinewidth": 0,
              "ticks": ""
             }
            },
            "type": "scattercarpet"
           }
          ],
          "scattergeo": [
           {
            "marker": {
             "colorbar": {
              "outlinewidth": 0,
              "ticks": ""
             }
            },
            "type": "scattergeo"
           }
          ],
          "scattergl": [
           {
            "marker": {
             "colorbar": {
              "outlinewidth": 0,
              "ticks": ""
             }
            },
            "type": "scattergl"
           }
          ],
          "scattermapbox": [
           {
            "marker": {
             "colorbar": {
              "outlinewidth": 0,
              "ticks": ""
             }
            },
            "type": "scattermapbox"
           }
          ],
          "scattermap": [
           {
            "marker": {
             "colorbar": {
              "outlinewidth": 0,
              "ticks": ""
             }
            },
            "type": "scattermap"
           }
          ],
          "scatterpolargl": [
           {
            "marker": {
             "colorbar": {
              "outlinewidth": 0,
              "ticks": ""
             }
            },
            "type": "scatterpolargl"
           }
          ],
          "scatterpolar": [
           {
            "marker": {
             "colorbar": {
              "outlinewidth": 0,
              "ticks": ""
             }
            },
            "type": "scatterpolar"
           }
          ],
          "scatter": [
           {
            "fillpattern": {
             "fillmode": "overlay",
             "size": 10,
             "solidity": 0.2
            },
            "type": "scatter"
           }
          ],
          "scatterternary": [
           {
            "marker": {
             "colorbar": {
              "outlinewidth": 0,
              "ticks": ""
             }
            },
            "type": "scatterternary"
           }
          ],
          "surface": [
           {
            "colorbar": {
             "outlinewidth": 0,
             "ticks": ""
            },
            "colorscale": [
             [
              0.0,
              "#0d0887"
             ],
             [
              0.1111111111111111,
              "#46039f"
             ],
             [
              0.2222222222222222,
              "#7201a8"
             ],
             [
              0.3333333333333333,
              "#9c179e"
             ],
             [
              0.4444444444444444,
              "#bd3786"
             ],
             [
              0.5555555555555556,
              "#d8576b"
             ],
             [
              0.6666666666666666,
              "#ed7953"
             ],
             [
              0.7777777777777778,
              "#fb9f3a"
             ],
             [
              0.8888888888888888,
              "#fdca26"
             ],
             [
              1.0,
              "#f0f921"
             ]
            ],
            "type": "surface"
           }
          ],
          "table": [
           {
            "cells": {
             "fill": {
              "color": "#EBF0F8"
             },
             "line": {
              "color": "white"
             }
            },
            "header": {
             "fill": {
              "color": "#C8D4E3"
             },
             "line": {
              "color": "white"
             }
            },
            "type": "table"
           }
          ]
         },
         "layout": {
          "annotationdefaults": {
           "arrowcolor": "#2a3f5f",
           "arrowhead": 0,
           "arrowwidth": 1
          },
          "autotypenumbers": "strict",
          "coloraxis": {
           "colorbar": {
            "outlinewidth": 0,
            "ticks": ""
           }
          },
          "colorscale": {
           "diverging": [
            [
             0,
             "#8e0152"
            ],
            [
             0.1,
             "#c51b7d"
            ],
            [
             0.2,
             "#de77ae"
            ],
            [
             0.3,
             "#f1b6da"
            ],
            [
             0.4,
             "#fde0ef"
            ],
            [
             0.5,
             "#f7f7f7"
            ],
            [
             0.6,
             "#e6f5d0"
            ],
            [
             0.7,
             "#b8e186"
            ],
            [
             0.8,
             "#7fbc41"
            ],
            [
             0.9,
             "#4d9221"
            ],
            [
             1,
             "#276419"
            ]
           ],
           "sequential": [
            [
             0.0,
             "#0d0887"
            ],
            [
             0.1111111111111111,
             "#46039f"
            ],
            [
             0.2222222222222222,
             "#7201a8"
            ],
            [
             0.3333333333333333,
             "#9c179e"
            ],
            [
             0.4444444444444444,
             "#bd3786"
            ],
            [
             0.5555555555555556,
             "#d8576b"
            ],
            [
             0.6666666666666666,
             "#ed7953"
            ],
            [
             0.7777777777777778,
             "#fb9f3a"
            ],
            [
             0.8888888888888888,
             "#fdca26"
            ],
            [
             1.0,
             "#f0f921"
            ]
           ],
           "sequentialminus": [
            [
             0.0,
             "#0d0887"
            ],
            [
             0.1111111111111111,
             "#46039f"
            ],
            [
             0.2222222222222222,
             "#7201a8"
            ],
            [
             0.3333333333333333,
             "#9c179e"
            ],
            [
             0.4444444444444444,
             "#bd3786"
            ],
            [
             0.5555555555555556,
             "#d8576b"
            ],
            [
             0.6666666666666666,
             "#ed7953"
            ],
            [
             0.7777777777777778,
             "#fb9f3a"
            ],
            [
             0.8888888888888888,
             "#fdca26"
            ],
            [
             1.0,
             "#f0f921"
            ]
           ]
          },
          "colorway": [
           "#636efa",
           "#EF553B",
           "#00cc96",
           "#ab63fa",
           "#FFA15A",
           "#19d3f3",
           "#FF6692",
           "#B6E880",
           "#FF97FF",
           "#FECB52"
          ],
          "font": {
           "color": "#2a3f5f"
          },
          "geo": {
           "bgcolor": "white",
           "lakecolor": "white",
           "landcolor": "white",
           "showlakes": true,
           "showland": true,
           "subunitcolor": "#C8D4E3"
          },
          "hoverlabel": {
           "align": "left"
          },
          "hovermode": "closest",
          "mapbox": {
           "style": "light"
          },
          "paper_bgcolor": "white",
          "plot_bgcolor": "white",
          "polar": {
           "angularaxis": {
            "gridcolor": "#EBF0F8",
            "linecolor": "#EBF0F8",
            "ticks": ""
           },
           "bgcolor": "white",
           "radialaxis": {
            "gridcolor": "#EBF0F8",
            "linecolor": "#EBF0F8",
            "ticks": ""
           }
          },
          "scene": {
           "xaxis": {
            "backgroundcolor": "white",
            "gridcolor": "#DFE8F3",
            "gridwidth": 2,
            "linecolor": "#EBF0F8",
            "showbackground": true,
            "ticks": "",
            "zerolinecolor": "#EBF0F8"
           },
           "yaxis": {
            "backgroundcolor": "white",
            "gridcolor": "#DFE8F3",
            "gridwidth": 2,
            "linecolor": "#EBF0F8",
            "showbackground": true,
            "ticks": "",
            "zerolinecolor": "#EBF0F8"
           },
           "zaxis": {
            "backgroundcolor": "white",
            "gridcolor": "#DFE8F3",
            "gridwidth": 2,
            "linecolor": "#EBF0F8",
            "showbackground": true,
            "ticks": "",
            "zerolinecolor": "#EBF0F8"
           }
          },
          "shapedefaults": {
           "line": {
            "color": "#2a3f5f"
           }
          },
          "ternary": {
           "aaxis": {
            "gridcolor": "#DFE8F3",
            "linecolor": "#A2B1C6",
            "ticks": ""
           },
           "baxis": {
            "gridcolor": "#DFE8F3",
            "linecolor": "#A2B1C6",
            "ticks": ""
           },
           "bgcolor": "white",
           "caxis": {
            "gridcolor": "#DFE8F3",
            "linecolor": "#A2B1C6",
            "ticks": ""
           }
          },
          "title": {
           "x": 0.05
          },
          "xaxis": {
           "automargin": true,
           "gridcolor": "#EBF0F8",
           "linecolor": "#EBF0F8",
           "ticks": "",
           "title": {
            "standoff": 15
           },
           "zerolinecolor": "#EBF0F8",
           "zerolinewidth": 2
          },
          "yaxis": {
           "automargin": true,
           "gridcolor": "#EBF0F8",
           "linecolor": "#EBF0F8",
           "ticks": "",
           "title": {
            "standoff": 15
           },
           "zerolinecolor": "#EBF0F8",
           "zerolinewidth": 2
          }
         }
        },
        "legend": {
         "tracegroupgap": 0
        },
        "title": {
         "text": "🌞 Иерархическая структура вакансий: Страна → Сектор → Тип работы"
        },
        "sunburstcolorway": [
         "rgb(141,211,199)",
         "rgb(255,255,179)",
         "rgb(190,186,218)",
         "rgb(251,128,114)",
         "rgb(128,177,211)",
         "rgb(253,180,98)",
         "rgb(179,222,105)",
         "rgb(252,205,229)",
         "rgb(217,217,217)",
         "rgb(188,128,189)",
         "rgb(204,235,197)",
         "rgb(255,237,111)"
        ],
        "height": 600
       },
       "config": {
        "plotlyServerURL": "https://plot.ly"
       }
      }
     },
     "metadata": {},
     "output_type": "display_data"
    }
   ],
   "execution_count": 223
  },
  {
   "metadata": {},
   "cell_type": "markdown",
   "source": [
    "### 7.2 Статистические графики (Seaborn)\n",
    "\n",
    "Создаем набор статистических визуализаций с единым стилем для глубокого анализа данных.\n"
   ],
   "id": "9543e9b54dfb2bb7"
  },
  {
   "metadata": {
    "ExecuteTime": {
     "end_time": "2025-10-29T18:14:39.576396Z",
     "start_time": "2025-10-29T18:14:39.572085Z"
    }
   },
   "cell_type": "code",
   "source": [
    "# Настройка единого стиля для всех графиков Seaborn\n",
    "sns.set_theme(style=\"whitegrid\")\n",
    "sns.set_context(\"notebook\", font_scale=1.2)\n",
    "\n",
    "# Кастомная палитра\n",
    "custom_palette = sns.color_palette(\"husl\", 10)\n",
    "\n",
    "# Настройка matplotlib\n",
    "plt.rcParams['figure.figsize'] = (14, 10)\n",
    "plt.rcParams['font.size'] = 11\n",
    "plt.rcParams['axes.titlesize'] = 14\n",
    "plt.rcParams['axes.titleweight'] = 'bold'\n",
    "\n",
    "print(\"✅ Единый стиль применен\")\n"
   ],
   "id": "21199dfddcdccda",
   "outputs": [
    {
     "name": "stdout",
     "output_type": "stream",
     "text": [
      "✅ Единый стиль применен\n"
     ]
    }
   ],
   "execution_count": 224
  },
  {
   "metadata": {
    "ExecuteTime": {
     "end_time": "2025-10-29T18:14:39.936908Z",
     "start_time": "2025-10-29T18:14:39.621345Z"
    }
   },
   "cell_type": "code",
   "source": [
    "# Создаем сетку графиков (Grid Plot)\n",
    "fig, axes = plt.subplots(2, 2, figsize=(16, 12))\n",
    "fig.suptitle('Комплексный анализ вакансий', fontsize=18, fontweight='bold', y=0.995)\n",
    "\n",
    "# График 1: Топ-10 стран\n",
    "if 'country' in df.columns:\n",
    "    top_countries = df['country'].value_counts().head(10)\n",
    "    bars = axes[0, 0].barh(range(len(top_countries)), top_countries.values, color=custom_palette[:len(top_countries)])\n",
    "    axes[0, 0].set_yticks(range(len(top_countries)))\n",
    "    axes[0, 0].set_yticklabels(top_countries.index)\n",
    "    axes[0, 0].set_title('Топ-10 стран по вакансиям')\n",
    "    axes[0, 0].set_xlabel('Количество')\n",
    "    axes[0, 0].set_ylabel('Страна')\n",
    "    axes[0, 0].invert_yaxis()\n",
    "\n",
    "# График 2: Типы работы\n",
    "if 'job_type' in df.columns:\n",
    "    job_type_counts = df['job_type'].value_counts().head(8)\n",
    "    colors_viridis = plt.cm.viridis(np.linspace(0, 1, len(job_type_counts)))\n",
    "    bars = axes[0, 1].barh(range(len(job_type_counts)), job_type_counts.values, color=colors_viridis)\n",
    "    axes[0, 1].set_yticks(range(len(job_type_counts)))\n",
    "    axes[0, 1].set_yticklabels(job_type_counts.index)\n",
    "    axes[0, 1].set_title('Распределение по типам работы')\n",
    "    axes[0, 1].set_xlabel('Количество')\n",
    "    axes[0, 1].set_ylabel('Тип работы')\n",
    "    axes[0, 1].invert_yaxis()\n",
    "\n",
    "# График 3: Сектора\n",
    "if 'sector' in df.columns:\n",
    "    sector_counts = df['sector'].value_counts().head(10)\n",
    "    colors = sns.color_palette('Set2', len(sector_counts))\n",
    "\n",
    "    axes[1, 0].pie(\n",
    "        sector_counts.values,\n",
    "        labels=sector_counts.index,\n",
    "        autopct='%1.1f%%',\n",
    "        colors=colors,\n",
    "        startangle=90\n",
    "    )\n",
    "    axes[1, 0].set_title('Распределение по секторам')\n",
    "\n",
    "# График 4: Статус вакансий\n",
    "if 'has_expired' in df.columns:\n",
    "    expired_counts = df['has_expired'].value_counts()\n",
    "    colors_status = ['#2ecc71', '#e74c3c'][:len(expired_counts)]\n",
    "    bars = axes[1, 1].bar(range(len(expired_counts)), expired_counts.values, color=colors_status)\n",
    "    axes[1, 1].set_xticks(range(len(expired_counts)))\n",
    "    axes[1, 1].set_xticklabels(expired_counts.index.astype(str))\n",
    "    axes[1, 1].set_title('Статус вакансий')\n",
    "    axes[1, 1].set_xlabel('Истекла')\n",
    "    axes[1, 1].set_ylabel('Количество')\n",
    "\n",
    "plt.tight_layout()\n",
    "plt.show()\n"
   ],
   "id": "336131dd8aebb235",
   "outputs": [
    {
     "data": {
      "text/plain": [
       "<Figure size 1600x1200 with 4 Axes>"
      ],
      "image/png": "[encoded data removed]"
     },
     "metadata": {},
     "output_type": "display_data"
    }
   ],
   "execution_count": 225
  },
  {
   "metadata": {
    "ExecuteTime": {
     "end_time": "2025-10-29T18:14:40.095762Z",
     "start_time": "2025-10-29T18:14:39.958782Z"
    }
   },
   "cell_type": "code",
   "source": [
    "# Дополнительная визуализация: Топ локаций\n",
    "if 'location' in df.columns:\n",
    "    plt.figure(figsize=(12, 8))\n",
    "\n",
    "    top_locations = df['location'].value_counts().head(15)\n",
    "    colors = plt.cm.tab20(np.linspace(0, 1, len(top_locations)))\n",
    "\n",
    "    plt.barh(range(len(top_locations)), top_locations.values, color=colors)\n",
    "    plt.yticks(range(len(top_locations)), top_locations.index)\n",
    "    plt.xlabel('Количество вакансий', fontsize=12)\n",
    "    plt.ylabel('Локация', fontsize=12)\n",
    "    plt.title('Топ-15 локаций по количеству вакансий', fontsize=16, fontweight='bold')\n",
    "    plt.gca().invert_yaxis()\n",
    "\n",
    "    for i, v in enumerate(top_locations.values):\n",
    "        plt.text(v + 0.5, i, str(v), va='center', fontsize=10)\n",
    "\n",
    "    plt.tight_layout()\n",
    "    plt.show()\n",
    "else:\n",
    "    print(\"⚠️  Столбец 'location' не найден\")\n"
   ],
   "id": "f34dd8bf7b3de005",
   "outputs": [
    {
     "data": {
      "text/plain": [
       "<Figure size 1200x800 with 1 Axes>"
      ],
      "image/png": "[encoded data removed]"
     },
     "metadata": {},
     "output_type": "display_data"
    }
   ],
   "execution_count": 226
  },
  {
   "metadata": {
    "ExecuteTime": {
     "end_time": "2025-10-29T18:15:21.926855Z",
     "start_time": "2025-10-29T18:15:21.836714Z"
    }
   },
   "cell_type": "code",
   "source": [
    "# Boxplot для анализа зарплат по странам (если есть данные о зарплатах)\n",
    "if 'salary' in df.columns and 'country' in df.columns:\n",
    "    salary_data = df[df['salary'].notna()].copy()\n",
    "\n",
    "    if len(salary_data) > 0:\n",
    "        # Берем топ-8 стран с зарплатами\n",
    "        top_countries_salary = salary_data['country'].value_counts().head(8).index\n",
    "        salary_filtered = salary_data[salary_data['country'].isin(top_countries_salary)]\n",
    "\n",
    "        plt.figure(figsize=(14, 6))\n",
    "        sns.boxplot(\n",
    "            data=salary_filtered,\n",
    "            x='country',\n",
    "            y='salary',\n",
    "            hue='country',\n",
    "            palette='Set3',\n",
    "            legend=False\n",
    "        )\n",
    "        plt.title('Распределение зарплат по странам (Топ-8)', fontsize=16, fontweight='bold')\n",
    "        plt.xlabel('Страна', fontsize=12)\n",
    "        plt.ylabel('Зарплата', fontsize=12)\n",
    "        plt.xticks(rotation=45, ha='right')\n",
    "        plt.tight_layout()\n",
    "        plt.show()\n"
   ],
   "id": "d19ae4d6a5c8903b",
   "outputs": [
    {
     "data": {
      "text/plain": [
       "<Figure size 1400x600 with 1 Axes>"
      ],
      "image/png": "[encoded data removed]"
     },
     "metadata": {},
     "output_type": "display_data"
    }
   ],
   "execution_count": 229
  },
  {
   "metadata": {
    "ExecuteTime": {
     "end_time": "2025-10-29T18:16:01.090674Z",
     "start_time": "2025-10-29T18:16:00.989037Z"
    }
   },
   "cell_type": "code",
   "source": [
    "# Violin plot: распределение вакансий по job_board\n",
    "if 'job_board' in df.columns:\n",
    "    job_board_counts = df['job_board'].value_counts().head(6).index\n",
    "    df_boards = df[df['job_board'].isin(job_board_counts)].copy()\n",
    "\n",
    "    if 'country' in df.columns:\n",
    "        plt.figure(figsize=(14, 6))\n",
    "        sns.violinplot(\n",
    "            data=df_boards,\n",
    "            x='job_board',\n",
    "            hue='job_board',\n",
    "            palette='muted',\n",
    "            legend=False\n",
    "        )\n",
    "        plt.title('Распределение вакансий по платформам', fontsize=16, fontweight='bold')\n",
    "        plt.xlabel('Платформа размещения', fontsize=12)\n",
    "        plt.ylabel('Плотность', fontsize=12)\n",
    "        plt.xticks(rotation=45, ha='right')\n",
    "        plt.tight_layout()\n",
    "        plt.show()\n"
   ],
   "id": "a63567d6b50cca5e",
   "outputs": [
    {
     "data": {
      "text/plain": [
       "<Figure size 1400x600 with 1 Axes>"
      ],
      "image/png": "[encoded data removed]"
     },
     "metadata": {},
     "output_type": "display_data"
    }
   ],
   "execution_count": 230
  },
  {
   "metadata": {},
   "cell_type": "markdown",
   "source": [
    "### Выводы по визуализации\n",
    "\n",
    "**Интерактивные графики (Plotly):**\n",
    "- Позволяют детально изучить данные с возможностью масштабирования и фильтрации\n",
    "- Особенно полезны для анализа временных рядов и иерархических данных\n",
    "- Sunburst диаграмма показывает многоуровневую структуру вакансий\n",
    "\n",
    "**Статистические графики (Seaborn):**\n",
    "- Единый стиль визуализации обеспечивает профессиональный вид\n",
    "- Сетка графиков позволяет сравнивать различные аспекты данных\n",
    "- Boxplot и violin plot помогают выявить распределения и выбросы\n",
    "\n",
    "**Общие инсайты:**\n",
    "- Визуализация подтверждает выводы из EDA\n",
    "- Графики помогают выявить скрытые паттерны в данных\n",
    "- Интерактивность Plotly и детализация Seaborn дополняют друг друга\n"
   ],
   "id": "a6ce234f28454c9a"
  }
 ],
 "metadata": {
  "kernelspec": {
   "display_name": "Python 3",
   "language": "python",
   "name": "python3"
  },
  "language_info": {
   "codemirror_mode": {
    "name": "ipython",
    "version": 2
   },
   "file_extension": ".py",
   "mimetype": "text/x-python",
   "name": "python",
   "nbconvert_exporter": "python",
   "pygments_lexer": "ipython2",
   "version": "2.7.6"
  }
 },
 "nbformat": 4,
 "nbformat_minor": 5
}
