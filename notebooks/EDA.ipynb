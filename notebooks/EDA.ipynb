{
 "cells": [
  {
   "metadata": {},
   "cell_type": "markdown",
   "source": [
    "# Исследовательский анализ данных (EDA) датасета Titanic\n",
    "\n",
    "Цель анализа: оценить структуру, полноту и качество данных, выявить возможные выбросы и аномалии для последующей подготовки данных к моделированию.\n"
   ],
   "id": "f1deb25bd3a27345"
  },
  {
   "metadata": {
    "jupyter": {
     "is_executing": true
    }
   },
   "cell_type": "code",
   "source": [
    "import pandas as pd\n",
    "import numpy as np\n",
    "\n",
    "FILE_ID = \"1Tj8RQHUh7MTmE88paqDBqDJZ5Ru6mOtL\"\n",
    "file_url = f\"https://drive.google.com/uc?export=download&id={FILE_ID}\"\n",
    "\n",
    "# Загрузка датасета с учетом кавычек и пробелов\n",
    "df_raw = pd.read_csv(file_url, sep=\",\", quotechar='\"', skipinitialspace=True, encoding=\"utf-8\")\n",
    "\n",
    "print(f\"Размер датасета: {df_raw.shape[0]} строк, {df_raw.shape[1]} столбцов\")\n",
    "print(\"\\nПервые 10 строк:\")\n",
    "display(df_raw.head(10))"
   ],
   "id": "506004ab6bfeaaa",
   "outputs": [],
   "execution_count": null
  },
  {
   "metadata": {},
   "cell_type": "code",
   "outputs": [],
   "execution_count": null,
   "source": [
    "df = df_raw.copy()\n",
    "\n",
    "# Приведение к числовым типам (Int32 nullable и Float32)\n",
    "int_cols = [\"PassengerId\", \"Survived\", \"Pclass\", \"SibSp\", \"Parch\"]\n",
    "for col in int_cols:\n",
    "    df[col] = pd.to_numeric(df[col], errors=\"coerce\").astype(\"Int32\")\n",
    "\n",
    "float_cols = [\"Age\", \"Fare\"]\n",
    "for col in float_cols:\n",
    "    df[col] = pd.to_numeric(df[col], errors=\"coerce\").astype(\"Float32\")\n",
    "\n",
    "# Текстовые и категориальные признаки\n",
    "df[\"Name\"] = df[\"Name\"].astype(\"string\")\n",
    "cat_cols = [\"Sex\", \"Ticket\", \"Cabin\", \"Embarked\"]\n",
    "for col in cat_cols:\n",
    "    df[col] = df[col].astype(\"string\").astype(\"category\")\n",
    "\n",
    "print(\"\\nТипы данных после приведения:\")\n",
    "print(df.dtypes)"
   ],
   "id": "dca8e7a982f063ac"
  },
  {
   "metadata": {},
   "cell_type": "code",
   "outputs": [],
   "execution_count": null,
   "source": [
    "print(\"\\nОбщая информация по датасету:\")\n",
    "df.info()\n",
    "\n",
    "print(\"\\nКоличество уникальных значений в категориальных столбцах:\")\n",
    "for col in cat_cols:\n",
    "    unique_vals = df[col].nunique()\n",
    "    print(f\" - {col}: {unique_vals}\")\n",
    "\n",
    "print(\"\\nОсновные статистики числовых характеристик:\")\n",
    "display(df.describe())"
   ],
   "id": "4a53b39b30b3ab9d"
  },
  {
   "metadata": {},
   "cell_type": "code",
   "outputs": [],
   "execution_count": null,
   "source": [
    "print(\"\\nПропущенные значения по столбцам:\")\n",
    "missing_counts = df.isna().sum()\n",
    "missing_percent = (missing_counts / len(df)) * 100\n",
    "missing_df = pd.DataFrame({\"count_missing\": missing_counts, \"percent_missing\": missing_percent})\n",
    "display(missing_df)\n",
    "\n",
    "print(\"Вывод: Колонки с наибольшим процентом пропусков требуют внимания при обработке.\")"
   ],
   "id": "e24183e76c7d4be1"
  },
  {
   "metadata": {},
   "cell_type": "code",
   "outputs": [],
   "execution_count": null,
   "source": [
    "def find_outliers_iqr(data, col):\n",
    "    Q1 = data[col].quantile(0.25)\n",
    "    Q3 = data[col].quantile(0.75)\n",
    "    IQR = Q3 - Q1\n",
    "    lower_bound = Q1 - 1.5 * IQR\n",
    "    upper_bound = Q3 + 1.5 * IQR\n",
    "    outliers = data[(data[col] < lower_bound) | (data[col] > upper_bound)]\n",
    "    return outliers\n",
    "\n",
    "num_cols = int_cols + float_cols\n",
    "print(\"\\nВыбросы в числовых признаках:\")\n",
    "for col in num_cols:\n",
    "    outliers = find_outliers_iqr(df, col)\n",
    "    print(f\" - {col}: {len(outliers)} выбросов ({len(outliers)/len(df)*100:.2f} % от данных)\")"
   ],
   "id": "fca798ebfaf15a4f"
  },
  {
   "metadata": {},
   "cell_type": "markdown",
   "source": [
    "Выводы:\n",
    "- Датасет содержит 891 строку и 12 столбцов.\n",
    "- Есть пропуски в столбцах Age, Cabin и Embarked, наибольшие пропуски в Cabin (~77%).\n",
    "- Выбросы выявлены в числовых столбцах Fare, Age и других; требует дальнейшего анализа и решения.\n",
    "- Типы данных приведены к оптимальным для дальнейшей работы.\n",
    "\n",
    "Рекомендуется:\n",
    "- Обработать пропуски в Age и Embarked, возможно, заменить или удалить.\n",
    "- Рассмотреть удаление или кодирование Cabin из-за большого количества пропусков.\n",
    "- Учесть выбросы при построении модели."
   ],
   "id": "611ad0efb28bc9ea"
  },
  {
   "metadata": {},
   "cell_type": "code",
   "outputs": [],
   "execution_count": null,
   "source": [
    "# Пример - Создание бинарного признака \"IsAlone\" по SibSp и Parch\n",
    "df['IsAlone'] = ((df['SibSp'] + df['Parch']) == 0).astype('Int32')\n",
    "print(\"\\nДобавлен бинарный признак IsAlone.\")\n",
    "display(df[['SibSp', 'Parch', 'IsAlone']].head())\n",
    "\n",
    "# Корреляционная матрица числовых признаков (без сложной визуализации)\n",
    "print(\"\\nКорреляционная матрица:\")\n",
    "corr_matrix = df[num_cols + ['IsAlone']].corr()\n",
    "display(corr_matrix)"
   ],
   "id": "439cd3ac5f67802c"
  }
 ],
 "metadata": {},
 "nbformat": 4,
 "nbformat_minor": 5
}
